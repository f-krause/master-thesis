{
 "cells": [
  {
   "cell_type": "markdown",
   "id": "d6a2d05cd3a2acd3",
   "metadata": {},
   "source": [
    "# Dev notebook for manual work"
   ]
  },
  {
   "cell_type": "code",
   "execution_count": 7,
   "id": "89db738184827f6c",
   "metadata": {
    "ExecuteTime": {
     "end_time": "2024-09-03T13:48:16.677285Z",
     "start_time": "2024-09-03T13:48:13.972176Z"
    }
   },
   "outputs": [],
   "source": [
    "import pandas as pd\n",
    "import numpy as np\n",
    "import matplotlib.pyplot as plt\n",
    "import pickle"
   ]
  },
  {
   "cell_type": "markdown",
   "id": "1a7bcb3a1b2b137a",
   "metadata": {},
   "source": [
    "## Creating ptr.csv"
   ]
  },
  {
   "cell_type": "code",
   "execution_count": 3,
   "id": "4ab9a6455958b47e",
   "metadata": {
    "ExecuteTime": {
     "end_time": "2024-08-08T13:19:42.252969Z",
     "start_time": "2024-08-08T13:19:23.567002Z"
    }
   },
   "outputs": [],
   "source": [
    "# read excel file in data\n",
    "data = pd.read_excel('../../data/Additional file 2.xlsx', sheet_name='PTR_Eraslan2019')"
   ]
  },
  {
   "cell_type": "code",
   "execution_count": 4,
   "id": "e1b352898c680b13",
   "metadata": {
    "ExecuteTime": {
     "end_time": "2024-08-08T13:19:46.755567Z",
     "start_time": "2024-08-08T13:19:46.553158Z"
    }
   },
   "outputs": [],
   "source": [
    "# Store\n",
    "data.to_csv('../../data/ptr.csv', index=False)"
   ]
  },
  {
   "cell_type": "code",
   "execution_count": 5,
   "id": "2a07807ee7604a75",
   "metadata": {
    "ExecuteTime": {
     "end_time": "2024-08-08T13:20:05.732852Z",
     "start_time": "2024-08-08T13:20:05.700183Z"
    }
   },
   "outputs": [
    {
     "data": {
      "text/html": [
       "<div>\n",
       "<style scoped>\n",
       "    .dataframe tbody tr th:only-of-type {\n",
       "        vertical-align: middle;\n",
       "    }\n",
       "\n",
       "    .dataframe tbody tr th {\n",
       "        vertical-align: top;\n",
       "    }\n",
       "\n",
       "    .dataframe thead th {\n",
       "        text-align: right;\n",
       "    }\n",
       "</style>\n",
       "<table border=\"1\" class=\"dataframe\">\n",
       "  <thead>\n",
       "    <tr style=\"text-align: right;\">\n",
       "      <th></th>\n",
       "      <th>GeneName</th>\n",
       "      <th>EnsemblGeneID</th>\n",
       "      <th>EnsemblTranscriptID</th>\n",
       "      <th>EnsemblProteinID</th>\n",
       "      <th>Adrenal</th>\n",
       "      <th>Appendices</th>\n",
       "      <th>Brain</th>\n",
       "      <th>Colon</th>\n",
       "      <th>Duodenum</th>\n",
       "      <th>Uterus</th>\n",
       "      <th>...</th>\n",
       "      <th>Rectum</th>\n",
       "      <th>Salivarygland</th>\n",
       "      <th>Smallintestine</th>\n",
       "      <th>Smoothmuscle</th>\n",
       "      <th>Spleen</th>\n",
       "      <th>Stomach</th>\n",
       "      <th>Testis</th>\n",
       "      <th>Thyroid</th>\n",
       "      <th>Tonsil</th>\n",
       "      <th>Urinarybladder</th>\n",
       "    </tr>\n",
       "  </thead>\n",
       "  <tbody>\n",
       "    <tr>\n",
       "      <th>0</th>\n",
       "      <td>A1BG</td>\n",
       "      <td>ENSG00000121410</td>\n",
       "      <td>ENST00000263100</td>\n",
       "      <td>ENSP00000263100</td>\n",
       "      <td>NaN</td>\n",
       "      <td>8.277</td>\n",
       "      <td>NaN</td>\n",
       "      <td>NaN</td>\n",
       "      <td>NaN</td>\n",
       "      <td>NaN</td>\n",
       "      <td>...</td>\n",
       "      <td>NaN</td>\n",
       "      <td>7.718</td>\n",
       "      <td>NaN</td>\n",
       "      <td>NaN</td>\n",
       "      <td>7.313</td>\n",
       "      <td>NaN</td>\n",
       "      <td>NaN</td>\n",
       "      <td>NaN</td>\n",
       "      <td>NaN</td>\n",
       "      <td>NaN</td>\n",
       "    </tr>\n",
       "    <tr>\n",
       "      <th>1</th>\n",
       "      <td>A1CF</td>\n",
       "      <td>ENSG00000148584</td>\n",
       "      <td>ENST00000373993</td>\n",
       "      <td>ENSP00000363105</td>\n",
       "      <td>NaN</td>\n",
       "      <td>NaN</td>\n",
       "      <td>NaN</td>\n",
       "      <td>5.135</td>\n",
       "      <td>5.371</td>\n",
       "      <td>NaN</td>\n",
       "      <td>...</td>\n",
       "      <td>5.147</td>\n",
       "      <td>NaN</td>\n",
       "      <td>5.202</td>\n",
       "      <td>NaN</td>\n",
       "      <td>NaN</td>\n",
       "      <td>5.8143</td>\n",
       "      <td>NaN</td>\n",
       "      <td>NaN</td>\n",
       "      <td>NaN</td>\n",
       "      <td>NaN</td>\n",
       "    </tr>\n",
       "    <tr>\n",
       "      <th>2</th>\n",
       "      <td>A2M</td>\n",
       "      <td>ENSG00000175899</td>\n",
       "      <td>ENST00000318602</td>\n",
       "      <td>ENSP00000323929</td>\n",
       "      <td>6.290</td>\n",
       "      <td>6.328</td>\n",
       "      <td>5.948</td>\n",
       "      <td>5.811</td>\n",
       "      <td>6.068</td>\n",
       "      <td>5.383</td>\n",
       "      <td>...</td>\n",
       "      <td>6.081</td>\n",
       "      <td>5.726</td>\n",
       "      <td>5.699</td>\n",
       "      <td>4.997</td>\n",
       "      <td>5.136</td>\n",
       "      <td>6.5349</td>\n",
       "      <td>5.820</td>\n",
       "      <td>6.060</td>\n",
       "      <td>5.675</td>\n",
       "      <td>5.8286</td>\n",
       "    </tr>\n",
       "    <tr>\n",
       "      <th>3</th>\n",
       "      <td>A2ML1</td>\n",
       "      <td>ENSG00000166535</td>\n",
       "      <td>ENST00000299698</td>\n",
       "      <td>ENSP00000299698</td>\n",
       "      <td>NaN</td>\n",
       "      <td>NaN</td>\n",
       "      <td>3.995</td>\n",
       "      <td>NaN</td>\n",
       "      <td>NaN</td>\n",
       "      <td>NaN</td>\n",
       "      <td>...</td>\n",
       "      <td>NaN</td>\n",
       "      <td>NaN</td>\n",
       "      <td>NaN</td>\n",
       "      <td>NaN</td>\n",
       "      <td>NaN</td>\n",
       "      <td>NaN</td>\n",
       "      <td>2.350</td>\n",
       "      <td>NaN</td>\n",
       "      <td>5.249</td>\n",
       "      <td>NaN</td>\n",
       "    </tr>\n",
       "    <tr>\n",
       "      <th>4</th>\n",
       "      <td>A4GALT</td>\n",
       "      <td>ENSG00000128274</td>\n",
       "      <td>ENST00000401850</td>\n",
       "      <td>ENSP00000384794</td>\n",
       "      <td>3.843</td>\n",
       "      <td>4.601</td>\n",
       "      <td>NaN</td>\n",
       "      <td>NaN</td>\n",
       "      <td>NaN</td>\n",
       "      <td>NaN</td>\n",
       "      <td>...</td>\n",
       "      <td>4.731</td>\n",
       "      <td>4.508</td>\n",
       "      <td>NaN</td>\n",
       "      <td>NaN</td>\n",
       "      <td>NaN</td>\n",
       "      <td>4.0613</td>\n",
       "      <td>4.832</td>\n",
       "      <td>NaN</td>\n",
       "      <td>NaN</td>\n",
       "      <td>4.2430</td>\n",
       "    </tr>\n",
       "    <tr>\n",
       "      <th>5</th>\n",
       "      <td>A4GNT</td>\n",
       "      <td>ENSG00000118017</td>\n",
       "      <td>ENST00000236709</td>\n",
       "      <td>ENSP00000236709</td>\n",
       "      <td>NaN</td>\n",
       "      <td>NaN</td>\n",
       "      <td>NaN</td>\n",
       "      <td>NaN</td>\n",
       "      <td>NaN</td>\n",
       "      <td>NaN</td>\n",
       "      <td>...</td>\n",
       "      <td>NaN</td>\n",
       "      <td>NaN</td>\n",
       "      <td>NaN</td>\n",
       "      <td>NaN</td>\n",
       "      <td>NaN</td>\n",
       "      <td>4.3992</td>\n",
       "      <td>NaN</td>\n",
       "      <td>NaN</td>\n",
       "      <td>NaN</td>\n",
       "      <td>NaN</td>\n",
       "    </tr>\n",
       "    <tr>\n",
       "      <th>6</th>\n",
       "      <td>AAAS</td>\n",
       "      <td>ENSG00000094914</td>\n",
       "      <td>ENST00000209873</td>\n",
       "      <td>ENSP00000209873</td>\n",
       "      <td>4.513</td>\n",
       "      <td>4.434</td>\n",
       "      <td>4.461</td>\n",
       "      <td>4.536</td>\n",
       "      <td>4.917</td>\n",
       "      <td>4.677</td>\n",
       "      <td>...</td>\n",
       "      <td>4.440</td>\n",
       "      <td>4.350</td>\n",
       "      <td>4.120</td>\n",
       "      <td>4.241</td>\n",
       "      <td>3.975</td>\n",
       "      <td>5.0890</td>\n",
       "      <td>4.991</td>\n",
       "      <td>4.651</td>\n",
       "      <td>4.505</td>\n",
       "      <td>4.4699</td>\n",
       "    </tr>\n",
       "    <tr>\n",
       "      <th>7</th>\n",
       "      <td>AACS</td>\n",
       "      <td>ENSG00000081760</td>\n",
       "      <td>ENST00000316519</td>\n",
       "      <td>ENSP00000324842</td>\n",
       "      <td>4.559</td>\n",
       "      <td>5.015</td>\n",
       "      <td>5.120</td>\n",
       "      <td>4.426</td>\n",
       "      <td>5.285</td>\n",
       "      <td>4.640</td>\n",
       "      <td>...</td>\n",
       "      <td>4.817</td>\n",
       "      <td>4.807</td>\n",
       "      <td>4.395</td>\n",
       "      <td>4.310</td>\n",
       "      <td>NaN</td>\n",
       "      <td>4.7653</td>\n",
       "      <td>4.552</td>\n",
       "      <td>4.588</td>\n",
       "      <td>4.901</td>\n",
       "      <td>4.8409</td>\n",
       "    </tr>\n",
       "    <tr>\n",
       "      <th>8</th>\n",
       "      <td>AADAC</td>\n",
       "      <td>ENSG00000114771</td>\n",
       "      <td>ENST00000232892</td>\n",
       "      <td>ENSP00000232892</td>\n",
       "      <td>5.110</td>\n",
       "      <td>NaN</td>\n",
       "      <td>NaN</td>\n",
       "      <td>NaN</td>\n",
       "      <td>5.008</td>\n",
       "      <td>NaN</td>\n",
       "      <td>...</td>\n",
       "      <td>NaN</td>\n",
       "      <td>NaN</td>\n",
       "      <td>5.076</td>\n",
       "      <td>NaN</td>\n",
       "      <td>NaN</td>\n",
       "      <td>4.7098</td>\n",
       "      <td>NaN</td>\n",
       "      <td>NaN</td>\n",
       "      <td>NaN</td>\n",
       "      <td>NaN</td>\n",
       "    </tr>\n",
       "    <tr>\n",
       "      <th>9</th>\n",
       "      <td>AADAT</td>\n",
       "      <td>ENSG00000109576</td>\n",
       "      <td>ENST00000515480</td>\n",
       "      <td>ENSP00000423341</td>\n",
       "      <td>5.227</td>\n",
       "      <td>NaN</td>\n",
       "      <td>4.165</td>\n",
       "      <td>4.115</td>\n",
       "      <td>NaN</td>\n",
       "      <td>4.801</td>\n",
       "      <td>...</td>\n",
       "      <td>4.282</td>\n",
       "      <td>NaN</td>\n",
       "      <td>NaN</td>\n",
       "      <td>NaN</td>\n",
       "      <td>NaN</td>\n",
       "      <td>4.5203</td>\n",
       "      <td>3.657</td>\n",
       "      <td>3.563</td>\n",
       "      <td>NaN</td>\n",
       "      <td>4.2271</td>\n",
       "    </tr>\n",
       "  </tbody>\n",
       "</table>\n",
       "<p>10 rows × 33 columns</p>\n",
       "</div>"
      ],
      "text/plain": [
       "  GeneName    EnsemblGeneID EnsemblTranscriptID EnsemblProteinID  Adrenal  \\\n",
       "0     A1BG  ENSG00000121410     ENST00000263100  ENSP00000263100      NaN   \n",
       "1     A1CF  ENSG00000148584     ENST00000373993  ENSP00000363105      NaN   \n",
       "2      A2M  ENSG00000175899     ENST00000318602  ENSP00000323929    6.290   \n",
       "3    A2ML1  ENSG00000166535     ENST00000299698  ENSP00000299698      NaN   \n",
       "4   A4GALT  ENSG00000128274     ENST00000401850  ENSP00000384794    3.843   \n",
       "5    A4GNT  ENSG00000118017     ENST00000236709  ENSP00000236709      NaN   \n",
       "6     AAAS  ENSG00000094914     ENST00000209873  ENSP00000209873    4.513   \n",
       "7     AACS  ENSG00000081760     ENST00000316519  ENSP00000324842    4.559   \n",
       "8    AADAC  ENSG00000114771     ENST00000232892  ENSP00000232892    5.110   \n",
       "9    AADAT  ENSG00000109576     ENST00000515480  ENSP00000423341    5.227   \n",
       "\n",
       "   Appendices  Brain  Colon  Duodenum  Uterus  ...  Rectum  Salivarygland  \\\n",
       "0       8.277    NaN    NaN       NaN     NaN  ...     NaN          7.718   \n",
       "1         NaN    NaN  5.135     5.371     NaN  ...   5.147            NaN   \n",
       "2       6.328  5.948  5.811     6.068   5.383  ...   6.081          5.726   \n",
       "3         NaN  3.995    NaN       NaN     NaN  ...     NaN            NaN   \n",
       "4       4.601    NaN    NaN       NaN     NaN  ...   4.731          4.508   \n",
       "5         NaN    NaN    NaN       NaN     NaN  ...     NaN            NaN   \n",
       "6       4.434  4.461  4.536     4.917   4.677  ...   4.440          4.350   \n",
       "7       5.015  5.120  4.426     5.285   4.640  ...   4.817          4.807   \n",
       "8         NaN    NaN    NaN     5.008     NaN  ...     NaN            NaN   \n",
       "9         NaN  4.165  4.115       NaN   4.801  ...   4.282            NaN   \n",
       "\n",
       "   Smallintestine  Smoothmuscle  Spleen  Stomach  Testis  Thyroid  Tonsil  \\\n",
       "0             NaN           NaN   7.313      NaN     NaN      NaN     NaN   \n",
       "1           5.202           NaN     NaN   5.8143     NaN      NaN     NaN   \n",
       "2           5.699         4.997   5.136   6.5349   5.820    6.060   5.675   \n",
       "3             NaN           NaN     NaN      NaN   2.350      NaN   5.249   \n",
       "4             NaN           NaN     NaN   4.0613   4.832      NaN     NaN   \n",
       "5             NaN           NaN     NaN   4.3992     NaN      NaN     NaN   \n",
       "6           4.120         4.241   3.975   5.0890   4.991    4.651   4.505   \n",
       "7           4.395         4.310     NaN   4.7653   4.552    4.588   4.901   \n",
       "8           5.076           NaN     NaN   4.7098     NaN      NaN     NaN   \n",
       "9             NaN           NaN     NaN   4.5203   3.657    3.563     NaN   \n",
       "\n",
       "   Urinarybladder  \n",
       "0             NaN  \n",
       "1             NaN  \n",
       "2          5.8286  \n",
       "3             NaN  \n",
       "4          4.2430  \n",
       "5             NaN  \n",
       "6          4.4699  \n",
       "7          4.8409  \n",
       "8             NaN  \n",
       "9          4.2271  \n",
       "\n",
       "[10 rows x 33 columns]"
      ]
     },
     "execution_count": 5,
     "metadata": {},
     "output_type": "execute_result"
    }
   ],
   "source": [
    "data.head(10)"
   ]
  },
  {
   "cell_type": "code",
   "execution_count": 52,
   "id": "d7daf3401a978cc1",
   "metadata": {
    "ExecuteTime": {
     "end_time": "2024-08-02T19:07:05.577923Z",
     "start_time": "2024-08-02T19:07:05.562924Z"
    }
   },
   "outputs": [
    {
     "data": {
      "text/plain": [
       "232919"
      ]
     },
     "execution_count": 52,
     "metadata": {},
     "output_type": "execute_result"
    }
   ],
   "source": [
    "# Total available annotated data with PTRs\n",
    "data[data.columns[4:]].count().sum()"
   ]
  },
  {
   "cell_type": "markdown",
   "id": "f4133da4a88b337d",
   "metadata": {},
   "source": [
    "## Loading ptr data file"
   ]
  },
  {
   "cell_type": "code",
   "execution_count": 8,
   "id": "90780ade3b957811",
   "metadata": {
    "ExecuteTime": {
     "end_time": "2024-09-03T13:48:40.678984Z",
     "start_time": "2024-09-03T13:48:40.180785Z"
    }
   },
   "outputs": [],
   "source": [
    "with open('/export/share/krausef99dm/data/ptr_data/ptr_data.pkl', 'rb') as f:\n",
    "    data = pickle.load(f)\n",
    "    \n",
    "# Insights:\n",
    "# - data is a dictionary with keys as gene ids\n",
    "# - targets are tissue specific PTRs\n",
    "# - targets_bin 1 if \"up\" (high-PTR), 0 if \"down\" (low-PTR)"
   ]
  },
  {
   "cell_type": "markdown",
   "id": "9f1ff64f-7f57-483a-af01-fe9c7f9ec9e4",
   "metadata": {},
   "source": [
    "**high-PTR genes**: \n",
    "1) genes having a PTR fold change compared to the average of all other tissues larger than 2\n",
    "2) genes with the highest PTR among all tissues\n",
    "3) genes detected in at least 3 tissues in the dataset\n",
    "\n",
    "**low-PTR genes**: \n",
    "1) genes having a PTR fold change compared to the average of all other tissues smaller than 0.5\n",
    "2) genes with the lowest PTR among all tissues\n",
    "3) genes detected in at least 3 tissues in the dataset.\n"
   ]
  },
  {
   "cell_type": "code",
   "execution_count": 9,
   "id": "fd97fbcc235f4ae2",
   "metadata": {
    "ExecuteTime": {
     "end_time": "2024-08-12T14:50:06.586954Z",
     "start_time": "2024-08-12T14:50:06.574599Z"
    }
   },
   "outputs": [
    {
     "data": {
      "text/plain": [
       "11279"
      ]
     },
     "execution_count": 9,
     "metadata": {},
     "output_type": "execute_result"
    }
   ],
   "source": [
    "len(data.keys())"
   ]
  },
  {
   "cell_type": "code",
   "execution_count": 4,
   "id": "d8bc8fd9d45d7710",
   "metadata": {
    "ExecuteTime": {
     "end_time": "2024-08-12T15:44:48.032664Z",
     "start_time": "2024-08-12T15:44:48.018249Z"
    }
   },
   "outputs": [
    {
     "data": {
      "text/plain": [
       "dict_keys(['fasta', 'fasta_ohe', 'bed', 'bed_annotation', 'codon_freq', 'targets', 'targets_bin'])"
      ]
     },
     "execution_count": 4,
     "metadata": {},
     "output_type": "execute_result"
    }
   ],
   "source": [
    "data[\"ENST00000304312\"].keys()"
   ]
  },
  {
   "cell_type": "code",
   "execution_count": 133,
   "id": "c7be5905-506b-43a2-8faa-737c06b0c4bc",
   "metadata": {},
   "outputs": [
    {
     "data": {
      "text/plain": [
       "{'fasta': 'CTCTCTGCGGCTTGGCCCGTTAGAGGCGGCTTGTGTCCACGGGACGCGGGCGGATCTTCTCCGGCCATGAGGAAGCCAGCCGCTGGCTTCCTTCCCTCACTCCTGAAGGTGCTGCTCCTGCCTCTGGCACCTGCCGCAGCCCAGGATTCGACTCAGGCCTCCACTCCAGGCAGCCCTCTCTCTCCTACCGAATACGAACGCTTCTTCGCACTGCTGACTCCAACCTGGAAGGCAGAGACTACCTGCCGTCTCCGTGCAACCCACGGCTGCCGGAATCCCACACTCGTCCAGCTGGACCAATATGAAAACCACGGCTTAGTGCCCGATGGTGCTGTCTGCTCCAACCTCCCTTATGCCTCCTGGTTTGAGTCTTTCTGCCAGTTCACTCACTACCGTTGCTCCAACCACGTCTACTATGCCAAGAGAGTCCTGTGTTCCCAGCCAGTCTCTATTCTCTCACCTAACACTCTCAAGGAGATAGAAGCTTCAGCTGAAGTCTCACCCACCACGATGACCTCCCCCATCTCACCCCACTTCACAGTGACAGAACGCCAGACCTTCCAGCCCTGGCCTGAGAGGCTCAGCAACAACGTGGAAGAGCTCCTACAATCCTCCTTGTCCCTGGGAGGCCAGGAGCAAGCGCCAGAGCACAAGCAGGAGCAAGGAGTGGAGCACAGGCAGGAGCCGACACAAGAACACAAGCAGGAAGAGGGGCAGAAACAGGAAGAGCAAGAAGAGGAACAGGAAGAGGAGGGAAAGCAGGAAGAAGGACAGGGGACTAAGGAGGGACGGGAGGCTGTGTCTCAGCTGCAGACAGACTCAGAGCCCAAGTTTCACTCTGAATCTCTATCTTCTAACCCTTCCTCTTTTGCTCCCCGGGTACGAGAAGTAGAGTCTACTCCTATGATAATGGAGAACATCCAGGAGCTCATTCGATCAGCCCAGGAAATAGATGAAATGAATGAAATATATGATGAGAACTCCTACTGGAGAAACCAAAACCCTGGCAGCCTCCTGCAGCTGCCCCACACAGAGGCCTTGCTGGTGCTGTGCTATTCGATCGTGGAGAATACCTGCATCATAACCCCCACAGCCAAGGCCTGGAAGTACATGGAGGAGGAGATCCTTGGTTTCGGGAAGTCGGTCTGTGACAGCCTTGGGCGGCGACACATGTCTACCTGTGCCCTCTGTGACTTCTGCTCCTTGAAGCTGGAGCAGTGCCACTCAGAGGCCAGCCTGCAGCGGCAACAATGCGACACCTCCCACAAGACTCCCTTTGTCAGCCCCTTGCTTGCCTCCCAGAGCCTGTCCATCGGCAACCAGGTAGGGTCCCCAGAATCAGGCCGCTTTTACGGGCTGGATTTGTACGGTGGGCTCCACATGGACTTCTGGTGTGCCCGGCTTGCCACGAAAGGCTGTGAAGATGTCCGAGTCTCTGGGTGGCTCCAGACTGAGTTCCTTAGCTTCCAGGATGGGGATTTCCCTACCAAGATTTGTGACACAGACTATATCCAGTACCCAAACTACTGTTCCTTCAAAAGCCAGCAGTGTCTGATGAGAAACCGCAATCGGAAGGTGTCCCGCATGAGATGTCTGCAGAATGAGACTTACAGTGCGCTGAGCCCTGGCAAAAGTGAGGACGTTGTGCTTCGATGGAGCCAGGAGTTCAGCACCTTGACTCTAGGCCAGTTCGGATGAGCTGGCGTCTATTCTGCCCACACCCCAGCCCAACCTGCCCACGTTCTCTATTGTTTTGAGACCCCATTGCTTTCAGGCTGCCCCTTCTGGGTCTGTTACTCGGCCCCTACTCACATTTCCTTGGGTTGGAGCAACAGTCCCAGAGAGGGCCACGGTGGGAGCTGCGCCCTCCTTAAAAGATGACTTTACATAAAATGTTGATCTTCA',\n",
       " 'fasta_ohe': array([1, 3, 1, ..., 3, 1, 0], dtype=int8),\n",
       " 'bed': [['ENST00000229243.7', '0', '66', '5UTR', '.', '+'],\n",
       "  ['ENST00000229243.7', '66', '1698', 'CDS', '.', '+'],\n",
       "  ['ENST00000229243.7', '1698', '1905', '3UTR', '.', '+']],\n",
       " 'bed_annotation': array([5., 5., 5., ..., 3., 3., 3.]),\n",
       " 'codon_freq': array([0.00735294, 0.01654412, 0.04044118, 0.        , 0.01470588,\n",
       "        0.01286765, 0.00919118, 0.01654412, 0.00735294, 0.00919118,\n",
       "        0.01102941, 0.00183824, 0.00919118, 0.00551471, 0.00551471,\n",
       "        0.00183824, 0.02573529, 0.02573529, 0.01654412, 0.01838235,\n",
       "        0.02389706, 0.02389706, 0.02757353, 0.03308824, 0.02205882,\n",
       "        0.00919118, 0.02022059, 0.01838235, 0.01286765, 0.02757353,\n",
       "        0.01838235, 0.02941176, 0.03125   , 0.06066176, 0.06066176,\n",
       "        0.        , 0.00367647, 0.00183824, 0.00367647, 0.00551471,\n",
       "        0.00551471, 0.01286765, 0.01654412, 0.01470588, 0.01838235,\n",
       "        0.03860294, 0.01838235, 0.01102941, 0.00919118, 0.        ,\n",
       "        0.01470588, 0.01102941, 0.02205882, 0.02205882, 0.01102941,\n",
       "        0.02205882, 0.00367647, 0.00551471, 0.00551471, 0.01838235,\n",
       "        0.00551471, 0.01286765, 0.00183824, 0.00919118]),\n",
       " 'targets': array([   nan, 3.616 ,    nan, 4.096 , 2.796 ,    nan,    nan,    nan,\n",
       "           nan,    nan,    nan,    nan, 4.155 ,    nan,    nan,    nan,\n",
       "           nan,    nan,    nan,    nan,    nan, 3.221 ,    nan,    nan,\n",
       "        4.2369, 4.693 , 3.48  ,    nan, 3.6176]),\n",
       " 'targets_bin': array([nan, nan, nan, nan,  0., nan, nan, nan, nan, nan, nan, nan, nan,\n",
       "        nan, nan, nan, nan, nan, nan, nan, nan, nan, nan, nan, nan,  1.,\n",
       "        nan, nan, nan])}"
      ]
     },
     "execution_count": 133,
     "metadata": {},
     "output_type": "execute_result"
    }
   ],
   "source": [
    "data[\"ENST00000229243\"]"
   ]
  },
  {
   "cell_type": "code",
   "execution_count": 15,
   "id": "acfb5e71-d4c9-4afd-b383-15346746ce82",
   "metadata": {},
   "outputs": [],
   "source": [
    "key_iterator = iter(data.keys())"
   ]
  },
  {
   "cell_type": "code",
   "execution_count": 104,
   "id": "e31e3105cd090e69",
   "metadata": {
    "ExecuteTime": {
     "end_time": "2024-08-12T15:44:48.048631Z",
     "start_time": "2024-08-12T15:44:48.032664Z"
    }
   },
   "outputs": [
    {
     "name": "stdout",
     "output_type": "stream",
     "text": [
      "ENST00000281182\n"
     ]
    },
    {
     "data": {
      "text/plain": [
       "array([nan, nan, nan,  0., nan, nan, nan, nan, nan, nan, nan, nan, nan,\n",
       "       nan, nan, nan, nan,  1., nan, nan, nan, nan, nan, nan, nan, nan,\n",
       "       nan, nan, nan])"
      ]
     },
     "execution_count": 104,
     "metadata": {},
     "output_type": "execute_result"
    }
   ],
   "source": [
    "# checking binary targets as in Eraslan et al\n",
    "idx = next(key_iterator)\n",
    "print(idx)\n",
    "data[idx][\"targets_bin\"]"
   ]
  },
  {
   "cell_type": "code",
   "execution_count": 148,
   "id": "c7045780-8396-4602-bb28-2fd4b7729b12",
   "metadata": {},
   "outputs": [
    {
     "data": {
      "text/plain": [
       "array([0., 0., 0., 1., 0., 0., 0., 0., 0., 0., 0., 0., 0., 0., 0., 0., 0.,\n",
       "       2., 0., 0., 0., 0., 0., 0., 0., 0., 0., 0., 0.])"
      ]
     },
     "execution_count": 148,
     "metadata": {},
     "output_type": "execute_result"
    }
   ],
   "source": [
    "np.nan_to_num(data[idx][\"targets_bin\"] + 1, nan=0)"
   ]
  },
  {
   "cell_type": "code",
   "execution_count": 136,
   "id": "c4612a4b-103c-471d-b23d-ed4477f14c3c",
   "metadata": {},
   "outputs": [],
   "source": [
    "bins = [idx for idx in data.keys() if sum(data[idx][\"targets_bin\"][~np.isnan(data[idx][\"targets_bin\"])]) > 1]"
   ]
  },
  {
   "cell_type": "code",
   "execution_count": 137,
   "id": "8e6d9ebe-5556-47ce-bff7-4b145a356e97",
   "metadata": {},
   "outputs": [
    {
     "data": {
      "text/plain": [
       "['ENST00000358502',\n",
       " 'ENST00000528099',\n",
       " 'ENST00000399429',\n",
       " 'ENST00000366971',\n",
       " 'ENST00000530956',\n",
       " 'ENST00000321027',\n",
       " 'ENST00000275364',\n",
       " 'ENST00000525115',\n",
       " 'ENST00000312419',\n",
       " 'ENST00000498165',\n",
       " 'ENST00000395699',\n",
       " 'ENST00000348849',\n",
       " 'ENST00000409031',\n",
       " 'ENST00000263904',\n",
       " 'ENST00000266732',\n",
       " 'ENST00000356232',\n",
       " 'ENST00000332853',\n",
       " 'ENST00000379416']"
      ]
     },
     "execution_count": 137,
     "metadata": {},
     "output_type": "execute_result"
    }
   ],
   "source": [
    "bins"
   ]
  },
  {
   "cell_type": "code",
   "execution_count": 117,
   "id": "b0f148a1-e2e7-44fd-bb03-fffe7b6339a5",
   "metadata": {},
   "outputs": [
    {
     "data": {
      "text/plain": [
       "(array([1475,    0,    0,    0,    0, 9786,    0,    0,    0,   18]),\n",
       " array([0. , 0.2, 0.4, 0.6, 0.8, 1. , 1.2, 1.4, 1.6, 1.8, 2. ]))"
      ]
     },
     "execution_count": 117,
     "metadata": {},
     "output_type": "execute_result"
    }
   ],
   "source": [
    "np.histogram(bins)"
   ]
  },
  {
   "cell_type": "code",
   "execution_count": 14,
   "id": "be8eb2961fa860b7",
   "metadata": {
    "ExecuteTime": {
     "end_time": "2024-08-01T20:28:15.544597Z",
     "start_time": "2024-08-01T20:28:15.529560Z"
    }
   },
   "outputs": [
    {
     "data": {
      "text/plain": [
       "2125"
      ]
     },
     "execution_count": 14,
     "metadata": {},
     "output_type": "execute_result"
    }
   ],
   "source": [
    "len(data[\"ENST00000012049\"][\"bed_annotation\"])"
   ]
  },
  {
   "cell_type": "code",
   "execution_count": 13,
   "id": "8363d7cb9f2faef9",
   "metadata": {
    "ExecuteTime": {
     "end_time": "2024-08-01T20:27:58.217492Z",
     "start_time": "2024-08-01T20:27:58.202493Z"
    }
   },
   "outputs": [
    {
     "data": {
      "text/plain": [
       "2125"
      ]
     },
     "execution_count": 13,
     "metadata": {},
     "output_type": "execute_result"
    }
   ],
   "source": [
    "len(data[\"ENST00000012049\"][\"fasta_ohe\"])"
   ]
  },
  {
   "cell_type": "markdown",
   "id": "b57b5856575c5e17",
   "metadata": {},
   "source": [
    "## Simple EDA"
   ]
  },
  {
   "cell_type": "code",
   "execution_count": 12,
   "id": "f6f033f61a38ad32",
   "metadata": {
    "ExecuteTime": {
     "end_time": "2024-08-12T15:43:03.834427Z",
     "start_time": "2024-08-12T15:43:00.591353Z"
    }
   },
   "outputs": [],
   "source": [
    "# Extract lengths of sequences\n",
    "lengths = [len(data[k][\"fasta_ohe\"]) for k in data.keys()]\n",
    "lengths_net = [len([x for x in data[k][\"bed_annotation\"] if x not in [3, 5]]) for k in data.keys()]"
   ]
  },
  {
   "cell_type": "code",
   "execution_count": 17,
   "id": "d30e79918a309ec1",
   "metadata": {
    "ExecuteTime": {
     "end_time": "2024-08-12T15:44:12.881995Z",
     "start_time": "2024-08-12T15:44:12.871043Z"
    }
   },
   "outputs": [
    {
     "data": {
      "text/plain": [
       "848"
      ]
     },
     "execution_count": 17,
     "metadata": {},
     "output_type": "execute_result"
    }
   ],
   "source": [
    "# get min index of lengths\n",
    "lengths.index(min(lengths))"
   ]
  },
  {
   "cell_type": "code",
   "execution_count": 58,
   "id": "1f06c39d73107bc",
   "metadata": {
    "ExecuteTime": {
     "end_time": "2024-08-08T14:47:04.421184Z",
     "start_time": "2024-08-08T14:47:04.283487Z"
    }
   },
   "outputs": [
    {
     "data": {
      "image/png": "[encoded data removed]",
      "text/plain": [
       "<Figure size 640x480 with 1 Axes>"
      ]
     },
     "metadata": {},
     "output_type": "display_data"
    }
   ],
   "source": [
    "# Histogram of length of sequences\n",
    "plt.hist(lengths, bins=50, range=(0, 20000))\n",
    "plt.show()"
   ]
  },
  {
   "cell_type": "code",
   "execution_count": 59,
   "id": "e0c47945cf48e43b",
   "metadata": {
    "ExecuteTime": {
     "end_time": "2024-08-08T14:47:18.293450Z",
     "start_time": "2024-08-08T14:47:18.154680Z"
    }
   },
   "outputs": [
    {
     "data": {
      "image/png": "[encoded data removed]",
      "text/plain": [
       "<Figure size 640x480 with 1 Axes>"
      ]
     },
     "metadata": {},
     "output_type": "display_data"
    }
   ],
   "source": [
    "# Histogram of net length of sequences\n",
    "plt.hist(lengths_net, bins=50, range=(0, 20000))\n",
    "plt.show()"
   ]
  },
  {
   "cell_type": "code",
   "execution_count": 14,
   "id": "1f243bfb7358d7a5",
   "metadata": {
    "ExecuteTime": {
     "end_time": "2024-08-08T14:09:05.948929Z",
     "start_time": "2024-08-08T14:09:05.934605Z"
    }
   },
   "outputs": [
    {
     "data": {
      "text/plain": [
       "count     11279.000000\n",
       "mean       3707.921181\n",
       "std        2916.208030\n",
       "min         303.000000\n",
       "25%        1854.000000\n",
       "50%        2977.000000\n",
       "75%        4738.000000\n",
       "max      109224.000000\n",
       "dtype: float64"
      ]
     },
     "execution_count": 14,
     "metadata": {},
     "output_type": "execute_result"
    }
   ],
   "source": [
    "# Summary statistics\n",
    "pd.Series(lengths).describe()"
   ]
  },
  {
   "cell_type": "code",
   "execution_count": 60,
   "id": "a95d5ac2bd186fd3",
   "metadata": {
    "ExecuteTime": {
     "end_time": "2024-08-08T14:47:31.452566Z",
     "start_time": "2024-08-08T14:47:31.439935Z"
    }
   },
   "outputs": [
    {
     "data": {
      "text/plain": [
       "count     11279.000000\n",
       "mean       1879.473801\n",
       "std        2002.292441\n",
       "min         114.000000\n",
       "25%         894.000000\n",
       "50%        1413.000000\n",
       "75%        2265.000000\n",
       "max      107976.000000\n",
       "dtype: float64"
      ]
     },
     "execution_count": 60,
     "metadata": {},
     "output_type": "execute_result"
    }
   ],
   "source": [
    "# Summary statistics\n",
    "pd.Series(lengths_net).describe()"
   ]
  },
  {
   "cell_type": "markdown",
   "id": "ec8c1934130b709e",
   "metadata": {},
   "source": [
    "## Loading bpp test data file\n",
    "\n",
    "Containing ptr data + BPP predictions for two sequences"
   ]
  },
  {
   "cell_type": "code",
   "execution_count": 30,
   "id": "f1592a8267e4f860",
   "metadata": {
    "ExecuteTime": {
     "end_time": "2024-08-08T14:17:44.276469Z",
     "start_time": "2024-08-08T14:17:44.247892Z"
    }
   },
   "outputs": [],
   "source": [
    "# load bpp_sample\n",
    "with open('../../data/ptr_data_bpp_sample.pkl', 'rb') as f:\n",
    "    ptr_bpp_samples = pickle.load(f)"
   ]
  },
  {
   "cell_type": "code",
   "execution_count": 31,
   "id": "a147a909ba564dd3",
   "metadata": {
    "ExecuteTime": {
     "end_time": "2024-08-08T14:17:44.290484Z",
     "start_time": "2024-08-08T14:17:44.277475Z"
    }
   },
   "outputs": [
    {
     "data": {
      "text/plain": [
       "odict_keys(['ENST00000000233', 'ENST00000000412'])"
      ]
     },
     "execution_count": 31,
     "metadata": {},
     "output_type": "execute_result"
    }
   ],
   "source": [
    "ptr_bpp_samples.keys()"
   ]
  },
  {
   "cell_type": "code",
   "execution_count": 77,
   "id": "ef8937f9cebf5691",
   "metadata": {
    "ExecuteTime": {
     "end_time": "2024-08-08T15:24:27.071021Z",
     "start_time": "2024-08-08T15:24:27.014023Z"
    }
   },
   "outputs": [
    {
     "name": "stdout",
     "output_type": "stream",
     "text": [
      "Sparcity: 0.09751936693044565\n"
     ]
    },
    {
     "data": {
      "text/plain": [
       "(2450, 2450)"
      ]
     },
     "execution_count": 77,
     "metadata": {},
     "output_type": "execute_result"
    }
   ],
   "source": [
    "# id = \"ENST00000000233\"\n",
    "id = \"ENST00000000412\"\n",
    "bpp_sample = ptr_bpp_samples[id][\"bpp\"][\"vienna_2\"]\n",
    "print(\"Sparcity:\", sum(sum(bpp_sample > 0)) / (bpp_sample.shape[0] * bpp_sample.shape[1]))\n",
    "bpp_sample.shape"
   ]
  },
  {
   "cell_type": "code",
   "execution_count": 78,
   "id": "4c4f8bcafd101be6",
   "metadata": {
    "ExecuteTime": {
     "end_time": "2024-08-08T15:24:41.269900Z",
     "start_time": "2024-08-08T15:24:40.695455Z"
    }
   },
   "outputs": [
    {
     "data": {
      "image/png": "[encoded data removed]",
      "text/plain": [
       "<Figure size 640x480 with 1 Axes>"
      ]
     },
     "metadata": {},
     "output_type": "display_data"
    }
   ],
   "source": [
    "# histogram\n",
    "bpp_values_nonzero = [x for x in bpp_sample.flatten() if x > 0]\n",
    "bpp_values_nonzero_log = np.log(bpp_values_nonzero)\n",
    "plt.hist(bpp_values_nonzero_log, bins=50)\n",
    "plt.show()"
   ]
  },
  {
   "cell_type": "code",
   "execution_count": 79,
   "id": "e0b0ea2501ca59a9",
   "metadata": {
    "ExecuteTime": {
     "end_time": "2024-08-08T15:24:41.300129Z",
     "start_time": "2024-08-08T15:24:41.271966Z"
    }
   },
   "outputs": [
    {
     "data": {
      "text/plain": [
       "count    585360.000000\n",
       "mean        -17.159600\n",
       "std           4.540818\n",
       "min         -23.025851\n",
       "25%         -20.798373\n",
       "50%         -18.153919\n",
       "75%         -14.503443\n",
       "max          -0.000187\n",
       "dtype: float64"
      ]
     },
     "execution_count": 79,
     "metadata": {},
     "output_type": "execute_result"
    }
   ],
   "source": [
    "pd.Series(bpp_values_nonzero_log).describe()"
   ]
  },
  {
   "cell_type": "markdown",
   "id": "70d9d5086b7a789d",
   "metadata": {},
   "source": [
    "## Loading test sec_struc data file"
   ]
  },
  {
   "cell_type": "code",
   "execution_count": 24,
   "id": "761302b805aed470",
   "metadata": {
    "ExecuteTime": {
     "end_time": "2024-08-12T15:55:20.522400Z",
     "start_time": "2024-08-12T15:55:20.508340Z"
    }
   },
   "outputs": [],
   "source": [
    "with open('../../data/sec_struc/ENST00000304312-vienna_2.pkl', 'rb') as f:\n",
    "    sec_struc = pickle.load(f)"
   ]
  },
  {
   "cell_type": "code",
   "execution_count": 25,
   "id": "f05ea86e17217221",
   "metadata": {
    "ExecuteTime": {
     "end_time": "2024-08-12T15:55:33.598495Z",
     "start_time": "2024-08-12T15:55:33.584340Z"
    }
   },
   "outputs": [
    {
     "data": {
      "text/plain": [
       "{'vienna_2': {'bpp': array([[0.        , 0.        , 0.        , ..., 0.        , 0.00609191,\n",
       "          0.        ],\n",
       "         [0.        , 0.        , 0.        , ..., 0.0062961 , 0.        ,\n",
       "          0.00024448],\n",
       "         [0.        , 0.        , 0.        , ..., 0.        , 0.00014891,\n",
       "          0.        ],\n",
       "         ...,\n",
       "         [0.        , 0.0062961 , 0.        , ..., 0.        , 0.        ,\n",
       "          0.        ],\n",
       "         [0.00609191, 0.        , 0.00014891, ..., 0.        , 0.        ,\n",
       "          0.        ],\n",
       "         [0.        , 0.00024448, 0.        , ..., 0.        , 0.        ,\n",
       "          0.        ]]),\n",
       "  'structure': '...((((((...))))))......................((.(((..((.((..............(.((.((((.(((..(((.((((((.((((((((....).)))))))..........(((........))).....))))))))).))))))).)).).................................((((((......))))))......................)).))...)))..))..................................................',\n",
       "  'loop_type': None}}"
      ]
     },
     "execution_count": 25,
     "metadata": {},
     "output_type": "execute_result"
    }
   ],
   "source": [
    "sec_struc"
   ]
  },
  {
   "cell_type": "markdown",
   "id": "3305fc8b481a1ebd",
   "metadata": {},
   "source": [
    "## Kidney toy example\n",
    "\n",
    "CV-5 in paper:\n",
    "\n",
    "mean accuracy: 0.7314\n",
    "\n",
    "mean ROC:      0.7896"
   ]
  },
  {
   "cell_type": "code",
   "execution_count": 10,
   "id": "856094a4da78b162",
   "metadata": {
    "ExecuteTime": {
     "end_time": "2024-08-02T19:31:27.948030Z",
     "start_time": "2024-08-02T19:31:27.570595Z"
    }
   },
   "outputs": [],
   "source": [
    "df = pd.DataFrame(data).T"
   ]
  },
  {
   "cell_type": "code",
   "execution_count": 11,
   "id": "b78f3aa1d26309ab",
   "metadata": {
    "ExecuteTime": {
     "end_time": "2024-08-02T19:32:37.107045Z",
     "start_time": "2024-08-02T19:32:37.076523Z"
    }
   },
   "outputs": [
    {
     "data": {
      "text/html": [
       "<div>\n",
       "<style scoped>\n",
       "    .dataframe tbody tr th:only-of-type {\n",
       "        vertical-align: middle;\n",
       "    }\n",
       "\n",
       "    .dataframe tbody tr th {\n",
       "        vertical-align: top;\n",
       "    }\n",
       "\n",
       "    .dataframe thead th {\n",
       "        text-align: right;\n",
       "    }\n",
       "</style>\n",
       "<table border=\"1\" class=\"dataframe\">\n",
       "  <thead>\n",
       "    <tr style=\"text-align: right;\">\n",
       "      <th></th>\n",
       "      <th>fasta</th>\n",
       "      <th>fasta_ohe</th>\n",
       "      <th>bed</th>\n",
       "      <th>bed_annotation</th>\n",
       "      <th>codon_freq</th>\n",
       "      <th>targets</th>\n",
       "      <th>targets_bin</th>\n",
       "    </tr>\n",
       "  </thead>\n",
       "  <tbody>\n",
       "    <tr>\n",
       "      <th>ENST00000263100</th>\n",
       "      <td>ATTGCTGCAGACGCTCACCCCAGACACTCACTGCACCGGAGTGAGC...</td>\n",
       "      <td>[0, 3, 3, 2, 1, 3, 2, 1, 0, 2, 0, 1, 2, 1, 3, ...</td>\n",
       "      <td>[[ENST00000263100.8, 0, 55, 5UTR, ., +], [ENST...</td>\n",
       "      <td>[5.0, 5.0, 5.0, 5.0, 5.0, 5.0, 5.0, 5.0, 5.0, ...</td>\n",
       "      <td>[0.006048387096774193, 0.0020161290322580645, ...</td>\n",
       "      <td>[nan, 8.277, nan, nan, nan, nan, nan, 7.841, n...</td>\n",
       "      <td>[nan, 1.0, nan, nan, nan, nan, nan, nan, nan, ...</td>\n",
       "    </tr>\n",
       "    <tr>\n",
       "      <th>ENST00000373993</th>\n",
       "      <td>ATAATCAAGGAAACCTTTTCCGGGTGGGGATCTCTGAAATTACTCA...</td>\n",
       "      <td>[0, 3, 0, 0, 3, 1, 0, 0, 2, 2, 0, 0, 0, 1, 1, ...</td>\n",
       "      <td>[[ENST00000373993.6, 0, 92, 5UTR, ., +], [ENST...</td>\n",
       "      <td>[5.0, 5.0, 5.0, 5.0, 5.0, 5.0, 5.0, 5.0, 5.0, ...</td>\n",
       "      <td>[0.04201680672268908, 0.015126050420168067, 0....</td>\n",
       "      <td>[nan, nan, nan, 5.135, 5.371, nan, nan, nan, n...</td>\n",
       "      <td>[nan, nan, nan, 0.0, nan, nan, nan, nan, nan, ...</td>\n",
       "    </tr>\n",
       "    <tr>\n",
       "      <th>ENST00000318602</th>\n",
       "      <td>GGGACCAGATGGATTGTAGGGAGTAGGGTACAATACAGTCTGTTCT...</td>\n",
       "      <td>[2, 2, 2, 0, 1, 1, 0, 2, 0, 3, 2, 2, 0, 3, 3, ...</td>\n",
       "      <td>[[ENST00000318602.12, 0, 70, 5UTR, ., +], [ENS...</td>\n",
       "      <td>[5.0, 5.0, 5.0, 5.0, 5.0, 5.0, 5.0, 5.0, 5.0, ...</td>\n",
       "      <td>[0.02305084745762712, 0.014915254237288136, 0....</td>\n",
       "      <td>[6.29, 6.328, 5.948, 5.811, 6.068, 5.383, 5.88...</td>\n",
       "      <td>[nan, nan, nan, nan, nan, nan, nan, nan, nan, ...</td>\n",
       "    </tr>\n",
       "    <tr>\n",
       "      <th>ENST00000299698</th>\n",
       "      <td>GACCCTGGAAAAATCTGTCTCACCCACAAAGATGTGGGCTCAGCTC...</td>\n",
       "      <td>[2, 0, 1, 1, 1, 3, 2, 2, 0, 0, 0, 0, 0, 3, 1, ...</td>\n",
       "      <td>[[ENST00000299698.12, 0, 31, 5UTR, ., +], [ENS...</td>\n",
       "      <td>[5.0, 5.0, 5.0, 5.0, 5.0, 5.0, 5.0, 5.0, 5.0, ...</td>\n",
       "      <td>[0.019243986254295534, 0.01443298969072165, 0....</td>\n",
       "      <td>[nan, nan, 3.995, nan, nan, nan, 4.129, nan, n...</td>\n",
       "      <td>[nan, nan, nan, nan, nan, nan, nan, nan, nan, ...</td>\n",
       "    </tr>\n",
       "    <tr>\n",
       "      <th>ENST00000401850</th>\n",
       "      <td>TGCACTTCTGTGCCTCAATTTCCTCATCTGTAGGGTGGGGGTGGTG...</td>\n",
       "      <td>[3, 2, 1, 0, 1, 3, 3, 1, 3, 2, 3, 2, 1, 1, 3, ...</td>\n",
       "      <td>[[ENST00000401850.5, 0, 490, 5UTR, ., +], [ENS...</td>\n",
       "      <td>[5.0, 5.0, 5.0, 5.0, 5.0, 5.0, 5.0, 5.0, 5.0, ...</td>\n",
       "      <td>[0.00847457627118644, 0.0, 0.00282485875706214...</td>\n",
       "      <td>[3.843, 4.601, nan, nan, nan, nan, 4.013, 3.68...</td>\n",
       "      <td>[nan, nan, nan, nan, nan, nan, nan, nan, nan, ...</td>\n",
       "    </tr>\n",
       "  </tbody>\n",
       "</table>\n",
       "</div>"
      ],
      "text/plain": [
       "                                                             fasta  \\\n",
       "ENST00000263100  ATTGCTGCAGACGCTCACCCCAGACACTCACTGCACCGGAGTGAGC...   \n",
       "ENST00000373993  ATAATCAAGGAAACCTTTTCCGGGTGGGGATCTCTGAAATTACTCA...   \n",
       "ENST00000318602  GGGACCAGATGGATTGTAGGGAGTAGGGTACAATACAGTCTGTTCT...   \n",
       "ENST00000299698  GACCCTGGAAAAATCTGTCTCACCCACAAAGATGTGGGCTCAGCTC...   \n",
       "ENST00000401850  TGCACTTCTGTGCCTCAATTTCCTCATCTGTAGGGTGGGGGTGGTG...   \n",
       "\n",
       "                                                         fasta_ohe  \\\n",
       "ENST00000263100  [0, 3, 3, 2, 1, 3, 2, 1, 0, 2, 0, 1, 2, 1, 3, ...   \n",
       "ENST00000373993  [0, 3, 0, 0, 3, 1, 0, 0, 2, 2, 0, 0, 0, 1, 1, ...   \n",
       "ENST00000318602  [2, 2, 2, 0, 1, 1, 0, 2, 0, 3, 2, 2, 0, 3, 3, ...   \n",
       "ENST00000299698  [2, 0, 1, 1, 1, 3, 2, 2, 0, 0, 0, 0, 0, 3, 1, ...   \n",
       "ENST00000401850  [3, 2, 1, 0, 1, 3, 3, 1, 3, 2, 3, 2, 1, 1, 3, ...   \n",
       "\n",
       "                                                               bed  \\\n",
       "ENST00000263100  [[ENST00000263100.8, 0, 55, 5UTR, ., +], [ENST...   \n",
       "ENST00000373993  [[ENST00000373993.6, 0, 92, 5UTR, ., +], [ENST...   \n",
       "ENST00000318602  [[ENST00000318602.12, 0, 70, 5UTR, ., +], [ENS...   \n",
       "ENST00000299698  [[ENST00000299698.12, 0, 31, 5UTR, ., +], [ENS...   \n",
       "ENST00000401850  [[ENST00000401850.5, 0, 490, 5UTR, ., +], [ENS...   \n",
       "\n",
       "                                                    bed_annotation  \\\n",
       "ENST00000263100  [5.0, 5.0, 5.0, 5.0, 5.0, 5.0, 5.0, 5.0, 5.0, ...   \n",
       "ENST00000373993  [5.0, 5.0, 5.0, 5.0, 5.0, 5.0, 5.0, 5.0, 5.0, ...   \n",
       "ENST00000318602  [5.0, 5.0, 5.0, 5.0, 5.0, 5.0, 5.0, 5.0, 5.0, ...   \n",
       "ENST00000299698  [5.0, 5.0, 5.0, 5.0, 5.0, 5.0, 5.0, 5.0, 5.0, ...   \n",
       "ENST00000401850  [5.0, 5.0, 5.0, 5.0, 5.0, 5.0, 5.0, 5.0, 5.0, ...   \n",
       "\n",
       "                                                        codon_freq  \\\n",
       "ENST00000263100  [0.006048387096774193, 0.0020161290322580645, ...   \n",
       "ENST00000373993  [0.04201680672268908, 0.015126050420168067, 0....   \n",
       "ENST00000318602  [0.02305084745762712, 0.014915254237288136, 0....   \n",
       "ENST00000299698  [0.019243986254295534, 0.01443298969072165, 0....   \n",
       "ENST00000401850  [0.00847457627118644, 0.0, 0.00282485875706214...   \n",
       "\n",
       "                                                           targets  \\\n",
       "ENST00000263100  [nan, 8.277, nan, nan, nan, nan, nan, 7.841, n...   \n",
       "ENST00000373993  [nan, nan, nan, 5.135, 5.371, nan, nan, nan, n...   \n",
       "ENST00000318602  [6.29, 6.328, 5.948, 5.811, 6.068, 5.383, 5.88...   \n",
       "ENST00000299698  [nan, nan, 3.995, nan, nan, nan, 4.129, nan, n...   \n",
       "ENST00000401850  [3.843, 4.601, nan, nan, nan, nan, 4.013, 3.68...   \n",
       "\n",
       "                                                       targets_bin  \n",
       "ENST00000263100  [nan, 1.0, nan, nan, nan, nan, nan, nan, nan, ...  \n",
       "ENST00000373993  [nan, nan, nan, 0.0, nan, nan, nan, nan, nan, ...  \n",
       "ENST00000318602  [nan, nan, nan, nan, nan, nan, nan, nan, nan, ...  \n",
       "ENST00000299698  [nan, nan, nan, nan, nan, nan, nan, nan, nan, ...  \n",
       "ENST00000401850  [nan, nan, nan, nan, nan, nan, nan, nan, nan, ...  "
      ]
     },
     "execution_count": 11,
     "metadata": {},
     "output_type": "execute_result"
    }
   ],
   "source": [
    "df.head()"
   ]
  },
  {
   "cell_type": "code",
   "execution_count": 12,
   "id": "2e7d45b48844a44",
   "metadata": {
    "ExecuteTime": {
     "end_time": "2024-08-02T19:34:53.750675Z",
     "start_time": "2024-08-02T19:34:53.735674Z"
    }
   },
   "outputs": [],
   "source": [
    "# extract only first element of targets_bin\n",
    "df[\"targets_bin_kidney\"] = df[\"targets_bin\"].apply(lambda x: x[11])"
   ]
  },
  {
   "cell_type": "code",
   "execution_count": 13,
   "id": "bb56fd6173f44586",
   "metadata": {
    "ExecuteTime": {
     "end_time": "2024-08-02T19:40:15.000653Z",
     "start_time": "2024-08-02T19:40:14.980134Z"
    }
   },
   "outputs": [
    {
     "data": {
      "text/html": [
       "<div>\n",
       "<style scoped>\n",
       "    .dataframe tbody tr th:only-of-type {\n",
       "        vertical-align: middle;\n",
       "    }\n",
       "\n",
       "    .dataframe tbody tr th {\n",
       "        vertical-align: top;\n",
       "    }\n",
       "\n",
       "    .dataframe thead th {\n",
       "        text-align: right;\n",
       "    }\n",
       "</style>\n",
       "<table border=\"1\" class=\"dataframe\">\n",
       "  <thead>\n",
       "    <tr style=\"text-align: right;\">\n",
       "      <th></th>\n",
       "      <th>codon_freq</th>\n",
       "      <th>targets_bin_kidney</th>\n",
       "    </tr>\n",
       "  </thead>\n",
       "  <tbody>\n",
       "    <tr>\n",
       "      <th>ENST00000261772</th>\n",
       "      <td>[0.022703818369453045, 0.005159958720330237, 0...</td>\n",
       "      <td>0.0</td>\n",
       "    </tr>\n",
       "    <tr>\n",
       "      <th>ENST00000205557</th>\n",
       "      <td>[0.008643617021276596, 0.006648936170212766, 0...</td>\n",
       "      <td>1.0</td>\n",
       "    </tr>\n",
       "    <tr>\n",
       "      <th>ENST00000525795</th>\n",
       "      <td>[0.009478672985781991, 0.0, 0.0047393364928909...</td>\n",
       "      <td>1.0</td>\n",
       "    </tr>\n",
       "    <tr>\n",
       "      <th>ENST00000370841</th>\n",
       "      <td>[0.04265402843601896, 0.02132701421800948, 0.0...</td>\n",
       "      <td>1.0</td>\n",
       "    </tr>\n",
       "    <tr>\n",
       "      <th>ENST00000356140</th>\n",
       "      <td>[0.050445103857566766, 0.01483679525222552, 0....</td>\n",
       "      <td>1.0</td>\n",
       "    </tr>\n",
       "    <tr>\n",
       "      <th>...</th>\n",
       "      <td>...</td>\n",
       "      <td>...</td>\n",
       "    </tr>\n",
       "    <tr>\n",
       "      <th>ENST00000588311</th>\n",
       "      <td>[0.06913996627318718, 0.01517706576728499, 0.0...</td>\n",
       "      <td>0.0</td>\n",
       "    </tr>\n",
       "    <tr>\n",
       "      <th>ENST00000307771</th>\n",
       "      <td>[0.041407867494824016, 0.026915113871635612, 0...</td>\n",
       "      <td>0.0</td>\n",
       "    </tr>\n",
       "    <tr>\n",
       "      <th>ENST00000439158</th>\n",
       "      <td>[0.036855036855036855, 0.03194103194103194, 0....</td>\n",
       "      <td>1.0</td>\n",
       "    </tr>\n",
       "    <tr>\n",
       "      <th>ENST00000200135</th>\n",
       "      <td>[0.041025641025641026, 0.016666666666666666, 0...</td>\n",
       "      <td>0.0</td>\n",
       "    </tr>\n",
       "    <tr>\n",
       "      <th>ENST00000370801</th>\n",
       "      <td>[0.03761061946902655, 0.022123893805309734, 0....</td>\n",
       "      <td>1.0</td>\n",
       "    </tr>\n",
       "  </tbody>\n",
       "</table>\n",
       "<p>848 rows × 2 columns</p>\n",
       "</div>"
      ],
      "text/plain": [
       "                                                        codon_freq  \\\n",
       "ENST00000261772  [0.022703818369453045, 0.005159958720330237, 0...   \n",
       "ENST00000205557  [0.008643617021276596, 0.006648936170212766, 0...   \n",
       "ENST00000525795  [0.009478672985781991, 0.0, 0.0047393364928909...   \n",
       "ENST00000370841  [0.04265402843601896, 0.02132701421800948, 0.0...   \n",
       "ENST00000356140  [0.050445103857566766, 0.01483679525222552, 0....   \n",
       "...                                                            ...   \n",
       "ENST00000588311  [0.06913996627318718, 0.01517706576728499, 0.0...   \n",
       "ENST00000307771  [0.041407867494824016, 0.026915113871635612, 0...   \n",
       "ENST00000439158  [0.036855036855036855, 0.03194103194103194, 0....   \n",
       "ENST00000200135  [0.041025641025641026, 0.016666666666666666, 0...   \n",
       "ENST00000370801  [0.03761061946902655, 0.022123893805309734, 0....   \n",
       "\n",
       "                 targets_bin_kidney  \n",
       "ENST00000261772                 0.0  \n",
       "ENST00000205557                 1.0  \n",
       "ENST00000525795                 1.0  \n",
       "ENST00000370841                 1.0  \n",
       "ENST00000356140                 1.0  \n",
       "...                             ...  \n",
       "ENST00000588311                 0.0  \n",
       "ENST00000307771                 0.0  \n",
       "ENST00000439158                 1.0  \n",
       "ENST00000200135                 0.0  \n",
       "ENST00000370801                 1.0  \n",
       "\n",
       "[848 rows x 2 columns]"
      ]
     },
     "execution_count": 13,
     "metadata": {},
     "output_type": "execute_result"
    }
   ],
   "source": [
    "df_kidney = df[[\"codon_freq\", 'targets_bin_kidney']]\n",
    "df_kidney = df_kidney.dropna(subset=[\"targets_bin_kidney\"])\n",
    "df_kidney"
   ]
  },
  {
   "cell_type": "code",
   "execution_count": 94,
   "id": "4a05aff71d231682",
   "metadata": {
    "ExecuteTime": {
     "end_time": "2024-08-02T19:41:25.256185Z",
     "start_time": "2024-08-02T19:41:24.913275Z"
    }
   },
   "outputs": [],
   "source": [
    "# Store kidney example\n",
    "# df_kidney.to_pickle('../../data/kidney_example.pkl')"
   ]
  },
  {
   "cell_type": "code",
   "execution_count": 31,
   "id": "ddf23f2eda0ebc74",
   "metadata": {
    "ExecuteTime": {
     "end_time": "2024-08-06T17:17:03.958701Z",
     "start_time": "2024-08-06T17:17:03.948702Z"
    }
   },
   "outputs": [],
   "source": [
    "# CHECKPOINT\n",
    "# Load kidney example\n",
    "# df_kidney = pd.read_csv('../../data/kidney_example.csv', index_col=0)\n",
    "df_kidney = pd.read_pickle('../../data/kidney_example.pkl')"
   ]
  },
  {
   "cell_type": "code",
   "execution_count": 14,
   "id": "42110d1e75155462",
   "metadata": {
    "ExecuteTime": {
     "end_time": "2024-08-06T17:17:11.407973Z",
     "start_time": "2024-08-06T17:17:11.385915Z"
    }
   },
   "outputs": [],
   "source": [
    "x = np.array(df_kidney[\"codon_freq\"].tolist())\n",
    "y = np.array(df_kidney[\"targets_bin_kidney\"].tolist())"
   ]
  },
  {
   "cell_type": "code",
   "execution_count": 32,
   "id": "174e1c26-da60-4b78-b783-5aed97ccc216",
   "metadata": {},
   "outputs": [
    {
     "data": {
      "text/plain": [
       "array([[0.02270382, 0.00515996, 0.02786378, ..., 0.00825593, 0.00825593,\n",
       "        0.02167183],\n",
       "       [0.00864362, 0.00664894, 0.01130319, ..., 0.00930851, 0.00864362,\n",
       "        0.01396277],\n",
       "       [0.00947867, 0.        , 0.00473934, ..., 0.        , 0.00473934,\n",
       "        0.00947867],\n",
       "       ...,\n",
       "       [0.03685504, 0.03194103, 0.06879607, ..., 0.02211302, 0.004914  ,\n",
       "        0.01474201],\n",
       "       [0.04102564, 0.01666667, 0.05641026, ..., 0.02820513, 0.01153846,\n",
       "        0.02051282],\n",
       "       [0.03761062, 0.02212389, 0.06747788, ..., 0.01548673, 0.0210177 ,\n",
       "        0.01769912]])"
      ]
     },
     "execution_count": 32,
     "metadata": {},
     "output_type": "execute_result"
    }
   ],
   "source": [
    "x"
   ]
  },
  {
   "cell_type": "code",
   "execution_count": 31,
   "id": "331082cc-de80-423e-b5ba-7494f7a0a23c",
   "metadata": {},
   "outputs": [
    {
     "data": {
      "text/plain": [
       "593.5999999999999"
      ]
     },
     "execution_count": 31,
     "metadata": {},
     "output_type": "execute_result"
    }
   ],
   "source": [
    "len(x) * 0.7"
   ]
  },
  {
   "cell_type": "code",
   "execution_count": 18,
   "id": "e57fa19dd0800b0c",
   "metadata": {
    "ExecuteTime": {
     "end_time": "2024-08-06T17:13:23.765986Z",
     "start_time": "2024-08-06T17:13:14.197432Z"
    }
   },
   "outputs": [
    {
     "name": "stderr",
     "output_type": "stream",
     "text": [
      "/export/share/krausef99dm/miniforge3/envs/master-env/lib/python3.10/site-packages/sklearn/neural_network/_multilayer_perceptron.py:690: ConvergenceWarning: Stochastic Optimizer: Maximum iterations (1000) reached and the optimization hasn't converged yet.\n",
      "  warnings.warn(\n"
     ]
    },
    {
     "data": {
      "text/plain": [
       "{'fit_time': array([3.75426722, 3.71201229, 2.5234673 , 5.00319815, 5.81993818]),\n",
       " 'score_time': array([0.00641227, 0.00420523, 0.00551105, 0.00619888, 0.00571704]),\n",
       " 'test_accuracy': array([0.68823529, 0.67647059, 0.74117647, 0.71597633, 0.71597633]),\n",
       " 'train_accuracy': array([0.78171091, 0.76696165, 0.75663717, 0.78939617, 0.77466863]),\n",
       " 'test_roc_auc': array([0.75692137, 0.75653979, 0.79128028, 0.79593838, 0.7662465 ]),\n",
       " 'train_roc_auc': array([0.86364427, 0.84947397, 0.85216287, 0.87645977, 0.8667945 ])}"
      ]
     },
     "execution_count": 18,
     "metadata": {},
     "output_type": "execute_result"
    }
   ],
   "source": [
    "# Try MLP\n",
    "from sklearn.neural_network import MLPClassifier\n",
    "from sklearn.model_selection import cross_validate\n",
    "\n",
    "clf = MLPClassifier(random_state=42, max_iter=1000)\n",
    "cv_scores = cross_validate(clf, x, y, cv=5, scoring=['accuracy', 'roc_auc'], return_train_score=True)\n",
    "cv_scores"
   ]
  },
  {
   "cell_type": "code",
   "execution_count": 19,
   "id": "ba90d3a261125d26",
   "metadata": {
    "ExecuteTime": {
     "end_time": "2024-08-06T17:13:27.618085Z",
     "start_time": "2024-08-06T17:13:27.612096Z"
    }
   },
   "outputs": [
    {
     "name": "stdout",
     "output_type": "stream",
     "text": [
      "Mean accuracy: 0.707567003132614\n",
      "Std accuracy: 0.02285489837238287\n"
     ]
    }
   ],
   "source": [
    "# mean and std of accuracy\n",
    "print(f\"Mean accuracy: {cv_scores['test_accuracy'].mean()}\")\n",
    "print(f\"Std accuracy: {cv_scores['test_accuracy'].std()}\")"
   ]
  },
  {
   "cell_type": "code",
   "execution_count": 20,
   "id": "87b5c6c5c61768d1",
   "metadata": {
    "ExecuteTime": {
     "end_time": "2024-08-06T17:13:28.351001Z",
     "start_time": "2024-08-06T17:13:28.339Z"
    }
   },
   "outputs": [
    {
     "name": "stdout",
     "output_type": "stream",
     "text": [
      "Mean ROC: 0.773385263270835\n",
      "Std ROC: 0.016939102106242044\n"
     ]
    }
   ],
   "source": [
    "# mean and std of ROC\n",
    "print(f\"Mean ROC: {cv_scores['test_roc_auc'].mean()}\")\n",
    "print(f\"Std ROC: {cv_scores['test_roc_auc'].std()}\")"
   ]
  },
  {
   "cell_type": "code",
   "execution_count": 21,
   "id": "9a07d5b399ece039",
   "metadata": {
    "ExecuteTime": {
     "end_time": "2024-08-06T17:11:49.759457Z",
     "start_time": "2024-08-06T17:11:48.625471Z"
    }
   },
   "outputs": [
    {
     "data": {
      "text/plain": [
       "{'fit_time': array([0.21466231, 0.20948768, 0.20733571, 0.20783114, 0.20757008]),\n",
       " 'score_time': array([0.01433349, 0.01265955, 0.01252437, 0.01246428, 0.01248884]),\n",
       " 'test_accuracy': array([0.68823529, 0.72352941, 0.71764706, 0.75739645, 0.72189349]),\n",
       " 'train_accuracy': array([0.75663717, 0.74926254, 0.74926254, 0.73932253, 0.74963181]),\n",
       " 'test_roc_auc': array([0.76785714, 0.77605536, 0.78242215, 0.81568627, 0.79187675]),\n",
       " 'train_roc_auc': array([0.83018187, 0.82743197, 0.83093885, 0.82155686, 0.82829391])}"
      ]
     },
     "execution_count": 21,
     "metadata": {},
     "output_type": "execute_result"
    }
   ],
   "source": [
    "from sklearn.model_selection import cross_validate\n",
    "from sklearn.ensemble import RandomForestClassifier\n",
    "\n",
    "clf = RandomForestClassifier(n_estimators=100, max_depth=2, random_state=42)\n",
    "cv_scores = cross_validate(clf, x, y, cv=5, scoring=['accuracy', 'roc_auc'], return_train_score=True)\n",
    "cv_scores"
   ]
  },
  {
   "cell_type": "code",
   "execution_count": 22,
   "id": "d894345aa293163f",
   "metadata": {
    "ExecuteTime": {
     "end_time": "2024-08-06T17:12:34.881878Z",
     "start_time": "2024-08-06T17:12:34.865873Z"
    }
   },
   "outputs": [
    {
     "name": "stdout",
     "output_type": "stream",
     "text": [
      "Mean accuracy: 0.7217403411068569\n",
      "Std accuracy: 0.021972371026578615\n"
     ]
    }
   ],
   "source": [
    "# mean and std of accuracy\n",
    "print(f\"Mean accuracy: {cv_scores['test_accuracy'].mean()}\")\n",
    "print(f\"Std accuracy: {cv_scores['test_accuracy'].std()}\")"
   ]
  },
  {
   "cell_type": "code",
   "execution_count": 26,
   "id": "875cbf8573aecb2a",
   "metadata": {
    "ExecuteTime": {
     "end_time": "2024-08-06T17:12:49.164270Z",
     "start_time": "2024-08-06T17:12:49.150576Z"
    }
   },
   "outputs": [
    {
     "name": "stdout",
     "output_type": "stream",
     "text": [
      "Mean ROC: 0.7724701820536696\n",
      "Std ROC: 0.022426286049961032\n"
     ]
    }
   ],
   "source": [
    "# mean and std of ROC\n",
    "print(f\"Mean ROC: {cv_scores['test_roc_auc'].mean()}\")\n",
    "print(f\"Std ROC: {cv_scores['test_roc_auc'].std()}\")"
   ]
  },
  {
   "cell_type": "code",
   "execution_count": 24,
   "id": "8b939bb1-387c-44f4-9050-803dd94882c0",
   "metadata": {},
   "outputs": [
    {
     "data": {
      "text/plain": [
       "{'fit_time': array([0.02985144, 0.00559044, 0.00564003, 0.00646281, 0.00502849]),\n",
       " 'score_time': array([0.00635028, 0.0045979 , 0.00510359, 0.00486922, 0.00483012]),\n",
       " 'test_accuracy': array([0.68823529, 0.70588235, 0.68823529, 0.72189349, 0.71005917]),\n",
       " 'train_accuracy': array([0.71091445, 0.7020649 , 0.71386431, 0.69955817, 0.70544919]),\n",
       " 'test_roc_auc': array([0.74723145, 0.74878893, 0.78117647, 0.80728291, 0.77787115]),\n",
       " 'train_roc_auc': array([0.78489384, 0.78031971, 0.77615148, 0.76858006, 0.77560777])}"
      ]
     },
     "execution_count": 24,
     "metadata": {},
     "output_type": "execute_result"
    }
   ],
   "source": [
    "from sklearn.model_selection import cross_validate\n",
    "from sklearn.linear_model import LogisticRegression\n",
    "\n",
    "clf = LogisticRegression(random_state=42)\n",
    "cv_scores = cross_validate(clf, x, y, cv=5, scoring=['accuracy', 'roc_auc'], return_train_score=True)\n",
    "cv_scores"
   ]
  },
  {
   "cell_type": "code",
   "execution_count": 25,
   "id": "4f728999-e08a-43d5-9929-388e6ee5216a",
   "metadata": {},
   "outputs": [
    {
     "name": "stdout",
     "output_type": "stream",
     "text": [
      "Mean accuracy: 0.7028611207796728\n",
      "Std accuracy: 0.013046076125643498\n"
     ]
    }
   ],
   "source": [
    "# mean and std of accuracy\n",
    "print(f\"Mean accuracy: {cv_scores['test_accuracy'].mean()}\")\n",
    "print(f\"Std accuracy: {cv_scores['test_accuracy'].std()}\")"
   ]
  },
  {
   "cell_type": "code",
   "execution_count": 27,
   "id": "551a743c-e51f-4bcb-bf14-ad39bb88a6fb",
   "metadata": {},
   "outputs": [
    {
     "name": "stdout",
     "output_type": "stream",
     "text": [
      "Mean ROC: 0.7724701820536696\n",
      "Std ROC: 0.022426286049961032\n"
     ]
    }
   ],
   "source": [
    "# mean and std of ROC\n",
    "print(f\"Mean ROC: {cv_scores['test_roc_auc'].mean()}\")\n",
    "print(f\"Std ROC: {cv_scores['test_roc_auc'].std()}\")"
   ]
  },
  {
   "cell_type": "markdown",
   "id": "72d3c4e8fe9fba01",
   "metadata": {},
   "source": [
    "## Try around with padding"
   ]
  },
  {
   "cell_type": "code",
   "execution_count": 24,
   "id": "5290fd0528e49a1e",
   "metadata": {
    "ExecuteTime": {
     "end_time": "2024-09-06T13:11:20.635894Z",
     "start_time": "2024-09-06T13:11:20.626974Z"
    }
   },
   "outputs": [],
   "source": [
    "import torch\n",
    "import numpy as np"
   ]
  },
  {
   "cell_type": "code",
   "execution_count": 49,
   "id": "5499442981938de2",
   "metadata": {
    "ExecuteTime": {
     "end_time": "2024-09-06T13:25:36.975799Z",
     "start_time": "2024-09-06T13:25:36.969799Z"
    }
   },
   "outputs": [],
   "source": [
    "# tensor of size 10 x 3 x 5\n",
    "xs = []\n",
    "for i in range(10):\n",
    "    x = torch.randint(0, 10, (np.random.randint(5, 13, 1)[0], 3))\n",
    "    xs.append(x)"
   ]
  },
  {
   "cell_type": "code",
   "execution_count": 54,
   "id": "91375ace62da5c52",
   "metadata": {
    "ExecuteTime": {
     "end_time": "2024-09-06T13:30:17.336967Z",
     "start_time": "2024-09-06T13:30:17.330970Z"
    }
   },
   "outputs": [],
   "source": [
    "lengths = torch.tensor([x.size(0) for x in xs])"
   ]
  },
  {
   "cell_type": "code",
   "execution_count": 52,
   "id": "8c3d8dddc3e4fde6",
   "metadata": {
    "ExecuteTime": {
     "end_time": "2024-09-06T13:29:54.555182Z",
     "start_time": "2024-09-06T13:29:54.534184Z"
    },
    "collapsed": true,
    "jupyter": {
     "outputs_hidden": true
    }
   },
   "outputs": [
    {
     "data": {
      "text/plain": [
       "tensor([[[2, 9, 0],\n",
       "         [0, 8, 2],\n",
       "         [5, 8, 2],\n",
       "         [2, 5, 0],\n",
       "         [6, 3, 2],\n",
       "         [9, 5, 6],\n",
       "         [0, 0, 0],\n",
       "         [0, 0, 0],\n",
       "         [0, 0, 0],\n",
       "         [0, 0, 0],\n",
       "         [0, 0, 0],\n",
       "         [0, 0, 0]],\n",
       "\n",
       "        [[8, 0, 0],\n",
       "         [1, 5, 7],\n",
       "         [6, 7, 6],\n",
       "         [9, 2, 5],\n",
       "         [4, 0, 8],\n",
       "         [1, 4, 3],\n",
       "         [2, 4, 8],\n",
       "         [0, 9, 7],\n",
       "         [9, 5, 0],\n",
       "         [4, 1, 5],\n",
       "         [1, 1, 7],\n",
       "         [0, 0, 0]],\n",
       "\n",
       "        [[0, 2, 5],\n",
       "         [4, 9, 4],\n",
       "         [5, 2, 2],\n",
       "         [3, 5, 1],\n",
       "         [2, 7, 3],\n",
       "         [8, 3, 4],\n",
       "         [4, 5, 4],\n",
       "         [7, 4, 8],\n",
       "         [7, 8, 8],\n",
       "         [4, 7, 3],\n",
       "         [0, 0, 0],\n",
       "         [0, 0, 0]],\n",
       "\n",
       "        [[7, 0, 7],\n",
       "         [5, 0, 7],\n",
       "         [5, 6, 4],\n",
       "         [4, 0, 1],\n",
       "         [4, 7, 8],\n",
       "         [9, 4, 5],\n",
       "         [8, 0, 0],\n",
       "         [7, 8, 2],\n",
       "         [6, 3, 2],\n",
       "         [1, 9, 1],\n",
       "         [4, 0, 2],\n",
       "         [0, 0, 0]],\n",
       "\n",
       "        [[1, 0, 3],\n",
       "         [8, 0, 7],\n",
       "         [6, 8, 1],\n",
       "         [9, 9, 7],\n",
       "         [1, 3, 2],\n",
       "         [8, 2, 3],\n",
       "         [8, 2, 3],\n",
       "         [7, 1, 9],\n",
       "         [0, 0, 0],\n",
       "         [0, 0, 0],\n",
       "         [0, 0, 0],\n",
       "         [0, 0, 0]],\n",
       "\n",
       "        [[8, 6, 3],\n",
       "         [0, 1, 5],\n",
       "         [1, 3, 8],\n",
       "         [1, 6, 3],\n",
       "         [6, 9, 6],\n",
       "         [2, 4, 6],\n",
       "         [7, 0, 0],\n",
       "         [0, 3, 2],\n",
       "         [0, 0, 0],\n",
       "         [0, 0, 0],\n",
       "         [0, 0, 0],\n",
       "         [0, 0, 0]],\n",
       "\n",
       "        [[8, 8, 4],\n",
       "         [4, 2, 4],\n",
       "         [1, 8, 0],\n",
       "         [1, 5, 8],\n",
       "         [4, 3, 6],\n",
       "         [0, 0, 0],\n",
       "         [0, 0, 0],\n",
       "         [0, 0, 0],\n",
       "         [0, 0, 0],\n",
       "         [0, 0, 0],\n",
       "         [0, 0, 0],\n",
       "         [0, 0, 0]],\n",
       "\n",
       "        [[3, 0, 3],\n",
       "         [9, 8, 4],\n",
       "         [5, 0, 3],\n",
       "         [4, 5, 5],\n",
       "         [4, 1, 5],\n",
       "         [0, 0, 0],\n",
       "         [0, 0, 0],\n",
       "         [0, 0, 0],\n",
       "         [0, 0, 0],\n",
       "         [0, 0, 0],\n",
       "         [0, 0, 0],\n",
       "         [0, 0, 0]],\n",
       "\n",
       "        [[3, 8, 6],\n",
       "         [6, 2, 6],\n",
       "         [8, 9, 4],\n",
       "         [1, 9, 3],\n",
       "         [0, 5, 5],\n",
       "         [0, 0, 0],\n",
       "         [0, 0, 0],\n",
       "         [0, 0, 0],\n",
       "         [0, 0, 0],\n",
       "         [0, 0, 0],\n",
       "         [0, 0, 0],\n",
       "         [0, 0, 0]],\n",
       "\n",
       "        [[8, 0, 2],\n",
       "         [4, 0, 5],\n",
       "         [9, 6, 6],\n",
       "         [6, 3, 6],\n",
       "         [3, 4, 2],\n",
       "         [9, 4, 1],\n",
       "         [9, 5, 4],\n",
       "         [4, 9, 2],\n",
       "         [7, 6, 2],\n",
       "         [5, 6, 6],\n",
       "         [8, 8, 1],\n",
       "         [4, 6, 5]]])"
      ]
     },
     "execution_count": 52,
     "metadata": {},
     "output_type": "execute_result"
    }
   ],
   "source": [
    "xs_padded = torch.nn.utils.rnn.pad_sequence(xs, batch_first=True)\n",
    "xs_padded"
   ]
  },
  {
   "cell_type": "code",
   "execution_count": 55,
   "id": "5c3c9933e2a7439d",
   "metadata": {
    "ExecuteTime": {
     "end_time": "2024-09-06T13:30:23.166868Z",
     "start_time": "2024-09-06T13:30:23.149752Z"
    }
   },
   "outputs": [],
   "source": [
    "xs_packed = torch.nn.utils.rnn.pack_padded_sequence(xs_padded, lengths, batch_first=True, enforce_sorted=False)"
   ]
  },
  {
   "cell_type": "code",
   "execution_count": 56,
   "id": "a591566e800061b7",
   "metadata": {
    "ExecuteTime": {
     "end_time": "2024-09-06T13:30:26.576746Z",
     "start_time": "2024-09-06T13:30:26.566317Z"
    },
    "collapsed": true,
    "jupyter": {
     "outputs_hidden": true
    }
   },
   "outputs": [
    {
     "data": {
      "text/plain": [
       "PackedSequence(data=tensor([[8, 0, 2],\n",
       "        [8, 0, 0],\n",
       "        [7, 0, 7],\n",
       "        [0, 2, 5],\n",
       "        [1, 0, 3],\n",
       "        [8, 6, 3],\n",
       "        [2, 9, 0],\n",
       "        [8, 8, 4],\n",
       "        [3, 0, 3],\n",
       "        [3, 8, 6],\n",
       "        [4, 0, 5],\n",
       "        [1, 5, 7],\n",
       "        [5, 0, 7],\n",
       "        [4, 9, 4],\n",
       "        [8, 0, 7],\n",
       "        [0, 1, 5],\n",
       "        [0, 8, 2],\n",
       "        [4, 2, 4],\n",
       "        [9, 8, 4],\n",
       "        [6, 2, 6],\n",
       "        [9, 6, 6],\n",
       "        [6, 7, 6],\n",
       "        [5, 6, 4],\n",
       "        [5, 2, 2],\n",
       "        [6, 8, 1],\n",
       "        [1, 3, 8],\n",
       "        [5, 8, 2],\n",
       "        [1, 8, 0],\n",
       "        [5, 0, 3],\n",
       "        [8, 9, 4],\n",
       "        [6, 3, 6],\n",
       "        [9, 2, 5],\n",
       "        [4, 0, 1],\n",
       "        [3, 5, 1],\n",
       "        [9, 9, 7],\n",
       "        [1, 6, 3],\n",
       "        [2, 5, 0],\n",
       "        [1, 5, 8],\n",
       "        [4, 5, 5],\n",
       "        [1, 9, 3],\n",
       "        [3, 4, 2],\n",
       "        [4, 0, 8],\n",
       "        [4, 7, 8],\n",
       "        [2, 7, 3],\n",
       "        [1, 3, 2],\n",
       "        [6, 9, 6],\n",
       "        [6, 3, 2],\n",
       "        [4, 3, 6],\n",
       "        [4, 1, 5],\n",
       "        [0, 5, 5],\n",
       "        [9, 4, 1],\n",
       "        [1, 4, 3],\n",
       "        [9, 4, 5],\n",
       "        [8, 3, 4],\n",
       "        [8, 2, 3],\n",
       "        [2, 4, 6],\n",
       "        [9, 5, 6],\n",
       "        [9, 5, 4],\n",
       "        [2, 4, 8],\n",
       "        [8, 0, 0],\n",
       "        [4, 5, 4],\n",
       "        [8, 2, 3],\n",
       "        [7, 0, 0],\n",
       "        [4, 9, 2],\n",
       "        [0, 9, 7],\n",
       "        [7, 8, 2],\n",
       "        [7, 4, 8],\n",
       "        [7, 1, 9],\n",
       "        [0, 3, 2],\n",
       "        [7, 6, 2],\n",
       "        [9, 5, 0],\n",
       "        [6, 3, 2],\n",
       "        [7, 8, 8],\n",
       "        [5, 6, 6],\n",
       "        [4, 1, 5],\n",
       "        [1, 9, 1],\n",
       "        [4, 7, 3],\n",
       "        [8, 8, 1],\n",
       "        [1, 1, 7],\n",
       "        [4, 0, 2],\n",
       "        [4, 6, 5]]), batch_sizes=tensor([10, 10, 10, 10, 10,  7,  6,  6,  4,  4,  3,  1]), sorted_indices=tensor([9, 1, 3, 2, 4, 5, 0, 6, 7, 8]), unsorted_indices=tensor([6, 1, 3, 2, 4, 5, 7, 8, 9, 0]))"
      ]
     },
     "execution_count": 56,
     "metadata": {},
     "output_type": "execute_result"
    }
   ],
   "source": [
    "xs_packed"
   ]
  },
  {
   "cell_type": "code",
   "execution_count": 12,
   "id": "3d52214a03f397e4",
   "metadata": {
    "ExecuteTime": {
     "end_time": "2024-09-06T13:09:12.325653Z",
     "start_time": "2024-09-06T13:09:12.193987Z"
    }
   },
   "outputs": [
    {
     "ename": "AttributeError",
     "evalue": "'Tensor' object has no attribute 'batch_sizes'",
     "output_type": "error",
     "traceback": [
      "\u001b[1;31m---------------------------------------------------------------------------\u001b[0m",
      "\u001b[1;31mAttributeError\u001b[0m                            Traceback (most recent call last)",
      "Cell \u001b[1;32mIn[12], line 1\u001b[0m\n\u001b[1;32m----> 1\u001b[0m \u001b[43mtorch\u001b[49m\u001b[38;5;241;43m.\u001b[39;49m\u001b[43mnn\u001b[49m\u001b[38;5;241;43m.\u001b[39;49m\u001b[43mutils\u001b[49m\u001b[38;5;241;43m.\u001b[39;49m\u001b[43mrnn\u001b[49m\u001b[38;5;241;43m.\u001b[39;49m\u001b[43mpad_packed_sequence\u001b[49m\u001b[43m(\u001b[49m\u001b[43mx\u001b[49m\u001b[43m)\u001b[49m\n",
      "File \u001b[1;32m~\\miniforge3\\envs\\master-env\\lib\\site-packages\\torch\\nn\\utils\\rnn.py:325\u001b[0m, in \u001b[0;36mpad_packed_sequence\u001b[1;34m(sequence, batch_first, padding_value, total_length)\u001b[0m\n\u001b[0;32m    268\u001b[0m \u001b[38;5;28;01mdef\u001b[39;00m \u001b[38;5;21mpad_packed_sequence\u001b[39m(\n\u001b[0;32m    269\u001b[0m     sequence: PackedSequence,\n\u001b[0;32m    270\u001b[0m     batch_first: \u001b[38;5;28mbool\u001b[39m \u001b[38;5;241m=\u001b[39m \u001b[38;5;28;01mFalse\u001b[39;00m,\n\u001b[0;32m    271\u001b[0m     padding_value: \u001b[38;5;28mfloat\u001b[39m \u001b[38;5;241m=\u001b[39m \u001b[38;5;241m0.0\u001b[39m,\n\u001b[0;32m    272\u001b[0m     total_length: Optional[\u001b[38;5;28mint\u001b[39m] \u001b[38;5;241m=\u001b[39m \u001b[38;5;28;01mNone\u001b[39;00m,\n\u001b[0;32m    273\u001b[0m ) \u001b[38;5;241m-\u001b[39m\u001b[38;5;241m>\u001b[39m Tuple[Tensor, Tensor]:\n\u001b[0;32m    274\u001b[0m \u001b[38;5;250m    \u001b[39m\u001b[38;5;124mr\u001b[39m\u001b[38;5;124;03m\"\"\"Pad a packed batch of variable length sequences.\u001b[39;00m\n\u001b[0;32m    275\u001b[0m \n\u001b[0;32m    276\u001b[0m \u001b[38;5;124;03m    It is an inverse operation to :func:`pack_padded_sequence`.\u001b[39;00m\n\u001b[1;32m   (...)\u001b[0m\n\u001b[0;32m    323\u001b[0m \n\u001b[0;32m    324\u001b[0m \u001b[38;5;124;03m    \"\"\"\u001b[39;00m\n\u001b[1;32m--> 325\u001b[0m     max_seq_length \u001b[38;5;241m=\u001b[39m \u001b[43msequence\u001b[49m\u001b[38;5;241;43m.\u001b[39;49m\u001b[43mbatch_sizes\u001b[49m\u001b[38;5;241m.\u001b[39msize(\u001b[38;5;241m0\u001b[39m)\n\u001b[0;32m    326\u001b[0m     \u001b[38;5;28;01mif\u001b[39;00m total_length \u001b[38;5;129;01mis\u001b[39;00m \u001b[38;5;129;01mnot\u001b[39;00m \u001b[38;5;28;01mNone\u001b[39;00m:\n\u001b[0;32m    327\u001b[0m         \u001b[38;5;28;01mif\u001b[39;00m total_length \u001b[38;5;241m<\u001b[39m max_seq_length:\n",
      "\u001b[1;31mAttributeError\u001b[0m: 'Tensor' object has no attribute 'batch_sizes'"
     ]
    }
   ],
   "source": [
    "torch.nn.utils.rnn.pad_packed_sequence(x)"
   ]
  },
  {
   "cell_type": "code",
   "execution_count": 57,
   "id": "2345a3e6cd8cf431",
   "metadata": {
    "ExecuteTime": {
     "end_time": "2024-09-06T15:17:13.210103Z",
     "start_time": "2024-09-06T15:17:13.187998Z"
    }
   },
   "outputs": [
    {
     "name": "stdout",
     "output_type": "stream",
     "text": [
      "torch.Size([32, 1000, 32])\n"
     ]
    }
   ],
   "source": [
    "import torch\n",
    "import torch.nn.functional as F\n",
    "\n",
    "# Assuming your tensor is of shape (32, 980, 32)\n",
    "tensor = torch.randn(32, 980, 32)\n",
    "\n",
    "# Define the max sequence length\n",
    "max_seq_length = 1000  # for example\n",
    "\n",
    "# Calculate the padding required\n",
    "padding_size = max_seq_length - tensor.size(1)\n",
    "\n",
    "# Apply padding along the second dimension (left and right padding as (0, 0, 0, padding_size))\n",
    "if padding_size > 0:\n",
    "    padded_tensor = F.pad(tensor, (0, 0, 0, padding_size), mode='constant', value=0)\n",
    "else:\n",
    "    padded_tensor = tensor  # No padding needed if max_seq_length <= 980\n",
    "\n",
    "print(padded_tensor.shape)  # Should be (32, max_seq_length, 32)\n"
   ]
  },
  {
   "cell_type": "code",
   "execution_count": 58,
   "id": "df29ceee4517bf9e",
   "metadata": {
    "ExecuteTime": {
     "end_time": "2024-09-06T15:17:24.359246Z",
     "start_time": "2024-09-06T15:17:24.344949Z"
    }
   },
   "outputs": [
    {
     "data": {
      "text/plain": [
       "torch.Size([32, 980, 32])"
      ]
     },
     "execution_count": 58,
     "metadata": {},
     "output_type": "execute_result"
    }
   ],
   "source": [
    "tensor.shape"
   ]
  }
 ],
 "metadata": {
  "kernelspec": {
   "display_name": "Python 3 (ipykernel)",
   "language": "python",
   "name": "python3"
  },
  "language_info": {
   "codemirror_mode": {
    "name": "ipython",
    "version": 3
   },
   "file_extension": ".py",
   "mimetype": "text/x-python",
   "name": "python",
   "nbconvert_exporter": "python",
   "pygments_lexer": "ipython3",
   "version": "3.10.14"
  }
 },
 "nbformat": 4,
 "nbformat_minor": 5
}
