{
 "cells": [
  {
   "metadata": {},
   "cell_type": "markdown",
   "source": "# Dev notebook for manual work",
   "id": "d6a2d05cd3a2acd3"
  },
  {
   "metadata": {
    "ExecuteTime": {
     "end_time": "2024-08-01T20:09:17.703033Z",
     "start_time": "2024-08-01T20:09:16.437319Z"
    }
   },
   "cell_type": "code",
   "source": [
    "import pandas as pd\n",
    "import numpy as np\n",
    "import matplotlib.pyplot as plt"
   ],
   "id": "89db738184827f6c",
   "outputs": [],
   "execution_count": 1
  },
  {
   "metadata": {},
   "cell_type": "markdown",
   "source": "## Creating ptr.csv",
   "id": "1a7bcb3a1b2b137a"
  },
  {
   "metadata": {
    "ExecuteTime": {
     "end_time": "2024-08-01T17:50:26.256859Z",
     "start_time": "2024-08-01T17:50:01.623215Z"
    }
   },
   "cell_type": "code",
   "source": [
    "# read excel file in data\n",
    "data = pd.read_excel('../../data/Additional file 2.xlsx', sheet_name='PTR_Eraslan2019')"
   ],
   "id": "4ab9a6455958b47e",
   "outputs": [],
   "execution_count": 3
  },
  {
   "metadata": {
    "ExecuteTime": {
     "end_time": "2024-08-01T17:53:23.570700Z",
     "start_time": "2024-08-01T17:53:23.338926Z"
    }
   },
   "cell_type": "code",
   "source": [
    "# Store\n",
    "data.to_csv('../../data/ptr.csv', index=False)"
   ],
   "id": "e1b352898c680b13",
   "outputs": [],
   "execution_count": 5
  },
  {
   "metadata": {
    "ExecuteTime": {
     "end_time": "2024-08-01T17:50:42.620995Z",
     "start_time": "2024-08-01T17:50:42.577065Z"
    }
   },
   "cell_type": "code",
   "source": "data.head(10)",
   "id": "2a07807ee7604a75",
   "outputs": [
    {
     "data": {
      "text/plain": [
       "  GeneName    EnsemblGeneID EnsemblTranscriptID EnsemblProteinID  Adrenal  \\\n",
       "0     A1BG  ENSG00000121410     ENST00000263100  ENSP00000263100      NaN   \n",
       "1     A1CF  ENSG00000148584     ENST00000373993  ENSP00000363105      NaN   \n",
       "2      A2M  ENSG00000175899     ENST00000318602  ENSP00000323929    6.290   \n",
       "3    A2ML1  ENSG00000166535     ENST00000299698  ENSP00000299698      NaN   \n",
       "4   A4GALT  ENSG00000128274     ENST00000401850  ENSP00000384794    3.843   \n",
       "5    A4GNT  ENSG00000118017     ENST00000236709  ENSP00000236709      NaN   \n",
       "6     AAAS  ENSG00000094914     ENST00000209873  ENSP00000209873    4.513   \n",
       "7     AACS  ENSG00000081760     ENST00000316519  ENSP00000324842    4.559   \n",
       "8    AADAC  ENSG00000114771     ENST00000232892  ENSP00000232892    5.110   \n",
       "9    AADAT  ENSG00000109576     ENST00000515480  ENSP00000423341    5.227   \n",
       "\n",
       "   Appendices  Brain  Colon  Duodenum  Uterus  ...  Rectum  Salivarygland  \\\n",
       "0       8.277    NaN    NaN       NaN     NaN  ...     NaN          7.718   \n",
       "1         NaN    NaN  5.135     5.371     NaN  ...   5.147            NaN   \n",
       "2       6.328  5.948  5.811     6.068   5.383  ...   6.081          5.726   \n",
       "3         NaN  3.995    NaN       NaN     NaN  ...     NaN            NaN   \n",
       "4       4.601    NaN    NaN       NaN     NaN  ...   4.731          4.508   \n",
       "5         NaN    NaN    NaN       NaN     NaN  ...     NaN            NaN   \n",
       "6       4.434  4.461  4.536     4.917   4.677  ...   4.440          4.350   \n",
       "7       5.015  5.120  4.426     5.285   4.640  ...   4.817          4.807   \n",
       "8         NaN    NaN    NaN     5.008     NaN  ...     NaN            NaN   \n",
       "9         NaN  4.165  4.115       NaN   4.801  ...   4.282            NaN   \n",
       "\n",
       "   Smallintestine  Smoothmuscle  Spleen  Stomach  Testis  Thyroid  Tonsil  \\\n",
       "0             NaN           NaN   7.313      NaN     NaN      NaN     NaN   \n",
       "1           5.202           NaN     NaN   5.8143     NaN      NaN     NaN   \n",
       "2           5.699         4.997   5.136   6.5349   5.820    6.060   5.675   \n",
       "3             NaN           NaN     NaN      NaN   2.350      NaN   5.249   \n",
       "4             NaN           NaN     NaN   4.0613   4.832      NaN     NaN   \n",
       "5             NaN           NaN     NaN   4.3992     NaN      NaN     NaN   \n",
       "6           4.120         4.241   3.975   5.0890   4.991    4.651   4.505   \n",
       "7           4.395         4.310     NaN   4.7653   4.552    4.588   4.901   \n",
       "8           5.076           NaN     NaN   4.7098     NaN      NaN     NaN   \n",
       "9             NaN           NaN     NaN   4.5203   3.657    3.563     NaN   \n",
       "\n",
       "   Urinarybladder  \n",
       "0             NaN  \n",
       "1             NaN  \n",
       "2          5.8286  \n",
       "3             NaN  \n",
       "4          4.2430  \n",
       "5             NaN  \n",
       "6          4.4699  \n",
       "7          4.8409  \n",
       "8             NaN  \n",
       "9          4.2271  \n",
       "\n",
       "[10 rows x 33 columns]"
      ],
      "text/html": [
       "<div>\n",
       "<style scoped>\n",
       "    .dataframe tbody tr th:only-of-type {\n",
       "        vertical-align: middle;\n",
       "    }\n",
       "\n",
       "    .dataframe tbody tr th {\n",
       "        vertical-align: top;\n",
       "    }\n",
       "\n",
       "    .dataframe thead th {\n",
       "        text-align: right;\n",
       "    }\n",
       "</style>\n",
       "<table border=\"1\" class=\"dataframe\">\n",
       "  <thead>\n",
       "    <tr style=\"text-align: right;\">\n",
       "      <th></th>\n",
       "      <th>GeneName</th>\n",
       "      <th>EnsemblGeneID</th>\n",
       "      <th>EnsemblTranscriptID</th>\n",
       "      <th>EnsemblProteinID</th>\n",
       "      <th>Adrenal</th>\n",
       "      <th>Appendices</th>\n",
       "      <th>Brain</th>\n",
       "      <th>Colon</th>\n",
       "      <th>Duodenum</th>\n",
       "      <th>Uterus</th>\n",
       "      <th>...</th>\n",
       "      <th>Rectum</th>\n",
       "      <th>Salivarygland</th>\n",
       "      <th>Smallintestine</th>\n",
       "      <th>Smoothmuscle</th>\n",
       "      <th>Spleen</th>\n",
       "      <th>Stomach</th>\n",
       "      <th>Testis</th>\n",
       "      <th>Thyroid</th>\n",
       "      <th>Tonsil</th>\n",
       "      <th>Urinarybladder</th>\n",
       "    </tr>\n",
       "  </thead>\n",
       "  <tbody>\n",
       "    <tr>\n",
       "      <th>0</th>\n",
       "      <td>A1BG</td>\n",
       "      <td>ENSG00000121410</td>\n",
       "      <td>ENST00000263100</td>\n",
       "      <td>ENSP00000263100</td>\n",
       "      <td>NaN</td>\n",
       "      <td>8.277</td>\n",
       "      <td>NaN</td>\n",
       "      <td>NaN</td>\n",
       "      <td>NaN</td>\n",
       "      <td>NaN</td>\n",
       "      <td>...</td>\n",
       "      <td>NaN</td>\n",
       "      <td>7.718</td>\n",
       "      <td>NaN</td>\n",
       "      <td>NaN</td>\n",
       "      <td>7.313</td>\n",
       "      <td>NaN</td>\n",
       "      <td>NaN</td>\n",
       "      <td>NaN</td>\n",
       "      <td>NaN</td>\n",
       "      <td>NaN</td>\n",
       "    </tr>\n",
       "    <tr>\n",
       "      <th>1</th>\n",
       "      <td>A1CF</td>\n",
       "      <td>ENSG00000148584</td>\n",
       "      <td>ENST00000373993</td>\n",
       "      <td>ENSP00000363105</td>\n",
       "      <td>NaN</td>\n",
       "      <td>NaN</td>\n",
       "      <td>NaN</td>\n",
       "      <td>5.135</td>\n",
       "      <td>5.371</td>\n",
       "      <td>NaN</td>\n",
       "      <td>...</td>\n",
       "      <td>5.147</td>\n",
       "      <td>NaN</td>\n",
       "      <td>5.202</td>\n",
       "      <td>NaN</td>\n",
       "      <td>NaN</td>\n",
       "      <td>5.8143</td>\n",
       "      <td>NaN</td>\n",
       "      <td>NaN</td>\n",
       "      <td>NaN</td>\n",
       "      <td>NaN</td>\n",
       "    </tr>\n",
       "    <tr>\n",
       "      <th>2</th>\n",
       "      <td>A2M</td>\n",
       "      <td>ENSG00000175899</td>\n",
       "      <td>ENST00000318602</td>\n",
       "      <td>ENSP00000323929</td>\n",
       "      <td>6.290</td>\n",
       "      <td>6.328</td>\n",
       "      <td>5.948</td>\n",
       "      <td>5.811</td>\n",
       "      <td>6.068</td>\n",
       "      <td>5.383</td>\n",
       "      <td>...</td>\n",
       "      <td>6.081</td>\n",
       "      <td>5.726</td>\n",
       "      <td>5.699</td>\n",
       "      <td>4.997</td>\n",
       "      <td>5.136</td>\n",
       "      <td>6.5349</td>\n",
       "      <td>5.820</td>\n",
       "      <td>6.060</td>\n",
       "      <td>5.675</td>\n",
       "      <td>5.8286</td>\n",
       "    </tr>\n",
       "    <tr>\n",
       "      <th>3</th>\n",
       "      <td>A2ML1</td>\n",
       "      <td>ENSG00000166535</td>\n",
       "      <td>ENST00000299698</td>\n",
       "      <td>ENSP00000299698</td>\n",
       "      <td>NaN</td>\n",
       "      <td>NaN</td>\n",
       "      <td>3.995</td>\n",
       "      <td>NaN</td>\n",
       "      <td>NaN</td>\n",
       "      <td>NaN</td>\n",
       "      <td>...</td>\n",
       "      <td>NaN</td>\n",
       "      <td>NaN</td>\n",
       "      <td>NaN</td>\n",
       "      <td>NaN</td>\n",
       "      <td>NaN</td>\n",
       "      <td>NaN</td>\n",
       "      <td>2.350</td>\n",
       "      <td>NaN</td>\n",
       "      <td>5.249</td>\n",
       "      <td>NaN</td>\n",
       "    </tr>\n",
       "    <tr>\n",
       "      <th>4</th>\n",
       "      <td>A4GALT</td>\n",
       "      <td>ENSG00000128274</td>\n",
       "      <td>ENST00000401850</td>\n",
       "      <td>ENSP00000384794</td>\n",
       "      <td>3.843</td>\n",
       "      <td>4.601</td>\n",
       "      <td>NaN</td>\n",
       "      <td>NaN</td>\n",
       "      <td>NaN</td>\n",
       "      <td>NaN</td>\n",
       "      <td>...</td>\n",
       "      <td>4.731</td>\n",
       "      <td>4.508</td>\n",
       "      <td>NaN</td>\n",
       "      <td>NaN</td>\n",
       "      <td>NaN</td>\n",
       "      <td>4.0613</td>\n",
       "      <td>4.832</td>\n",
       "      <td>NaN</td>\n",
       "      <td>NaN</td>\n",
       "      <td>4.2430</td>\n",
       "    </tr>\n",
       "    <tr>\n",
       "      <th>5</th>\n",
       "      <td>A4GNT</td>\n",
       "      <td>ENSG00000118017</td>\n",
       "      <td>ENST00000236709</td>\n",
       "      <td>ENSP00000236709</td>\n",
       "      <td>NaN</td>\n",
       "      <td>NaN</td>\n",
       "      <td>NaN</td>\n",
       "      <td>NaN</td>\n",
       "      <td>NaN</td>\n",
       "      <td>NaN</td>\n",
       "      <td>...</td>\n",
       "      <td>NaN</td>\n",
       "      <td>NaN</td>\n",
       "      <td>NaN</td>\n",
       "      <td>NaN</td>\n",
       "      <td>NaN</td>\n",
       "      <td>4.3992</td>\n",
       "      <td>NaN</td>\n",
       "      <td>NaN</td>\n",
       "      <td>NaN</td>\n",
       "      <td>NaN</td>\n",
       "    </tr>\n",
       "    <tr>\n",
       "      <th>6</th>\n",
       "      <td>AAAS</td>\n",
       "      <td>ENSG00000094914</td>\n",
       "      <td>ENST00000209873</td>\n",
       "      <td>ENSP00000209873</td>\n",
       "      <td>4.513</td>\n",
       "      <td>4.434</td>\n",
       "      <td>4.461</td>\n",
       "      <td>4.536</td>\n",
       "      <td>4.917</td>\n",
       "      <td>4.677</td>\n",
       "      <td>...</td>\n",
       "      <td>4.440</td>\n",
       "      <td>4.350</td>\n",
       "      <td>4.120</td>\n",
       "      <td>4.241</td>\n",
       "      <td>3.975</td>\n",
       "      <td>5.0890</td>\n",
       "      <td>4.991</td>\n",
       "      <td>4.651</td>\n",
       "      <td>4.505</td>\n",
       "      <td>4.4699</td>\n",
       "    </tr>\n",
       "    <tr>\n",
       "      <th>7</th>\n",
       "      <td>AACS</td>\n",
       "      <td>ENSG00000081760</td>\n",
       "      <td>ENST00000316519</td>\n",
       "      <td>ENSP00000324842</td>\n",
       "      <td>4.559</td>\n",
       "      <td>5.015</td>\n",
       "      <td>5.120</td>\n",
       "      <td>4.426</td>\n",
       "      <td>5.285</td>\n",
       "      <td>4.640</td>\n",
       "      <td>...</td>\n",
       "      <td>4.817</td>\n",
       "      <td>4.807</td>\n",
       "      <td>4.395</td>\n",
       "      <td>4.310</td>\n",
       "      <td>NaN</td>\n",
       "      <td>4.7653</td>\n",
       "      <td>4.552</td>\n",
       "      <td>4.588</td>\n",
       "      <td>4.901</td>\n",
       "      <td>4.8409</td>\n",
       "    </tr>\n",
       "    <tr>\n",
       "      <th>8</th>\n",
       "      <td>AADAC</td>\n",
       "      <td>ENSG00000114771</td>\n",
       "      <td>ENST00000232892</td>\n",
       "      <td>ENSP00000232892</td>\n",
       "      <td>5.110</td>\n",
       "      <td>NaN</td>\n",
       "      <td>NaN</td>\n",
       "      <td>NaN</td>\n",
       "      <td>5.008</td>\n",
       "      <td>NaN</td>\n",
       "      <td>...</td>\n",
       "      <td>NaN</td>\n",
       "      <td>NaN</td>\n",
       "      <td>5.076</td>\n",
       "      <td>NaN</td>\n",
       "      <td>NaN</td>\n",
       "      <td>4.7098</td>\n",
       "      <td>NaN</td>\n",
       "      <td>NaN</td>\n",
       "      <td>NaN</td>\n",
       "      <td>NaN</td>\n",
       "    </tr>\n",
       "    <tr>\n",
       "      <th>9</th>\n",
       "      <td>AADAT</td>\n",
       "      <td>ENSG00000109576</td>\n",
       "      <td>ENST00000515480</td>\n",
       "      <td>ENSP00000423341</td>\n",
       "      <td>5.227</td>\n",
       "      <td>NaN</td>\n",
       "      <td>4.165</td>\n",
       "      <td>4.115</td>\n",
       "      <td>NaN</td>\n",
       "      <td>4.801</td>\n",
       "      <td>...</td>\n",
       "      <td>4.282</td>\n",
       "      <td>NaN</td>\n",
       "      <td>NaN</td>\n",
       "      <td>NaN</td>\n",
       "      <td>NaN</td>\n",
       "      <td>4.5203</td>\n",
       "      <td>3.657</td>\n",
       "      <td>3.563</td>\n",
       "      <td>NaN</td>\n",
       "      <td>4.2271</td>\n",
       "    </tr>\n",
       "  </tbody>\n",
       "</table>\n",
       "<p>10 rows × 33 columns</p>\n",
       "</div>"
      ]
     },
     "execution_count": 4,
     "metadata": {},
     "output_type": "execute_result"
    }
   ],
   "execution_count": 4
  },
  {
   "metadata": {},
   "cell_type": "markdown",
   "source": "## Loading dev data file",
   "id": "f4133da4a88b337d"
  },
  {
   "metadata": {
    "ExecuteTime": {
     "end_time": "2024-08-01T20:25:33.023946Z",
     "start_time": "2024-08-01T20:25:32.570786Z"
    }
   },
   "cell_type": "code",
   "source": [
    "# load data.pkl\n",
    "import pickle\n",
    "\n",
    "with open('../../data/ptr_data.pkl', 'rb') as f:\n",
    "    data = pickle.load(f)\n",
    "    \n",
    "# Insights:\n",
    "# - data is a dictionary with keys as gene ids\n",
    "# - targets are tissue specific PTRs\n",
    "# - targets_bin 1 if \"up\", 0 if \"down\""
   ],
   "id": "90780ade3b957811",
   "outputs": [],
   "execution_count": 7
  },
  {
   "metadata": {
    "ExecuteTime": {
     "end_time": "2024-08-01T20:25:53.592201Z",
     "start_time": "2024-08-01T20:25:53.577178Z"
    }
   },
   "cell_type": "code",
   "source": "len(data.keys())",
   "id": "fd97fbcc235f4ae2",
   "outputs": [
    {
     "data": {
      "text/plain": [
       "11279"
      ]
     },
     "execution_count": 9,
     "metadata": {},
     "output_type": "execute_result"
    }
   ],
   "execution_count": 9
  },
  {
   "metadata": {
    "ExecuteTime": {
     "end_time": "2024-08-01T20:26:11.321954Z",
     "start_time": "2024-08-01T20:26:11.307954Z"
    }
   },
   "cell_type": "code",
   "source": "data[\"ENST00000012049\"].keys()",
   "id": "d8bc8fd9d45d7710",
   "outputs": [
    {
     "data": {
      "text/plain": [
       "dict_keys(['fasta', 'fasta_ohe', 'bed', 'bed_annotation', 'codon_freq', 'targets', 'targets_bin'])"
      ]
     },
     "execution_count": 10,
     "metadata": {},
     "output_type": "execute_result"
    }
   ],
   "execution_count": 10
  },
  {
   "metadata": {
    "ExecuteTime": {
     "end_time": "2024-08-01T20:26:28.850602Z",
     "start_time": "2024-08-01T20:26:28.837024Z"
    }
   },
   "cell_type": "code",
   "source": "data[\"ENST00000012049\"]",
   "id": "e31e3105cd090e69",
   "outputs": [
    {
     "data": {
      "text/plain": [
       "{'fasta': 'AATCCGTGGTCTGGTACAGGTTTCAGGGCAAAGCGGCCATGCGTTCCGGGGGCCGCGGGCGACCCCGCCTGCGGCTGGGGGAACGTGGCCTCATGGAGCCACTCTTGCCGCCGAAGCGCCGCCTGCTACCGCGGGTTCGGCTCTTGCCTCTGTTGCTGGCGCTGGCCGTGGGCTCGGCGTTCTACACCATTTGGAGCGGCTGGCACCGCAGGACTGAGGAGCTGCCGCTGGGCCGGGAGCTGCGGGTCCCATTGATCGGAAGCCTCCCCGAAGCCCGGCTGCGGAGGGTGGTGGGACAACTGGATCCACAGCGTCTCTGGAGCACTTATCTGCGCCCCCTGCTGGTTGTGCGAACCCCGGGCAGCCCGGGAAATCTCCAAGTCAGAAAGTTCCTGGAGGCCACGCTGCGGTCCCTGACAGCAGGTTGGCACGTGGAGCTGGATCCCTTCACAGCCTCAACACCCCTGGGGCCAGTGGACTTTGGCAATGTGGTGGCCACACTGGACCCAAGGGCTGCCCGTCACCTCACCCTTGCCTGCCATTATGACTCGAAGCTCTTCCCACCCGGATCGACCCCCTTTGTAGGGGCCACGGATTCGGCTGTGCCCTGTGCCCTGCTGCTGGAGCTGGCCCAAGCACTTGACCTGGAGCTGAGCAGGGCCAAAAAACAGGCAGCCCCGGTGACCCTGCAACTGCTCTTCTTGGATGGTGAAGAGGCGCTGAAGGAGTGGGGACCCAAGGACTCCCTTTACGGTTCCCGGCACCTGGCCCAGCTCATGGAGTCTATACCTCACAGCCCCGGCCCCACCAGGATCCAGGCTATTGAGCTCTTTATGCTTCTTGATCTCCTGGGAGCCCCCAATCCCACCTTCTACAGCCACTTCCCTCGCACGGTCCGCTGGTTCCATCGGCTGAGGAGCATTGAGAAGCGTCTGCACCGTTTGAACCTGCTGCAGTCTCATCCCCAGGAAGTGATGTACTTCCAACCCGGGGAGCCCTTTGGCTCTGTGGAAGACGACCACATCCCCTTCCTCCGCAGAGGGGTACCCGTGCTCCATCTCATCTCCACGCCCTTCCCTGCTGTCTGGCACACCCCTGCGGACACCGAGGTCAATCTCCACCCACCCACGGTACACAACTTGTGCCGCATTCTCGCTGTGTTCCTGGCTGAATACCTGGGGCTCTAGCGTGCTTGGCCAATGACTGTGGAGAGGACTGTGAGAGAGAAGGTCCCAGCGGGGGCCAGTGAAGCTCAGGCAGGATCTGCCTAGGGTGTGCTGGTTTGTCCTTTTCATACCTTTGTCTCCTAATTGTGCTACAATTGGAAGACCTTCTTTCTTTTGATTGTCTCAAGCTGCCACCCTTCAAGGACAGGGAAGAGACCACTGTGGGATGACAGCCAGAGGAATAAGAACTTGCTCCCTCCCCAGAGGTAAACACTTGGTCCAAAGGTTTGCAGGGACCAAATACTGTTCTTTTTTTTTTTGAGACGGAGTCTCACTGTGTTGCCCAGGCTGGAGTGCAGTGGTGCGATCTCGGCTCACTGCAAACTCCGCCTCCTGGGTTCACGCCATTCTCCTGCCTCAGCCTCCCAAGTAGCTGGGACTACAGGTGCCCGCCACCACGCTGGCTAATTTTTTGTATTTTTAGTAGAGACGGGGTTTCACCGTGTTAGCCAGGATGGTCTCGATCTCCTGACCTTGTAATCCGCCAGCCTCGGCCTCCCAAAGTGCTGGGATTACAGGTGTGAGCCACCGCACCTGGCAAAATGCTGTTCTTTAAGTCAGCGAACTGAAAAAGTAAAAGACTGCTGGGTGTGGTGGCTCACACCTGTAATCCCAACACTTTGAGAGGCTGAGGGGGAAGGATCACCCGAGGTCAGGAGTTTGAGACCAGCCTGGTCAACATGGCGAAACCCTGTCTCTACTAAAAATACAATAATTAGCTGGGCATGGTGGTGGGCGCCTGTAATCTCAGCTGCTTGGGAGGCTGAGGCAGGAGAATCACTTGTACGCAGGAGGCGGAGGTTGCAGTGAGCCAAGATCACACCACTGCACTCCAGCCTGGGCAACAGAGCGAGACTCCATCTCAATAAATAAATAAATAAATAAATATTTTTTAAAAA',\n",
       " 'fasta_ohe': array([0, 0, 3, ..., 0, 0, 0], dtype=int8),\n",
       " 'bed': [['ENST00000012049.10', '0', '38', '5UTR', '.', '+'],\n",
       "  ['ENST00000012049.10', '38', '1187', 'CDS', '.', '+'],\n",
       "  ['ENST00000012049.10', '1187', '2125', '3UTR', '.', '+']],\n",
       " 'bed_annotation': array([5., 5., 5., ..., 3., 3., 3.]),\n",
       " 'codon_freq': array([0.00522193, 0.01305483, 0.0156658 , 0.        , 0.01044386,\n",
       "        0.01827676, 0.0078329 , 0.00261097, 0.00522193, 0.00522193,\n",
       "        0.0156658 , 0.        , 0.00261097, 0.00261097, 0.0078329 ,\n",
       "        0.        , 0.00522193, 0.02872063, 0.02088773, 0.01305483,\n",
       "        0.02349869, 0.05221932, 0.03655352, 0.01305483, 0.02088773,\n",
       "        0.02610966, 0.02349869, 0.00522193, 0.01044386, 0.04699739,\n",
       "        0.01305483, 0.03133159, 0.0156658 , 0.0156658 , 0.03916449,\n",
       "        0.00261097, 0.01305483, 0.01827676, 0.01044386, 0.01044386,\n",
       "        0.0156658 , 0.02610966, 0.02088773, 0.01827676, 0.01305483,\n",
       "        0.09660574, 0.03655352, 0.01827676, 0.01044386, 0.01044386,\n",
       "        0.01305483, 0.00522193, 0.00522193, 0.01305483, 0.0156658 ,\n",
       "        0.0078329 , 0.        , 0.0156658 , 0.0078329 , 0.00261097,\n",
       "        0.01044386, 0.01305483, 0.00522193, 0.01044386]),\n",
       " 'targets': array([4.657 , 5.038 , 4.517 , 6.494 , 6.903 , 6.286 , 4.824 , 3.343 ,\n",
       "        4.394 , 4.785 ,    nan, 4.715 , 5.801 , 5.019 ,    nan, 4.156 ,\n",
       "        5.388 , 4.678 , 3.995 , 5.177 , 5.099 , 4.513 , 3.926 , 4.428 ,\n",
       "        4.7221, 4.858 , 4.701 , 5.847 , 4.6924]),\n",
       " 'targets_bin': array([nan, nan, nan, nan,  1., nan, nan,  0., nan, nan, nan, nan, nan,\n",
       "        nan, nan, nan, nan, nan, nan, nan, nan, nan, nan, nan, nan, nan,\n",
       "        nan, nan, nan])}"
      ]
     },
     "execution_count": 11,
     "metadata": {},
     "output_type": "execute_result"
    }
   ],
   "execution_count": 11
  },
  {
   "metadata": {
    "ExecuteTime": {
     "end_time": "2024-08-01T20:28:15.544597Z",
     "start_time": "2024-08-01T20:28:15.529560Z"
    }
   },
   "cell_type": "code",
   "source": "len(data[\"ENST00000012049\"][\"bed_annotation\"])",
   "id": "be8eb2961fa860b7",
   "outputs": [
    {
     "data": {
      "text/plain": [
       "2125"
      ]
     },
     "execution_count": 14,
     "metadata": {},
     "output_type": "execute_result"
    }
   ],
   "execution_count": 14
  },
  {
   "metadata": {
    "ExecuteTime": {
     "end_time": "2024-08-01T20:27:58.217492Z",
     "start_time": "2024-08-01T20:27:58.202493Z"
    }
   },
   "cell_type": "code",
   "source": "len(data[\"ENST00000012049\"][\"fasta_ohe\"])",
   "id": "8363d7cb9f2faef9",
   "outputs": [
    {
     "data": {
      "text/plain": [
       "2125"
      ]
     },
     "execution_count": 13,
     "metadata": {},
     "output_type": "execute_result"
    }
   ],
   "execution_count": 13
  }
 ],
 "metadata": {
  "kernelspec": {
   "display_name": "Python 3",
   "language": "python",
   "name": "python3"
  },
  "language_info": {
   "codemirror_mode": {
    "name": "ipython",
    "version": 2
   },
   "file_extension": ".py",
   "mimetype": "text/x-python",
   "name": "python",
   "nbconvert_exporter": "python",
   "pygments_lexer": "ipython2",
   "version": "2.7.6"
  }
 },
 "nbformat": 4,
 "nbformat_minor": 5
}
