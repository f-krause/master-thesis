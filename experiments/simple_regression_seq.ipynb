{
 "cells": [
  {
   "cell_type": "markdown",
   "id": "8f069591-ee9a-4de3-8834-9adeae738f35",
   "metadata": {},
   "source": [
    "# Trying simple regression models for sequence models"
   ]
  },
  {
   "cell_type": "code",
   "execution_count": 197,
   "id": "b4b24490-36c7-4868-be76-0a7ca77986ab",
   "metadata": {},
   "outputs": [],
   "source": [
    "import pickle\n",
    "\n",
    "with open(\"/export/share/krausef99dm/data/ptr_data/ptr_data.pkl\", 'rb') as f:\n",
    "    ordered_dict = pickle.load(f)"
   ]
  },
  {
   "cell_type": "code",
   "execution_count": 238,
   "id": "7081a75f-26a5-4516-af5a-213192d55251",
   "metadata": {},
   "outputs": [
    {
     "data": {
      "text/plain": [
       "array([4.363 , 3.26  , 4.16  , 4.83  , 4.368 , 4.341 , 3.841 , 4.67  ,\n",
       "       5.133 , 4.325 , 4.093 , 4.559 , 3.793 , 3.875 , 4.122 , 4.202 ,\n",
       "       4.621 , 4.331 , 4.491 , 5.326 , 3.819 , 3.823 , 3.9591, 3.984 ,\n",
       "       4.152 , 3.799 , 3.5096])"
      ]
     },
     "execution_count": 238,
     "metadata": {},
     "output_type": "execute_result"
    }
   ],
   "source": [
    "sample_targets = ordered_dict[list(ordered_dict.keys())[25]][\"targets\"]\n",
    "sample_targets[~np.isnan(sample_targets)]"
   ]
  },
  {
   "cell_type": "code",
   "execution_count": 67,
   "id": "2c0c7a8a-fc02-4767-932d-3ae640129f30",
   "metadata": {},
   "outputs": [],
   "source": [
    "import os\n",
    "import pandas as pd\n",
    "import pickle\n",
    "import torch\n",
    "\n",
    "from knowledge_db import CODON_MAP_DNA\n",
    "REVERSE_CODON_MAP_DNA = {v: k for k, v in CODON_MAP_DNA.items()}\n",
    "REVERSE_CODON_MAP_DNA.update({0: \"\"})"
   ]
  },
  {
   "cell_type": "code",
   "execution_count": 4,
   "id": "9d80d7d6-a223-4237-9d0e-7d372ed66e5e",
   "metadata": {
    "jupyter": {
     "source_hidden": true
    }
   },
   "outputs": [],
   "source": [
    "rna_data = [\n",
    "torch.tensor([12, 30, 50,  7, 51, 29, 32, 12, 62, 12, 10, 11, 49, 14,  1, 18, 57, 35,\n",
    "        20, 62, 22, 51, 62, 22, 30, 43, 28,  8, 28, 47, 64, 51,  6, 47, 16,  8,\n",
    "        12, 51, 47, 51,  7, 25, 62,  2,  8, 43, 21, 63, 46, 49, 47, 48, 32, 16,\n",
    "        48, 46,  4,  6, 47, 49,  8, 49, 32, 44, 63, 48, 32, 43, 16, 49,  2, 21,\n",
    "        51,  2, 11, 16,  2, 16, 31, 33, 10, 30, 17, 32, 52, 41, 47, 36,  1, 51,\n",
    "        47, 33, 63,  6, 46, 39,  0,  0,  0,  0,  0,  0,  0,  0,  0,  0,  0,  0,\n",
    "         0,  0,  0,  0,  0,  0,  0,  0,  0,  0,  0,  0,  0,  0,  0,  0,  0,  0,\n",
    "         0,  0,  0,  0,  0,  0,  0,  0,  0,  0,  0,  0,  0,  0,  0,  0,  0,  0,\n",
    "         0,  0,  0,  0,  0,  0,  0,  0,  0,  0,  0,  0,  0,  0,  0,  0,  0,  0,\n",
    "         0,  0,  0,  0,  0,  0,  0,  0,  0,  0,  0,  0,  0,  0,  0,  0,  0,  0,\n",
    "         0,  0,  0,  0,  0,  0,  0,  0,  0,  0,  0,  0,  0,  0,  0,  0,  0,  0,\n",
    "         0,  0,  0,  0,  0,  0,  0,  0,  0,  0,  0,  0,  0,  0,  0,  0,  0,  0,\n",
    "         0,  0,  0,  0,  0,  0,  0,  0,  0,  0,  0,  0,  0,  0,  0,  0,  0,  0,\n",
    "         0,  0,  0,  0,  0,  0,  0,  0,  0,  0,  0,  0,  0,  0,  0,  0,  0,  0,\n",
    "         0,  0,  0,  0,  0,  0,  0,  0,  0,  0,  0,  0,  0,  0,  0,  0,  0,  0,\n",
    "         0,  0,  0,  0,  0,  0,  0,  0,  0,  0,  0,  0,  0,  0,  0,  0,  0,  0,\n",
    "         0,  0,  0,  0,  0,  0,  0,  0,  0,  0,  0,  0,  0,  0,  0,  0,  0,  0,\n",
    "         0,  0,  0,  0,  0,  0,  0,  0,  0,  0,  0,  0,  0,  0,  0,  0,  0,  0,\n",
    "         0,  0,  0,  0,  0,  0,  0,  0,  0,  0,  0,  0,  0,  0,  0,  0,  0,  0,\n",
    "         0,  0,  0,  0,  0,  0,  0,  0,  0,  0,  0,  0,  0,  0,  0,  0,  0,  0,\n",
    "         0,  0,  0,  0,  0,  0,  0,  0,  0,  0,  0,  0,  0,  0,  0,  0,  0,  0,\n",
    "         0,  0,  0,  0,  0,  0,  0,  0,  0,  0,  0,  0,  0,  0,  0,  0,  0,  0,\n",
    "         0,  0,  0,  0,  0,  0,  0,  0,  0,  0,  0,  0,  0,  0,  0,  0,  0,  0,\n",
    "         0,  0,  0,  0,  0,  0,  0,  0,  0,  0,  0,  0,  0,  0,  0,  0,  0,  0,\n",
    "         0,  0,  0,  0,  0,  0,  0,  0,  0,  0,  0,  0,  0,  0,  0,  0,  0,  0,\n",
    "         0,  0,  0,  0,  0,  0,  0,  0,  0,  0,  0,  0,  0,  0,  0,  0,  0,  0,\n",
    "         0,  0,  0,  0,  0,  0,  0,  0,  0,  0,  0,  0,  0,  0,  0,  0,  0,  0,\n",
    "         0,  0,  0,  0,  0,  0,  0,  0,  0,  0,  0,  0,  0,  0,  0,  0,  0,  0,\n",
    "         0,  0,  0,  0,  0,  0,  0,  0,  0,  0,  0,  0,  0,  0,  0,  0,  0,  0,\n",
    "         0,  0,  0,  0,  0,  0,  0,  0,  0,  0,  0,  0,  0,  0,  0,  0,  0,  0,\n",
    "         0,  0,  0,  0,  0,  0,  0,  0,  0,  0,  0,  0,  0,  0,  0,  0,  0,  0,\n",
    "         0,  0,  0,  0,  0,  0,  0,  0,  0,  0,  0,  0,  0,  0,  0,  0,  0,  0,\n",
    "         0,  0,  0,  0,  0,  0,  0,  0,  0,  0,  0,  0,  0,  0,  0,  0,  0,  0,\n",
    "         0,  0,  0,  0,  0,  0,  0,  0,  0,  0,  0,  0,  0,  0,  0,  0,  0,  0,\n",
    "         0,  0,  0,  0,  0,  0,  0,  0,  0,  0,  0,  0,  0,  0,  0,  0,  0,  0,\n",
    "         0,  0,  0,  0,  0,  0,  0,  0,  0,  0,  0,  0,  0,  0,  0,  0,  0,  0,\n",
    "         0,  0,  0,  0,  0,  0,  0,  0,  0,  0,  0,  0,  0,  0,  0,  0,  0,  0,\n",
    "         0,  0,  0,  0,  0,  0,  0,  0,  0,  0,  0,  0,  0,  0,  0,  0,  0,  0,\n",
    "         0,  0,  0,  0,  0,  0,  0,  0,  0,  0,  0,  0,  0,  0,  0,  0,  0,  0,\n",
    "         0,  0,  0,  0,  0,  0,  0,  0,  0,  0,  0,  0,  0,  0,  0,  0,  0,  0,\n",
    "         0,  0,  0,  0,  0,  0,  0,  0,  0,  0,  0,  0,  0,  0,  0,  0,  0,  0,\n",
    "         0,  0,  0,  0,  0,  0,  0,  0,  0,  0,  0,  0,  0,  0,  0,  0,  0,  0,\n",
    "         0,  0,  0,  0,  0,  0,  0,  0,  0,  0,  0,  0,  0,  0,  0,  0,  0,  0,\n",
    "         0,  0,  0,  0,  0,  0,  0,  0,  0,  0,  0,  0,  0,  0,  0,  0,  0,  0,\n",
    "         0,  0,  0,  0,  0,  0,  0,  0,  0,  0,  0,  0,  0,  0,  0,  0,  0,  0,\n",
    "         0,  0,  0,  0,  0,  0,  0,  0,  0,  0,  0,  0,  0,  0,  0,  0,  0,  0,\n",
    "         0,  0,  0,  0,  0,  0,  0,  0,  0,  0,  0,  0,  0,  0,  0,  0,  0,  0,\n",
    "         0,  0,  0,  0,  0,  0,  0,  0,  0,  0,  0], device='cuda:1'),\n",
    "torch.tensor([12, 22,  2,  6, 46, 21,  2, 26, 26, 23, 64, 25, 34, 51, 64,  6,  8, 58,\n",
    "        43, 43, 25, 49, 27, 51, 31, 16,  8, 45, 64, 47, 62,  6, 62, 27, 61, 28,\n",
    "         5, 36, 10, 31, 51, 22, 56,  8, 17, 54,  3, 48, 62, 17, 63,  3, 63,  2,\n",
    "        19,  8, 50, 36, 24, 28,  9, 21,  3, 40, 33,  3, 18, 60, 49, 57, 21, 49,\n",
    "        52,  7, 63, 51, 40,  4, 35, 13, 12, 16, 44, 32, 46,  1, 50, 50, 50, 19,\n",
    "        46, 50, 23, 13, 31, 48, 50, 50, 51, 50, 49, 21, 48, 48, 48, 13, 50, 23,\n",
    "         9, 27, 50,  1, 59,  1, 16, 23, 21, 48, 46, 19, 34,  4, 51, 33, 12,  2,\n",
    "        27, 33, 12, 53, 50, 53, 43, 32,  4, 40, 25, 48, 23, 51, 48, 51, 48, 19,\n",
    "        48, 49, 36, 48, 63, 50, 50, 35, 48, 16, 50, 33, 40, 50, 42, 63, 43, 64,\n",
    "        49, 10, 23, 29,  1, 36, 28, 35, 50, 50, 63,  3, 18, 40,  7, 29, 33, 50,\n",
    "        62, 42, 32, 29,  8, 51, 59,  3, 50, 63, 12,  5, 17, 43, 17, 16, 22, 22,\n",
    "        43, 35, 44, 12, 31, 64, 14, 60, 29, 50, 48, 19, 11, 59, 48, 35, 50, 48,\n",
    "        64, 12, 51, 16, 48, 28, 29, 25, 29, 13, 31, 63, 43,  1, 51, 48, 33, 48,\n",
    "        13, 48, 41, 39,  0,  0,  0,  0,  0,  0,  0,  0,  0,  0,  0,  0,  0,  0,\n",
    "         0,  0,  0,  0,  0,  0,  0,  0,  0,  0,  0,  0,  0,  0,  0,  0,  0,  0,\n",
    "         0,  0,  0,  0,  0,  0,  0,  0,  0,  0,  0,  0,  0,  0,  0,  0,  0,  0,\n",
    "         0,  0,  0,  0,  0,  0,  0,  0,  0,  0,  0,  0,  0,  0,  0,  0,  0,  0,\n",
    "         0,  0,  0,  0,  0,  0,  0,  0,  0,  0,  0,  0,  0,  0,  0,  0,  0,  0,\n",
    "         0,  0,  0,  0,  0,  0,  0,  0,  0,  0,  0,  0,  0,  0,  0,  0,  0,  0,\n",
    "         0,  0,  0,  0,  0,  0,  0,  0,  0,  0,  0,  0,  0,  0,  0,  0,  0,  0,\n",
    "         0,  0,  0,  0,  0,  0,  0,  0,  0,  0,  0,  0,  0,  0,  0,  0,  0,  0,\n",
    "         0,  0,  0,  0,  0,  0,  0,  0,  0,  0,  0,  0,  0,  0,  0,  0,  0,  0,\n",
    "         0,  0,  0,  0,  0,  0,  0,  0,  0,  0,  0,  0,  0,  0,  0,  0,  0,  0,\n",
    "         0,  0,  0,  0,  0,  0,  0,  0,  0,  0,  0,  0,  0,  0,  0,  0,  0,  0,\n",
    "         0,  0,  0,  0,  0,  0,  0,  0,  0,  0,  0,  0,  0,  0,  0,  0,  0,  0,\n",
    "         0,  0,  0,  0,  0,  0,  0,  0,  0,  0,  0,  0,  0,  0,  0,  0,  0,  0,\n",
    "         0,  0,  0,  0,  0,  0,  0,  0,  0,  0,  0,  0,  0,  0,  0,  0,  0,  0,\n",
    "         0,  0,  0,  0,  0,  0,  0,  0,  0,  0,  0,  0,  0,  0,  0,  0,  0,  0,\n",
    "         0,  0,  0,  0,  0,  0,  0,  0,  0,  0,  0,  0,  0,  0,  0,  0,  0,  0,\n",
    "         0,  0,  0,  0,  0,  0,  0,  0,  0,  0,  0,  0,  0,  0,  0,  0,  0,  0,\n",
    "         0,  0,  0,  0,  0,  0,  0,  0,  0,  0,  0,  0,  0,  0,  0,  0,  0,  0,\n",
    "         0,  0,  0,  0,  0,  0,  0,  0,  0,  0,  0,  0,  0,  0,  0,  0,  0,  0,\n",
    "         0,  0,  0,  0,  0,  0,  0,  0,  0,  0,  0,  0,  0,  0,  0,  0,  0,  0,\n",
    "         0,  0,  0,  0,  0,  0,  0,  0,  0,  0,  0,  0,  0,  0,  0,  0,  0,  0,\n",
    "         0,  0,  0,  0,  0,  0,  0,  0,  0,  0,  0,  0,  0,  0,  0,  0,  0,  0,\n",
    "         0,  0,  0,  0,  0,  0,  0,  0,  0,  0,  0,  0,  0,  0,  0,  0,  0,  0,\n",
    "         0,  0,  0,  0,  0,  0,  0,  0,  0,  0,  0,  0,  0,  0,  0,  0,  0,  0,\n",
    "         0,  0,  0,  0,  0,  0,  0,  0,  0,  0,  0,  0,  0,  0,  0,  0,  0,  0,\n",
    "         0,  0,  0,  0,  0,  0,  0,  0,  0,  0,  0,  0,  0,  0,  0,  0,  0,  0,\n",
    "         0,  0,  0,  0,  0,  0,  0,  0,  0,  0,  0,  0,  0,  0,  0,  0,  0,  0,\n",
    "         0,  0,  0,  0,  0,  0,  0,  0,  0,  0,  0,  0,  0,  0,  0,  0,  0,  0,\n",
    "         0,  0,  0,  0,  0,  0,  0,  0,  0,  0,  0,  0,  0,  0,  0,  0,  0,  0,\n",
    "         0,  0,  0,  0,  0,  0,  0,  0,  0,  0,  0,  0,  0,  0,  0,  0,  0,  0,\n",
    "         0,  0,  0,  0,  0,  0,  0,  0,  0,  0,  0,  0,  0,  0,  0,  0,  0,  0,\n",
    "         0,  0,  0,  0,  0,  0,  0,  0,  0,  0,  0,  0,  0,  0,  0,  0,  0,  0,\n",
    "         0,  0,  0,  0,  0,  0,  0,  0,  0,  0,  0,  0,  0,  0,  0,  0,  0,  0,\n",
    "         0,  0,  0,  0,  0,  0,  0,  0,  0,  0,  0,  0,  0,  0,  0,  0,  0,  0,\n",
    "         0,  0,  0,  0,  0,  0,  0,  0,  0,  0,  0], device='cuda:1'),\n",
    "    \n",
    "torch.tensor([12, 34, 34, 26, 47, 64, 22,  6, 54, 16, 60, 28, 42,  8, 64,  6, 26, 26,\n",
    "         8,  8,  8,  8, 28, 12, 32,  4, 32, 63, 61, 20, 64, 28, 31, 20, 31, 50,\n",
    "        33,  1, 49, 20, 14,  4, 61, 48, 30, 34, 17, 53, 41, 58, 32, 52, 43,  4,\n",
    "        28, 36, 24,  4, 41, 28, 36, 23, 47, 50, 51, 51,  4, 36, 33, 52, 43, 59,\n",
    "        61, 53, 60,  8,  1, 19,  9, 52, 43,  1, 16, 48, 48, 63,  9, 49,  3, 44,\n",
    "        57, 27, 46,  4, 50, 52, 50, 17, 33, 52, 29, 50, 33, 35, 18, 42, 17, 48,\n",
    "        51, 42, 35, 31, 53, 40,  5, 61, 53, 43, 44, 43,  8, 25,  2, 31, 50,  8,\n",
    "        59, 42, 50, 42,  5, 12, 18,  8, 12, 25, 46, 12, 41,  7,  6,  1, 23,  7,\n",
    "        27,  8, 16, 60, 19,  2, 54, 21, 49, 12, 12, 49, 18, 33, 43, 22,  2, 11,\n",
    "        28, 17, 19, 54, 27,  1, 35,  5, 42, 32, 48, 49, 63, 46, 11, 13, 11,  2,\n",
    "        43, 17, 47, 25, 50, 10, 43, 36, 33, 25, 40,  4, 51, 43, 51, 23, 29, 44,\n",
    "         4, 59, 50, 19, 17,  7, 22, 46, 12, 18, 35,  8, 42, 12, 59, 44, 19, 42,\n",
    "        34, 41, 60, 44,  1,  5, 50, 48, 63, 50, 21, 48, 62,  1,  3, 59, 53,  6,\n",
    "        17,  5, 45, 17, 64, 54,  9,  3, 27, 29, 27,  5, 14,  6, 20, 16, 12, 15,\n",
    "         4,  5, 54,  9, 52, 52, 33, 27, 13, 31, 29, 31, 16, 51, 43, 35, 13, 24,\n",
    "        17, 51, 47,  8, 21, 10, 35, 61, 49,  4, 51,  1, 12, 44, 50, 42, 47,  7,\n",
    "        45, 59, 35, 25, 31, 17, 17,  5, 16, 13, 13, 59, 17, 46, 27, 50, 48, 40,\n",
    "        50, 50, 33, 64, 23,  7, 23, 29, 46, 16, 44,  5, 31, 40, 17, 50,  9, 37,\n",
    "         0,  0,  0,  0,  0,  0,  0,  0,  0,  0,  0,  0,  0,  0,  0,  0,  0,  0,\n",
    "         0,  0,  0,  0,  0,  0,  0,  0,  0,  0,  0,  0,  0,  0,  0,  0,  0,  0,\n",
    "         0,  0,  0,  0,  0,  0,  0,  0,  0,  0,  0,  0,  0,  0,  0,  0,  0,  0,\n",
    "         0,  0,  0,  0,  0,  0,  0,  0,  0,  0,  0,  0,  0,  0,  0,  0,  0,  0,\n",
    "         0,  0,  0,  0,  0,  0,  0,  0,  0,  0,  0,  0,  0,  0,  0,  0,  0,  0,\n",
    "         0,  0,  0,  0,  0,  0,  0,  0,  0,  0,  0,  0,  0,  0,  0,  0,  0,  0,\n",
    "         0,  0,  0,  0,  0,  0,  0,  0,  0,  0,  0,  0,  0,  0,  0,  0,  0,  0,\n",
    "         0,  0,  0,  0,  0,  0,  0,  0,  0,  0,  0,  0,  0,  0,  0,  0,  0,  0,\n",
    "         0,  0,  0,  0,  0,  0,  0,  0,  0,  0,  0,  0,  0,  0,  0,  0,  0,  0,\n",
    "         0,  0,  0,  0,  0,  0,  0,  0,  0,  0,  0,  0,  0,  0,  0,  0,  0,  0,\n",
    "         0,  0,  0,  0,  0,  0,  0,  0,  0,  0,  0,  0,  0,  0,  0,  0,  0,  0,\n",
    "         0,  0,  0,  0,  0,  0,  0,  0,  0,  0,  0,  0,  0,  0,  0,  0,  0,  0,\n",
    "         0,  0,  0,  0,  0,  0,  0,  0,  0,  0,  0,  0,  0,  0,  0,  0,  0,  0,\n",
    "         0,  0,  0,  0,  0,  0,  0,  0,  0,  0,  0,  0,  0,  0,  0,  0,  0,  0,\n",
    "         0,  0,  0,  0,  0,  0,  0,  0,  0,  0,  0,  0,  0,  0,  0,  0,  0,  0,\n",
    "         0,  0,  0,  0,  0,  0,  0,  0,  0,  0,  0,  0,  0,  0,  0,  0,  0,  0,\n",
    "         0,  0,  0,  0,  0,  0,  0,  0,  0,  0,  0,  0,  0,  0,  0,  0,  0,  0,\n",
    "         0,  0,  0,  0,  0,  0,  0,  0,  0,  0,  0,  0,  0,  0,  0,  0,  0,  0,\n",
    "         0,  0,  0,  0,  0,  0,  0,  0,  0,  0,  0,  0,  0,  0,  0,  0,  0,  0,\n",
    "         0,  0,  0,  0,  0,  0,  0,  0,  0,  0,  0,  0,  0,  0,  0,  0,  0,  0,\n",
    "         0,  0,  0,  0,  0,  0,  0,  0,  0,  0,  0,  0,  0,  0,  0,  0,  0,  0,\n",
    "         0,  0,  0,  0,  0,  0,  0,  0,  0,  0,  0,  0,  0,  0,  0,  0,  0,  0,\n",
    "         0,  0,  0,  0,  0,  0,  0,  0,  0,  0,  0,  0,  0,  0,  0,  0,  0,  0,\n",
    "         0,  0,  0,  0,  0,  0,  0,  0,  0,  0,  0,  0,  0,  0,  0,  0,  0,  0,\n",
    "         0,  0,  0,  0,  0,  0,  0,  0,  0,  0,  0,  0,  0,  0,  0,  0,  0,  0,\n",
    "         0,  0,  0,  0,  0,  0,  0,  0,  0,  0,  0,  0,  0,  0,  0,  0,  0,  0,\n",
    "         0,  0,  0,  0,  0,  0,  0,  0,  0,  0,  0,  0,  0,  0,  0,  0,  0,  0,\n",
    "         0,  0,  0,  0,  0,  0,  0,  0,  0,  0,  0,  0,  0,  0,  0,  0,  0,  0,\n",
    "         0,  0,  0,  0,  0,  0,  0,  0,  0,  0,  0,  0,  0,  0,  0,  0,  0,  0,\n",
    "         0,  0,  0,  0,  0,  0,  0,  0,  0,  0,  0], device='cuda:1'),\n",
    "    torch.tensor([12, 20,  2, 59,  1, 62, 42, 40,  6, 10, 47, 24, 17, 15, 16,  1,  6, 46,\n",
    "        29, 50,  8, 18,  2, 31,  5, 16, 44, 60, 46, 23, 16, 15, 25, 63, 40, 14,\n",
    "         5, 16, 53, 26,  8, 58, 25, 16, 51, 56,  2, 40, 49,  8, 55, 23, 48, 50,\n",
    "        16, 32, 48,  4,  1, 43, 30, 28, 43, 59, 14, 64, 29, 16, 16, 50, 46, 40,\n",
    "         2, 40, 64, 28, 17,  6, 28,  1, 18, 12, 43, 48, 62, 24, 50, 32, 63, 43,\n",
    "        27, 16, 47, 41, 13, 41, 14, 40, 13,  5, 24, 60, 47, 31, 63, 49,  1, 41,\n",
    "        60, 44, 49, 22, 10, 35, 51, 51,  6, 43, 46, 40, 49, 47, 51, 49,  1, 23,\n",
    "        32, 17, 54, 59, 19, 51, 51, 50, 12, 33, 33, 50, 32, 33, 31,  8, 58, 14,\n",
    "        36,  1, 43, 39,  0,  0,  0,  0,  0,  0,  0,  0,  0,  0,  0,  0,  0,  0,\n",
    "         0,  0,  0,  0,  0,  0,  0,  0,  0,  0,  0,  0,  0,  0,  0,  0,  0,  0,\n",
    "         0,  0,  0,  0,  0,  0,  0,  0,  0,  0,  0,  0,  0,  0,  0,  0,  0,  0,\n",
    "         0,  0,  0,  0,  0,  0,  0,  0,  0,  0,  0,  0,  0,  0,  0,  0,  0,  0,\n",
    "         0,  0,  0,  0,  0,  0,  0,  0,  0,  0,  0,  0,  0,  0,  0,  0,  0,  0,\n",
    "         0,  0,  0,  0,  0,  0,  0,  0,  0,  0,  0,  0,  0,  0,  0,  0,  0,  0,\n",
    "         0,  0,  0,  0,  0,  0,  0,  0,  0,  0,  0,  0,  0,  0,  0,  0,  0,  0,\n",
    "         0,  0,  0,  0,  0,  0,  0,  0,  0,  0,  0,  0,  0,  0,  0,  0,  0,  0,\n",
    "         0,  0,  0,  0,  0,  0,  0,  0,  0,  0,  0,  0,  0,  0,  0,  0,  0,  0,\n",
    "         0,  0,  0,  0,  0,  0,  0,  0,  0,  0,  0,  0,  0,  0,  0,  0,  0,  0,\n",
    "         0,  0,  0,  0,  0,  0,  0,  0,  0,  0,  0,  0,  0,  0,  0,  0,  0,  0,\n",
    "         0,  0,  0,  0,  0,  0,  0,  0,  0,  0,  0,  0,  0,  0,  0,  0,  0,  0,\n",
    "         0,  0,  0,  0,  0,  0,  0,  0,  0,  0,  0,  0,  0,  0,  0,  0,  0,  0,\n",
    "         0,  0,  0,  0,  0,  0,  0,  0,  0,  0,  0,  0,  0,  0,  0,  0,  0,  0,\n",
    "         0,  0,  0,  0,  0,  0,  0,  0,  0,  0,  0,  0,  0,  0,  0,  0,  0,  0,\n",
    "         0,  0,  0,  0,  0,  0,  0,  0,  0,  0,  0,  0,  0,  0,  0,  0,  0,  0,\n",
    "         0,  0,  0,  0,  0,  0,  0,  0,  0,  0,  0,  0,  0,  0,  0,  0,  0,  0,\n",
    "         0,  0,  0,  0,  0,  0,  0,  0,  0,  0,  0,  0,  0,  0,  0,  0,  0,  0,\n",
    "         0,  0,  0,  0,  0,  0,  0,  0,  0,  0,  0,  0,  0,  0,  0,  0,  0,  0,\n",
    "         0,  0,  0,  0,  0,  0,  0,  0,  0,  0,  0,  0,  0,  0,  0,  0,  0,  0,\n",
    "         0,  0,  0,  0,  0,  0,  0,  0,  0,  0,  0,  0,  0,  0,  0,  0,  0,  0,\n",
    "         0,  0,  0,  0,  0,  0,  0,  0,  0,  0,  0,  0,  0,  0,  0,  0,  0,  0,\n",
    "         0,  0,  0,  0,  0,  0,  0,  0,  0,  0,  0,  0,  0,  0,  0,  0,  0,  0,\n",
    "         0,  0,  0,  0,  0,  0,  0,  0,  0,  0,  0,  0,  0,  0,  0,  0,  0,  0,\n",
    "         0,  0,  0,  0,  0,  0,  0,  0,  0,  0,  0,  0,  0,  0,  0,  0,  0,  0,\n",
    "         0,  0,  0,  0,  0,  0,  0,  0,  0,  0,  0,  0,  0,  0,  0,  0,  0,  0,\n",
    "         0,  0,  0,  0,  0,  0,  0,  0,  0,  0,  0,  0,  0,  0,  0,  0,  0,  0,\n",
    "         0,  0,  0,  0,  0,  0,  0,  0,  0,  0,  0,  0,  0,  0,  0,  0,  0,  0,\n",
    "         0,  0,  0,  0,  0,  0,  0,  0,  0,  0,  0,  0,  0,  0,  0,  0,  0,  0,\n",
    "         0,  0,  0,  0,  0,  0,  0,  0,  0,  0,  0,  0,  0,  0,  0,  0,  0,  0,\n",
    "         0,  0,  0,  0,  0,  0,  0,  0,  0,  0,  0,  0,  0,  0,  0,  0,  0,  0,\n",
    "         0,  0,  0,  0,  0,  0,  0,  0,  0,  0,  0,  0,  0,  0,  0,  0,  0,  0,\n",
    "         0,  0,  0,  0,  0,  0,  0,  0,  0,  0,  0,  0,  0,  0,  0,  0,  0,  0,\n",
    "         0,  0,  0,  0,  0,  0,  0,  0,  0,  0,  0,  0,  0,  0,  0,  0,  0,  0,\n",
    "         0,  0,  0,  0,  0,  0,  0,  0,  0,  0,  0,  0,  0,  0,  0,  0,  0,  0,\n",
    "         0,  0,  0,  0,  0,  0,  0,  0,  0,  0,  0,  0,  0,  0,  0,  0,  0,  0,\n",
    "         0,  0,  0,  0,  0,  0,  0,  0,  0,  0,  0,  0,  0,  0,  0,  0,  0,  0,\n",
    "         0,  0,  0,  0,  0,  0,  0,  0,  0,  0,  0,  0,  0,  0,  0,  0,  0,  0,\n",
    "         0,  0,  0,  0,  0,  0,  0,  0,  0,  0,  0,  0,  0,  0,  0,  0,  0,  0,\n",
    "         0,  0,  0,  0,  0,  0,  0,  0,  0,  0,  0], device='cuda:1'),\n",
    "    torch.tensor([12, 17, 31,  8, 30, 23, 26, 28, 48, 12, 25, 28, 24, 28, 27, 49, 47, 10,\n",
    "        29, 43, 31, 32, 12, 51, 28, 10, 36,  5, 53, 46,  2, 57, 16, 18, 12, 48,\n",
    "        63, 50, 54,  6, 53,  8, 57, 51,  8, 48, 49, 10, 19,  5, 29, 23, 49, 25,\n",
    "        51, 23, 28, 40, 50, 48, 23, 44, 35,  6, 12, 31, 44, 50, 56, 12, 45,  6,\n",
    "        12, 45, 12, 32, 47,  8, 21, 10, 47, 62,  4,  9, 50, 19, 31,  8, 45,  8,\n",
    "        64, 60, 27,  5, 49, 17, 49, 35, 33, 23,  6, 43, 42,  2,  1, 16, 16, 12,\n",
    "        51, 41, 52,  8, 46, 40, 62,  4, 46, 31, 46, 46, 27,  1,  6, 63, 42, 44,\n",
    "        46, 18,  2, 54, 64, 23,  7, 50,  8, 15, 50, 47,  5, 13, 25, 50, 32, 33,\n",
    "        51, 11, 29, 33, 21, 13, 46, 48,  5, 25, 63,  5, 47, 29, 25, 15, 61, 59,\n",
    "        63, 59, 32, 54,  5, 55,  4, 33,  3, 12, 42, 47, 46,  5, 19, 50, 35, 12,\n",
    "        46, 31,  4, 10, 44, 47, 46, 50,  5,  6, 21, 50,  2, 36, 50, 24, 44, 32,\n",
    "         6, 12, 12, 50, 50, 50, 63, 32, 11,  9, 31, 61,  8,  4, 16, 61,  8, 44,\n",
    "        14,  9, 48, 32, 44,  2, 52, 12, 46, 63, 50, 49,  4, 49, 17, 43, 13, 63,\n",
    "        13, 11, 48,  1, 19, 12, 35,  6, 47, 49, 64, 45, 22, 21, 46, 61, 27, 50,\n",
    "        63, 49, 61, 43,  9, 27, 33,  9,  8, 49, 43, 47, 45, 35, 15, 50, 50,  8,\n",
    "        45, 59, 40,  4, 44, 31, 27, 15, 45, 45,  5, 43, 33, 46, 15, 48, 33,  3,\n",
    "        50, 46, 18, 45, 27, 46,  8, 29, 51, 51,  5, 33, 13, 33, 45, 45, 60, 10,\n",
    "         9, 28,  3, 42, 50, 50, 12, 50, 57, 13, 46, 51, 50, 21, 18, 36, 11,  8,\n",
    "        50, 18, 44, 58, 47, 61, 24, 47, 42, 49, 59, 27, 33, 50, 64, 42, 33,  7,\n",
    "        21, 50, 33, 59, 47, 40,  3, 46, 50, 51, 29, 42,  3, 57,  4, 48, 13, 51,\n",
    "        46, 50,  8, 51, 12, 43, 10, 22, 12, 60, 43, 51, 12, 50,  4, 31, 12, 47,\n",
    "        12,  8, 51, 47, 48, 14, 52, 51, 47, 43, 48, 32,  8, 15, 17,  5, 58, 43,\n",
    "        43,  8, 48, 49,  6, 59, 31,  6, 47, 40, 50,  5, 32,  1, 47,  8, 43, 21,\n",
    "        19, 49,  3, 63, 15, 46, 43, 46, 21, 50,  7, 45, 21, 56,  4, 50, 51, 47,\n",
    "        27, 44, 43, 12, 31, 31, 28,  9, 46, 42,  5, 50, 42, 59,  4, 56, 43, 31,\n",
    "        51, 57, 22, 56, 42, 17, 31, 51,  4, 49, 45, 58,  6,  2, 46, 43, 49,  1,\n",
    "        63, 49, 47, 10, 45, 21,  8, 43,  8, 50, 14, 51, 51,  6, 28, 60, 43, 58,\n",
    "        45, 43,  5, 51,  3, 50,  7, 46, 43, 50, 46, 50, 59, 59,  3, 42, 45, 49,\n",
    "        60, 22, 10, 25, 63, 60, 61, 18, 43, 47, 19, 50, 18, 47, 12, 48, 64, 47,\n",
    "        41, 46, 12, 42, 51, 50, 44, 13, 46,  7, 46, 47, 24,  8, 50, 50, 22, 41,\n",
    "        60,  8, 42, 24, 41, 23, 12, 48, 50, 43, 48, 43,  8,  8,  6, 17, 50, 47,\n",
    "        25, 43,  4, 52, 43,  7, 53, 43, 50, 49, 62, 22,  7, 29, 47, 44, 16, 52,\n",
    "        47, 45, 53, 22, 63, 28,  2, 52, 48, 32, 52, 19, 29, 44, 50,  8, 23,  5,\n",
    "        23, 19, 21, 10, 47,  5, 51, 57, 13, 53, 44, 24, 52, 41, 47, 40,  8, 12,\n",
    "        47, 42, 35, 17, 28, 22, 25, 19, 37,  0,  0,  0,  0,  0,  0,  0,  0,  0,\n",
    "         0,  0,  0,  0,  0,  0,  0,  0,  0,  0,  0,  0,  0,  0,  0,  0,  0,  0,\n",
    "         0,  0,  0,  0,  0,  0,  0,  0,  0,  0,  0,  0,  0,  0,  0,  0,  0,  0,\n",
    "         0,  0,  0,  0,  0,  0,  0,  0,  0,  0,  0,  0,  0,  0,  0,  0,  0,  0,\n",
    "         0,  0,  0,  0,  0,  0,  0,  0,  0,  0,  0,  0,  0,  0,  0,  0,  0,  0,\n",
    "         0,  0,  0,  0,  0,  0,  0,  0,  0,  0,  0,  0,  0,  0,  0,  0,  0,  0,\n",
    "         0,  0,  0,  0,  0,  0,  0,  0,  0,  0,  0,  0,  0,  0,  0,  0,  0,  0,\n",
    "         0,  0,  0,  0,  0,  0,  0,  0,  0,  0,  0,  0,  0,  0,  0,  0,  0,  0,\n",
    "         0,  0,  0,  0,  0,  0,  0,  0,  0,  0,  0,  0,  0,  0,  0,  0,  0,  0,\n",
    "         0,  0,  0,  0,  0,  0,  0,  0,  0,  0,  0,  0,  0,  0,  0,  0,  0,  0,\n",
    "         0,  0,  0,  0,  0,  0,  0,  0,  0,  0,  0,  0,  0,  0,  0,  0,  0,  0,\n",
    "         0,  0,  0,  0,  0,  0,  0,  0,  0,  0,  0,  0,  0,  0,  0,  0,  0,  0,\n",
    "         0,  0,  0,  0,  0,  0,  0,  0,  0,  0,  0,  0,  0,  0,  0,  0,  0,  0,\n",
    "         0,  0,  0,  0,  0,  0,  0,  0,  0,  0,  0], device='cuda:1')\n",
    "    \n",
    "]"
   ]
  },
  {
   "cell_type": "code",
   "execution_count": 108,
   "id": "4d395a1b-9bba-46ff-9056-2244a79a9a0f",
   "metadata": {},
   "outputs": [
    {
     "data": {
      "text/plain": [
       "tensor([ 8,  4,  3, 10,  9,  5,  5, 12,  5,  2,  3, 11,  5,  2,  1,  7, 13,  4,\n",
       "         5,  4,  3,  3,  5,  2,  5,  3,  7,  6,  5,  1,  8,  4,  8,  4,  7,  4,\n",
       "         1,  0,  0,  4,  4,  9, 10,  7,  2,  6,  5,  8,  6, 16,  8,  7,  5,  5,\n",
       "         0,  0,  1,  1,  7,  4,  5,  1,  4,  5], device='cuda:1')"
      ]
     },
     "execution_count": 108,
     "metadata": {},
     "output_type": "execute_result"
    }
   ],
   "source": [
    "torch.bincount(rna_data[2], minlength=65)[1:65]"
   ]
  },
  {
   "cell_type": "code",
   "execution_count": 90,
   "id": "5c5d2a01-fb8c-4c7e-86f2-f718a8a3adc1",
   "metadata": {},
   "outputs": [
    {
     "data": {
      "text/plain": [
       "tensor([12, 30, 50,  7, 51, 29, 32, 12, 62, 12, 10, 11, 49, 14,  1, 18, 57, 35,\n",
       "        20, 62, 22, 51, 62, 22, 30, 43, 28,  8, 28, 47, 64, 51,  6, 47, 16,  8,\n",
       "        12, 51, 47, 51,  7, 25, 62,  2,  8, 43, 21, 63, 46, 49, 47, 48, 32, 16,\n",
       "        48, 46,  4,  6, 47, 49,  8, 49, 32, 44, 63, 48, 32, 43, 16, 49,  2, 21,\n",
       "        51,  2, 11, 16,  2, 16, 31, 33, 10, 30, 17, 32, 52, 41, 47, 36,  1, 51,\n",
       "        47, 33, 63,  6, 46, 39,  0,  0,  0,  0,  0,  0,  0,  0,  0,  0,  0,  0,\n",
       "         0,  0,  0,  0,  0,  0,  0,  0,  0,  0,  0,  0,  0,  0,  0,  0,  0,  0,\n",
       "         0,  0,  0,  0,  0,  0,  0,  0,  0,  0,  0,  0,  0,  0,  0,  0,  0,  0,\n",
       "         0,  0,  0,  0,  0,  0,  0,  0,  0,  0,  0,  0,  0,  0,  0,  0,  0,  0,\n",
       "         0,  0,  0,  0,  0,  0,  0,  0,  0,  0,  0,  0,  0,  0,  0,  0,  0,  0,\n",
       "         0,  0,  0,  0,  0,  0,  0,  0,  0,  0,  0,  0,  0,  0,  0,  0,  0,  0,\n",
       "         0,  0,  0,  0,  0,  0,  0,  0,  0,  0,  0,  0,  0,  0,  0,  0,  0,  0,\n",
       "         0,  0,  0,  0,  0,  0,  0,  0,  0,  0,  0,  0,  0,  0,  0,  0,  0,  0,\n",
       "         0,  0,  0,  0,  0,  0,  0,  0,  0,  0,  0,  0,  0,  0,  0,  0,  0,  0,\n",
       "         0,  0,  0,  0,  0,  0,  0,  0,  0,  0,  0,  0,  0,  0,  0,  0,  0,  0,\n",
       "         0,  0,  0,  0,  0,  0,  0,  0,  0,  0,  0,  0,  0,  0,  0,  0,  0,  0,\n",
       "         0,  0,  0,  0,  0,  0,  0,  0,  0,  0,  0,  0,  0,  0,  0,  0,  0,  0,\n",
       "         0,  0,  0,  0,  0,  0,  0,  0,  0,  0,  0,  0,  0,  0,  0,  0,  0,  0,\n",
       "         0,  0,  0,  0,  0,  0,  0,  0,  0,  0,  0,  0,  0,  0,  0,  0,  0,  0,\n",
       "         0,  0,  0,  0,  0,  0,  0,  0,  0,  0,  0,  0,  0,  0,  0,  0,  0,  0,\n",
       "         0,  0,  0,  0,  0,  0,  0,  0,  0,  0,  0,  0,  0,  0,  0,  0,  0,  0,\n",
       "         0,  0,  0,  0,  0,  0,  0,  0,  0,  0,  0,  0,  0,  0,  0,  0,  0,  0,\n",
       "         0,  0,  0,  0,  0,  0,  0,  0,  0,  0,  0,  0,  0,  0,  0,  0,  0,  0,\n",
       "         0,  0,  0,  0,  0,  0,  0,  0,  0,  0,  0,  0,  0,  0,  0,  0,  0,  0,\n",
       "         0,  0,  0,  0,  0,  0,  0,  0,  0,  0,  0,  0,  0,  0,  0,  0,  0,  0,\n",
       "         0,  0,  0,  0,  0,  0,  0,  0,  0,  0,  0,  0,  0,  0,  0,  0,  0,  0,\n",
       "         0,  0,  0,  0,  0,  0,  0,  0,  0,  0,  0,  0,  0,  0,  0,  0,  0,  0,\n",
       "         0,  0,  0,  0,  0,  0,  0,  0,  0,  0,  0,  0,  0,  0,  0,  0,  0,  0,\n",
       "         0,  0,  0,  0,  0,  0,  0,  0,  0,  0,  0,  0,  0,  0,  0,  0,  0,  0,\n",
       "         0,  0,  0,  0,  0,  0,  0,  0,  0,  0,  0,  0,  0,  0,  0,  0,  0,  0,\n",
       "         0,  0,  0,  0,  0,  0,  0,  0,  0,  0,  0,  0,  0,  0,  0,  0,  0,  0,\n",
       "         0,  0,  0,  0,  0,  0,  0,  0,  0,  0,  0,  0,  0,  0,  0,  0,  0,  0,\n",
       "         0,  0,  0,  0,  0,  0,  0,  0,  0,  0,  0,  0,  0,  0,  0,  0,  0,  0,\n",
       "         0,  0,  0,  0,  0,  0,  0,  0,  0,  0,  0,  0,  0,  0,  0,  0,  0,  0,\n",
       "         0,  0,  0,  0,  0,  0,  0,  0,  0,  0,  0,  0,  0,  0,  0,  0,  0,  0,\n",
       "         0,  0,  0,  0,  0,  0,  0,  0,  0,  0,  0,  0,  0,  0,  0,  0,  0,  0,\n",
       "         0,  0,  0,  0,  0,  0,  0,  0,  0,  0,  0,  0,  0,  0,  0,  0,  0,  0,\n",
       "         0,  0,  0,  0,  0,  0,  0,  0,  0,  0,  0,  0,  0,  0,  0,  0,  0,  0,\n",
       "         0,  0,  0,  0,  0,  0,  0,  0,  0,  0,  0,  0,  0,  0,  0,  0,  0,  0,\n",
       "         0,  0,  0,  0,  0,  0,  0,  0,  0,  0,  0,  0,  0,  0,  0,  0,  0,  0,\n",
       "         0,  0,  0,  0,  0,  0,  0,  0,  0,  0,  0,  0,  0,  0,  0,  0,  0,  0,\n",
       "         0,  0,  0,  0,  0,  0,  0,  0,  0,  0,  0,  0,  0,  0,  0,  0,  0,  0,\n",
       "         0,  0,  0,  0,  0,  0,  0,  0,  0,  0,  0,  0,  0,  0,  0,  0,  0,  0,\n",
       "         0,  0,  0,  0,  0,  0,  0,  0,  0,  0,  0,  0,  0,  0,  0,  0,  0,  0,\n",
       "         0,  0,  0,  0,  0,  0,  0,  0,  0,  0,  0,  0,  0,  0,  0,  0,  0,  0,\n",
       "         0,  0,  0,  0,  0,  0,  0,  0,  0,  0,  0,  0,  0,  0,  0,  0,  0,  0,\n",
       "         0,  0,  0,  0,  0,  0,  0,  0,  0,  0,  0,  0,  0,  0,  0,  0,  0,  0,\n",
       "         0,  0,  0,  0,  0,  0,  0,  0,  0,  0,  0], device='cuda:1')"
      ]
     },
     "execution_count": 90,
     "metadata": {},
     "output_type": "execute_result"
    }
   ],
   "source": [
    "rna_data[0]"
   ]
  },
  {
   "cell_type": "code",
   "execution_count": 50,
   "id": "e0d72c4b-387c-4709-b5b5-24fd93dcdaf2",
   "metadata": {},
   "outputs": [],
   "source": [
    "rna_data_lists = [ls.tolist() for ls in rna_data]\n",
    "rna_data_base = [''.join(REVERSE_CODON_MAP_DNA[codon] for codon in encoded_dna) for encoded_dna in rna_data_lists]"
   ]
  },
  {
   "cell_type": "code",
   "execution_count": 59,
   "id": "7876e22a-3d53-49ea-a379-750b9aae4786",
   "metadata": {},
   "outputs": [],
   "source": [
    "tissue_ids = torch.tensor([ 3, 26,  4, 23,  0, 25, 13, 16, 16,  4, 10, 28, 11,  5, 28, 24],\n",
    "       device='cuda:1')\n",
    "tissue_ids = tissue_ids.tolist()[:len(rna_data_base)]"
   ]
  },
  {
   "cell_type": "code",
   "execution_count": 60,
   "id": "3e03274c-b686-4ab9-a778-fd3d5b08555b",
   "metadata": {},
   "outputs": [],
   "source": [
    "seq_len = torch.tensor([ 96, 238, 324, 148, 621, 757, 857, 214, 343, 268, 481, 410, 307, 375,\n",
    "        346, 350], device='cuda:1')\n",
    "seq_len = seq_len.tolist()[:len(rna_data_base)]"
   ]
  },
  {
   "cell_type": "code",
   "execution_count": 61,
   "id": "93550dfc-556c-47b7-8012-78db629327dd",
   "metadata": {},
   "outputs": [],
   "source": [
    "targets = torch.tensor([6.5370, 5.0270, 2.7470, 5.9470, 5.4820, 5.4460, 4.2460, 4.9940, 4.8880,\n",
    "        4.3590, 6.1870, 6.4934, 6.1070, 4.8720, 2.7996, 3.8572],\n",
    "       device='cuda:1', dtype=torch.float64)\n",
    "targets = targets.tolist()[:len(rna_data_base)]"
   ]
  },
  {
   "cell_type": "markdown",
   "id": "1bb1c7c5-73c0-40f6-a5af-f6b57c40eba8",
   "metadata": {},
   "source": [
    "#### Sanity check: Seq lengths"
   ]
  },
  {
   "cell_type": "code",
   "execution_count": 63,
   "id": "2cb2e3a5-d7ac-4645-9c6a-0366bf1d715e",
   "metadata": {},
   "outputs": [
    {
     "name": "stdout",
     "output_type": "stream",
     "text": [
      "288 288\n",
      "714 714\n",
      "972 972\n",
      "444 444\n",
      "1863 1863\n"
     ]
    }
   ],
   "source": [
    "for seq, length in zip(rna_data_base, seq_len):\n",
    "    print(len(seq), length*3)"
   ]
  },
  {
   "cell_type": "markdown",
   "id": "fe0873c1-f30b-477b-a343-e611d38b00dc",
   "metadata": {},
   "source": [
    "#### Sanity check for targets"
   ]
  },
  {
   "cell_type": "code",
   "execution_count": 68,
   "id": "d7c5aa1e-bba3-4cbe-804e-7aa03e6d7e97",
   "metadata": {},
   "outputs": [],
   "source": [
    "# Load ground truth data\n",
    "ptr_data_path = \"/export/share/krausef99dm/data/ptr_data/ptr_data.pkl\"\n",
    "\n",
    "# load pickle file\n",
    "with open(os.path.join(ptr_data_path), 'rb') as f:\n",
    "    raw_data = pickle.load(f)"
   ]
  },
  {
   "cell_type": "code",
   "execution_count": 88,
   "id": "bf527a26-b94a-490c-97fb-301db9ebb45e",
   "metadata": {},
   "outputs": [
    {
     "name": "stdout",
     "output_type": "stream",
     "text": [
      "ENST00000528364\n",
      "5.027 5.027\n",
      "True\n",
      "ENST00000492590\n",
      "5.947 5.947\n",
      "True\n",
      "ENST00000381006\n",
      "5.482 5.482\n",
      "True\n",
      "ENST00000296370\n",
      "6.537 6.537\n",
      "True\n",
      "ENST00000234831\n",
      "2.747 2.747\n",
      "True\n"
     ]
    }
   ],
   "source": [
    "for identifier, content in raw_data.items():\n",
    "    #print(identifier)\n",
    "    #print(content)\n",
    "\n",
    "    sequence = content['fasta']\n",
    "    bed_annotation = content['bed_annotation']\n",
    "\n",
    "    coding_sequence = [nucleotide for nucleotide, annotation in zip(list(sequence), bed_annotation) if\n",
    "                           annotation not in [5, 3]]\n",
    "    coding_sequence_str = \"\".join(coding_sequence)\n",
    "\n",
    "    for idx, test_sequence in enumerate(rna_data_base):\n",
    "        if coding_sequence_str == test_sequence:\n",
    "            target_test = targets[idx]\n",
    "            tissue_id = tissue_ids[idx]\n",
    "            target_true = content[\"targets\"][tissue_id]\n",
    "            print(identifier, target_test == target_true)\n",
    "            print(target_test, target_true)\n",
    "            \n",
    "    #break"
   ]
  },
  {
   "cell_type": "code",
   "execution_count": 65,
   "id": "122e3916-5f1a-4f8d-9c37-30b907ddd790",
   "metadata": {},
   "outputs": [
    {
     "name": "stdout",
     "output_type": "stream",
     "text": [
      "ATGACGGAACTAGAGACAGCCATGGGCATGATCATAGACGTCTTTTCCCGATATTCGGGCAGCGAGGGCAGCACGCAGACCCTGACCAAGGGGGAGCTCAAGGTGCTGATGGAGAAGGAGCTACCAGGCTTCCTGCAGAGTGGAAAAGACAAGGATGCCGTGGATAAATTGCTCAAGGACCTGGACGCCAATGGAGATGCCCAGGTGGACTTCAGTGAGTTCATAGTGTTCGTGGCTGCAATCACGTCTGCCTGTCACAAGTACTTTGAGAAGGCAGGACTCAAATGA\n",
      "3 -> 6.537\n",
      "#####\n",
      "ATGAGCTTCCTCAAAAGTTTCCCGCCGCCTGGGCCAGCGGAGGGGCTCCTGCGGCAGCAGCCAGACACTGAGGCTGTGCTGAACGGGAAGGGCCTCGGCACTGGTACCCTTTACATCGCTGAGAGCCGCCTGTCTTGGTTAGATGGCTCTGGATTAGGATTCTCACTGGAATACCCCACCATTAGTTTACATGCATTATCCAGGGACCGAAGTGACTGTCTAGGAGAGCATTTGTATGTTATGGTGAATGCCAAATTTGAAGAAGAATCAAAAGAACCTGTTGCTGATGAAGAAGAGGAAGACAGTGATGATGATGTTGAACCTATTACTGAATTTAGATTTGTGCCTAGTGATAAATCAGCGTTGGAGGCAATGTTCACTGCAATGTGCGAATGCCAGGCCTTGCATCCAGATCCTGAGGATGAGGATTCAGATGACTACGATGGAGAAGAATATGATGTGGAAGCACATGAACAAGGACAGGGGGACATCCCTACATTTTACACCTATGAAGAAGGATTATCCCATCTAACAGCAGAAGGCCAAGCCACACTGGAGAGATTAGAAGGAATGCTTTCTCAGTCTGTGAGCAGCCAGTATAATATGGCTGGGGTCAGGACAGAAGATTCAATAAGAGATTATGAAGATGGGATGGAGGTGGATACCACACCAACAGTTGCTGGACAGTTTGAGGATGCAGATGTTGATCACTGA\n",
      "26 -> 5.027\n",
      "#####\n",
      "ATGGCGGCGCCGAAGGGGAGCCTCTGGGTGAGGACCCAACTGGGGCTCCCGCCGCTGCTGCTGCTGACCATGGCCTTGGCCGGAGGTTCGGGGACCGCTTCGGCTGAAGCATTTGACTCGGTCTTGGGTGATACGGCGTCTTGCCACCGGGCCTGTCAGTTGACCTACCCCTTGCACACCTACCCTAAGGAAGAGGAGTTGTACGCATGTCAGAGAGGTTGCAGGCTGTTTTCAATTTGTCAGTTTGTGGATGATGGAATTGACTTAAATCGAACTAAATTGGAATGTGAATCTGCATGTACAGAAGCATATTCCCAATCTGATGAGCAATATGCTTGCCATCTTGGTTGCCAGAATCAGCTGCCATTCGCTGAACTGAGACAAGAACAACTTATGTCCCTGATGCCAAAAATGCACCTACTCTTTCCTCTAACTCTGGTGAGGTCATTCTGGAGTGACATGATGGACTCCGCACAGAGCTTCATAACCTCTTCATGGACTTTTTATCTTCAAGCCGATGACGGAAAAATAGTTATATTCCAGTCTAAGCCAGAAATCCAGTACGCACCACATTTGGAGCAGGAGCCTACAAATTTGAGAGAATCATCTCTAAGCAAAATGTCCTATCTGCAAATGAGAAATTCACAAGCGCACAGGAATTTTCTTGAAGATGGAGAAAGTGATGGCTTTTTAAGATGCCTCTCTCTTAACTCTGGGTGGATTTTAACTACAACTCTTGTCCTCTCGGTGATGGTATTGCTTTGGATTTGTTGTGCAACTGTTGCTACAGCTGTGGAGCAGTATGTTCCCTCTGAGAAGCTGAGTATCTATGGTGACTTGGAGTTTATGAATGAACAAAAGCTAAACAGATATCCAGCTTCTTCTCTTGTGGTTGTTAGATCTAAAACTGAAGATCATGAAGAAGCAGGGCCTCTACCTACAAAAGTGAATCTTGCTCATTCTGAAATTTAA\n",
      "4 -> 2.747\n",
      "#####\n",
      "ATGTCGTTCAGATTTGGCCAACATCTCATCAAGCCCTCTGTAGTGTTTCTCAAAACAGAACTGTCCTTCGCTCTTGTGAATAGGAAACCTGTGGTACCAGGACATGTCCTTGTGTGCCCGCTGCGGCCAGTGGAGCGCTTCCATGACCTGCGTCCTGATGAAGTGGCCGATTTGTTTCAGACGACCCAGAGAGTCGGGACAGTGGTGGAAAAACATTTCCATGGGACCTCTCTCACCTTTTCCATGCAGGATGGCCCCGAAGCCGGACAGACTGTGAAGCACGTTCACGTCCATGTTCTTCCCAGGAAGGCTGGAGACTTTCACAGGAATGACAGCATCTATGAGGAGCTCCAGAAACATGACAAGGAGGACTTTCCTGCCTCTTGGAGATCAGAGGAGGAAATGGCAGCAGAAGCCGCAGCTCTGCGGGTCTACTTTCAGTGA\n",
      "23 -> 5.947\n",
      "#####\n",
      "ATGTCTGCTCTGACGCCTCCGACCGATATGCCAACCCCCACCACTGACAAGATCACACAGGCTGCCATGGAGACCATCTACCTTTGCAAATTCCGAGTGTCCATGGATGGAGAATGGCTCTGCCTGCGAGAGCTGGATGACATCTCACTTACACCTGACCCAGAGCCTACCCATGAAGATCCTAATTATCTCATGGCTAATGAACGCATGAACCTCATGAACATGGCCAAGCTGAGTATCAAGGGCTTGATTGAATCAGCTCTGAACCTGGGGAGGACTCTTGACTCTGACTATGCACCTCTCCAGCAATTCTTTGTGGTGATGGAGCACTGTCTGAAACATGGCTTGAAAGCTAAAAAAACTTTTCTCGGACAAAATAAATCCTTCTGGGGGCCTCTAGAACTGGTAGAAAAGCTTGTTCCAGAAGCCGCAGAGATAACAGCAAGTGTTAAAGATCTTCCAGGACTTAAGACACCAGTAGGTAGAGGAAGAGCCTGGCTTCGTTTGGCATTAATGCAAAAGAAACTTTCAGAATATATGAAAGCTTTGATCAATAAGAAAGAACTTCTCAGTGAATTCTACGAACCCAATGCCCTCATGATGGAAGAAGAAGGAGCCATAATTGCTGGTCTGTTGGTGGGTCTGAATGTCATTGATGCCAATTTCTGTATGAAAGGAGAAGACTTGGACTCTCAGGTTGGAGTTATAGATTTTTCAATGTATCTCAAGGACGGGAACAGCAGTAAAGGTACTGAAGGAGACGGTCAGATTACTGCAATTCTGGACCAGAAGAACTATGTAGAAGAACTGAACAGACATTTGAATGCTACTGTAAACAACCTTCAGGCAAAAGTAGATGCATTAGAAAAATCCAACACTAAACTGACAGAGGAGCTTGCAGTTGCAAACAACAGGATCATTACCTTACAAGAAGAAATGGAACGAGTTAAAGAGGAAAGTTCCTACATACTGGAATCCAATCGGAAGGGTCCCAAGCAAGACAGAACTGCAGAAGGGCAAGCACTAAGTGAAGCAAGAAAGCATTTAAAAGAAGAGACACAATTACGATTGGATGTTGAGAAAGAACTGGAGATGCAGATCAGCATGAGGCAGGAGATGGAATTGGCTATGAAGATGCTGGAGAAGGATGTCTGTGAGAAGCAGGATGCCCTGGTATCTCTTCGGCAGCAGCTGGATGACCTCAGAGCTCTCAAGCATGAACTTGCCTTTAAGCTGCAGAGTTCAGACTTAGGAGTAAAACAGAAAAGTGAACTAAACAGTCGCTTGGAAGAGAAGACTAATCAGATGGCTGCTACCATTAAACAACTTGAACAAAGATTGCGCCAGGCTGAGCGAAGCCGCCAATCTGCTGAGTTGGACAACCGGCTCTTCAAACAGGACTTTGGAGACAAGATCAACAGTCTGCAGCTGGAAGTCGAGGAGCTCACCAGGCAGCGGAACCAGCTTGAGTTAGAACTAAAACAGGAAAAAGAAAGAAGATTACAAAACGACAGGAGCATCCCAGGAAGGGGTTCCCAGAAGTCAGAATCCAAGATGGATGGGAAGCACAAAATGCAAGAGGAAAATGTTAAACTAAAAAAGCCCCTGGAAGAAAGCCACAGGCTGCAACCCCACCCTATGGATGAACAGGATCAGCTGCTGCTCTCTGAAAAGCCACAGTTGTGTCAGCTATGCCAGGAAGACGGCAGCCTAACAAAGAATGTGTGTAAGAACTGCAGCGGAACCTTCTGTGATGCCTGTTCAACAAATGAACTGCCTCTTCCTTCAAGTATCAAGCTTGAGCGAGTTTGCAATCCCTGTCACAAGCATCTGATGAAGCAATATTCTACCAGCCCATCATAA\n",
      "0 -> 5.482\n",
      "#####\n"
     ]
    }
   ],
   "source": [
    "for seq, tissue_id, target in zip(rna_data_base, tissue_ids, targets):\n",
    "    print(seq)\n",
    "    print(tissue_id, \"->\", target)\n",
    "    print(\"#####\")"
   ]
  },
  {
   "cell_type": "code",
   "execution_count": 182,
   "id": "b9c7a452-4d74-4576-b7f2-3c9a0220a3ba",
   "metadata": {},
   "outputs": [],
   "source": [
    "import os\n",
    "import pickle\n",
    "import torch\n",
    "import numpy as np\n",
    "import matplotlib.pylab as plt\n",
    "\n",
    "from sklearn.model_selection import train_test_split\n",
    "from sklearn.metrics import r2_score, root_mean_squared_error\n",
    "\n",
    "from knowledge_db import TISSUES, CODON_MAP_DNA\n",
    "from data_handling.train_val_test_indices import get_train_val_test_indices\n",
    "\n",
    "random_state = 2024"
   ]
  },
  {
   "cell_type": "code",
   "execution_count": 3,
   "id": "1976c9ba-7167-467a-95d0-541c6226257c",
   "metadata": {},
   "outputs": [],
   "source": [
    "with open(\"/export/share/krausef99dm/data/data_train/codon_train_2.7k_data.pkl\", 'rb') as f:\n",
    "    rna_data_full, tissue_ids_full, targets_full = pickle.load(f)"
   ]
  },
  {
   "cell_type": "code",
   "execution_count": 81,
   "id": "4a979978-862f-4819-86e8-4e49c7a7640d",
   "metadata": {},
   "outputs": [
    {
     "name": "stdout",
     "output_type": "stream",
     "text": [
      "LOG: Counts per bin: (array([ 366,  807,  873, 1077,  946,  760,  569,  467,  369,  222]), array([  77. ,  239.3,  401.6,  563.9,  726.2,  888.5, 1050.8, 1213.1,\n",
      "       1375.4, 1537.7, 1700. ]))\n"
     ]
    }
   ],
   "source": [
    "mrna_sequences = [\"\".join(map(str, tensor.tolist())) for tensor in rna_data_full]  # FIXME: mrna sequence length is now not fully identical with the original sequence length\n",
    "\n",
    "train_indices, val_indices, _ = get_train_val_test_indices(mrna_sequences, val_frac=0.15, test_frac=0,\n",
    "                                                           random_state=random_state)\n",
    "\n",
    "\n"
   ]
  },
  {
   "cell_type": "code",
   "execution_count": 183,
   "id": "5ebd41df-3452-4650-8cc8-0b80f1fda963",
   "metadata": {},
   "outputs": [],
   "source": [
    "# Classic train test split\n",
    "train_indices, val_indices = train_test_split(np.arange(len(mrna_sequences)), test_size=0.15, random_state=random_state)"
   ]
  },
  {
   "cell_type": "code",
   "execution_count": 184,
   "id": "9c35184e-a02a-4468-82fc-1311b5826369",
   "metadata": {},
   "outputs": [],
   "source": [
    "tissue_id = 12"
   ]
  },
  {
   "cell_type": "code",
   "execution_count": 185,
   "id": "30413e54-1852-43f4-8bb7-61113b41cc12",
   "metadata": {},
   "outputs": [
    {
     "data": {
      "text/plain": [
       "616"
      ]
     },
     "execution_count": 185,
     "metadata": {},
     "output_type": "execute_result"
    }
   ],
   "source": [
    "# VALIDATION\n",
    "rna_data_val = [rna_data_full[i] for i in val_indices]\n",
    "tissue_ids_val = tissue_ids_full[val_indices]\n",
    "targets_val = targets_full[val_indices]\n",
    "\n",
    "# only keep data for tissue_id == 12\n",
    "tissue_id_12_indices = np.where(tissue_ids_val == tissue_id)[0]\n",
    "rna_data_12_val = [rna_data_val[i] for i in tissue_id_12_indices]\n",
    "tissue_ids_12_val = tissue_ids_val[tissue_id_12_indices]\n",
    "targets_12_val = targets_val[tissue_id_12_indices]\n",
    "\n",
    "len(targets_12_val)"
   ]
  },
  {
   "cell_type": "code",
   "execution_count": 186,
   "id": "4835da70-d636-49b8-8f56-cb794fa60864",
   "metadata": {},
   "outputs": [
    {
     "data": {
      "text/plain": [
       "3726"
      ]
     },
     "execution_count": 186,
     "metadata": {},
     "output_type": "execute_result"
    }
   ],
   "source": [
    "# TRAIN\n",
    "rna_data_train = [rna_data_full[i] for i in train_indices]\n",
    "tissue_ids_train = tissue_ids_full[train_indices]\n",
    "targets_train = targets_full[train_indices]\n",
    "\n",
    "# only keep data for tissue_id == 12\n",
    "tissue_id_12_indices = np.where(tissue_ids_train == tissue_id)[0]\n",
    "rna_data_12_train = [rna_data_train[i] for i in tissue_id_12_indices]\n",
    "tissue_ids_12_train = tissue_ids_train[tissue_id_12_indices]\n",
    "targets_12_train = targets_train[tissue_id_12_indices]\n",
    "\n",
    "len(targets_12_train)"
   ]
  },
  {
   "cell_type": "code",
   "execution_count": 187,
   "id": "e60515bb-b4cf-461d-b62f-bd70f2b89f42",
   "metadata": {},
   "outputs": [],
   "source": [
    "def _compute_frequencies(rna_data):\n",
    "    freqs = []\n",
    "    for rna in rna_data:\n",
    "        counts = torch.bincount(rna, minlength=len(CODON_MAP_DNA)+1)[1:len(CODON_MAP_DNA)+1]\n",
    "        freq = counts.float() / counts.sum()\n",
    "        freqs.append(freq)\n",
    "    return torch.stack(freqs)"
   ]
  },
  {
   "cell_type": "code",
   "execution_count": 188,
   "id": "563e50fb-5e05-4a82-a111-28743aad4e11",
   "metadata": {},
   "outputs": [],
   "source": [
    "x_train = _compute_frequencies(rna_data_12_train).tolist()\n",
    "x_test = _compute_frequencies(rna_data_12_val).tolist()"
   ]
  },
  {
   "cell_type": "code",
   "execution_count": 171,
   "id": "1d815920-fbc2-4dcb-99f6-eb8ced6ed2d5",
   "metadata": {},
   "outputs": [],
   "source": [
    "# Scaling\n",
    "from sklearn.preprocessing import StandardScaler\n",
    "\n",
    "scaler = StandardScaler()\n",
    "x_train = scaler.fit_transform(x_train) # TODO\n",
    "x_test = scaler.transform(x_test)"
   ]
  },
  {
   "cell_type": "code",
   "execution_count": 134,
   "id": "1841d715-0d83-4527-a34a-ede2500df84e",
   "metadata": {},
   "outputs": [],
   "source": [
    "# Use full data for training\n",
    "#x_train = _compute_frequencies(rna_data_full).tolist()\n",
    "#targets_12_train = targets_full.tolist()"
   ]
  },
  {
   "cell_type": "code",
   "execution_count": 189,
   "id": "61ced6ba-73aa-40da-abb0-882d49f4bf31",
   "metadata": {},
   "outputs": [],
   "source": [
    "def evaluate(model, x_test, y_test):\n",
    "    y_pred = model.predict(x_test)\n",
    "    print(\"r2:  \", r2_score(y_pred, y_test))\n",
    "    print(\"RMSE:\", root_mean_squared_error(y_pred, y_test))"
   ]
  },
  {
   "cell_type": "code",
   "execution_count": 192,
   "id": "aa1845a5-970e-4841-9ad6-d0217ef0b55e",
   "metadata": {},
   "outputs": [
    {
     "name": "stdout",
     "output_type": "stream",
     "text": [
      "r2:   -1579.3296454960694\n",
      "RMSE: 0.8632271201642024\n"
     ]
    }
   ],
   "source": [
    "from sklearn.neural_network import MLPRegressor\n",
    "\n",
    "regr = MLPRegressor(random_state=1, max_iter=2000, tol=0.1)\n",
    "regr.fit(x_train, targets_12_train)\n",
    "\n",
    "evaluate(regr, x_test, targets_12_val)"
   ]
  },
  {
   "cell_type": "code",
   "execution_count": 172,
   "id": "be2ebb5c-170f-4c81-a2de-7d0180b49970",
   "metadata": {},
   "outputs": [
    {
     "name": "stdout",
     "output_type": "stream",
     "text": [
      "r2:   -8.903021968048287e+29\n",
      "RMSE: 0.8380480874578216\n"
     ]
    }
   ],
   "source": [
    "from sklearn.dummy import DummyRegressor\n",
    "\n",
    "regr = DummyRegressor(strategy=\"mean\").fit(x_train, targets_12_train)\n",
    "\n",
    "evaluate(regr, x_test, targets_12_val)"
   ]
  },
  {
   "cell_type": "code",
   "execution_count": 173,
   "id": "7fd3388b-d3cd-4c79-8f1a-77b71bcfa7c5",
   "metadata": {},
   "outputs": [
    {
     "name": "stdout",
     "output_type": "stream",
     "text": [
      "r2:   -3.224518634519561\n",
      "RMSE: 0.779168451116159\n"
     ]
    }
   ],
   "source": [
    "from sklearn.linear_model import LinearRegression\n",
    "\n",
    "regr = LinearRegression().fit(x_train, targets_12_train)\n",
    "\n",
    "evaluate(regr, x_test, targets_12_val)"
   ]
  },
  {
   "cell_type": "code",
   "execution_count": 174,
   "id": "4889bed3-5eef-4812-8422-535e06b242c5",
   "metadata": {},
   "outputs": [
    {
     "name": "stdout",
     "output_type": "stream",
     "text": [
      "r2:   -0.5135115141870086\n",
      "RMSE: 1.1447088011321889\n"
     ]
    }
   ],
   "source": [
    "from sklearn.neural_network import MLPRegressor\n",
    "\n",
    "regr = MLPRegressor(random_state=1, max_iter=2000, tol=0.1)\n",
    "regr.fit(x_train, targets_12_train)\n",
    "\n",
    "evaluate(regr, x_test, targets_12_val)"
   ]
  },
  {
   "cell_type": "code",
   "execution_count": 175,
   "id": "cee88a76-9b04-4039-857b-09e361247b05",
   "metadata": {},
   "outputs": [
    {
     "name": "stdout",
     "output_type": "stream",
     "text": [
      "r2:   -23.687099377538676\n",
      "RMSE: 0.8112466864754497\n"
     ]
    }
   ],
   "source": [
    "from sklearn.ensemble import RandomForestRegressor\n",
    "\n",
    "regr = RandomForestRegressor(max_depth=3, random_state=random_state)\n",
    "regr.fit(x_train, targets_12_train)\n",
    "\n",
    "evaluate(regr, x_test, targets_12_val)"
   ]
  },
  {
   "cell_type": "code",
   "execution_count": 193,
   "id": "c317dfae-4fa9-4bdd-a740-f752d1370576",
   "metadata": {},
   "outputs": [
    {
     "data": {
      "text/plain": [
       "<matplotlib.collections.PathCollection at 0x7f0d57a11fc0>"
      ]
     },
     "execution_count": 193,
     "metadata": {},
     "output_type": "execute_result"
    },
    {
     "data": {
      "image/png": "[encoded data removed]",
      "text/plain": [
       "<Figure size 640x480 with 1 Axes>"
      ]
     },
     "metadata": {},
     "output_type": "display_data"
    }
   ],
   "source": [
    "plt.scatter(regr.predict(x_test), targets_12_val)"
   ]
  }
 ],
 "metadata": {
  "kernelspec": {
   "display_name": "Python 3 (ipykernel)",
   "language": "python",
   "name": "python3"
  },
  "language_info": {
   "codemirror_mode": {
    "name": "ipython",
    "version": 3
   },
   "file_extension": ".py",
   "mimetype": "text/x-python",
   "name": "python",
   "nbconvert_exporter": "python",
   "pygments_lexer": "ipython3",
   "version": "3.10.14"
  }
 },
 "nbformat": 4,
 "nbformat_minor": 5
}
