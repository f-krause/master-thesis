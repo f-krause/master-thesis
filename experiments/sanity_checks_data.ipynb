{
 "cells": [
  {
   "cell_type": "markdown",
   "id": "8f069591-ee9a-4de3-8834-9adeae738f35",
   "metadata": {},
   "source": [
    "# Experiments while Development"
   ]
  },
  {
   "cell_type": "markdown",
   "id": "3767b0c6-c315-4535-9c61-951949d95683",
   "metadata": {},
   "source": [
    "## EDA target values"
   ]
  },
  {
   "cell_type": "code",
   "execution_count": 13,
   "id": "b4b24490-36c7-4868-be76-0a7ca77986ab",
   "metadata": {},
   "outputs": [],
   "source": [
    "import pickle\n",
    "import numpy as np\n",
    "\n",
    "with open(\"/export/share/krausef99dm/data/ptr_data/ptr_data.pkl\", 'rb') as f:\n",
    "    ordered_dict = pickle.load(f)"
   ]
  },
  {
   "cell_type": "code",
   "execution_count": 14,
   "id": "7081a75f-26a5-4516-af5a-213192d55251",
   "metadata": {},
   "outputs": [
    {
     "data": {
      "text/plain": [
       "array([4.363 , 3.26  , 4.16  , 4.83  , 4.368 , 4.341 , 3.841 , 4.67  ,\n",
       "       5.133 , 4.325 , 4.093 , 4.559 , 3.793 , 3.875 , 4.122 , 4.202 ,\n",
       "       4.621 , 4.331 , 4.491 , 5.326 , 3.819 , 3.823 , 3.9591, 3.984 ,\n",
       "       4.152 , 3.799 , 3.5096])"
      ]
     },
     "execution_count": 14,
     "metadata": {},
     "output_type": "execute_result"
    }
   ],
   "source": [
    "sample_targets = ordered_dict[list(ordered_dict.keys())[25]][\"targets\"]\n",
    "sample_targets[~np.isnan(sample_targets)]"
   ]
  },
  {
   "cell_type": "markdown",
   "id": "3586faba-b600-4012-b744-0b1e68c3256a",
   "metadata": {},
   "source": [
    "## Sanity check of data loader"
   ]
  },
  {
   "cell_type": "code",
   "execution_count": 5,
   "id": "2c0c7a8a-fc02-4767-932d-3ae640129f30",
   "metadata": {},
   "outputs": [],
   "source": [
    "import os\n",
    "import pandas as pd\n",
    "import pickle\n",
    "import torch\n",
    "\n",
    "from knowledge_db import CODON_MAP_DNA\n",
    "REVERSE_CODON_MAP_DNA = {v: k for k, v in CODON_MAP_DNA.items()}\n",
    "REVERSE_CODON_MAP_DNA.update({0: \"\"})"
   ]
  },
  {
   "cell_type": "code",
   "execution_count": 4,
   "id": "9d80d7d6-a223-4237-9d0e-7d372ed66e5e",
   "metadata": {
    "jupyter": {
     "source_hidden": true
    }
   },
   "outputs": [],
   "source": [
    "rna_data = [\n",
    "torch.tensor([12, 30, 50,  7, 51, 29, 32, 12, 62, 12, 10, 11, 49, 14,  1, 18, 57, 35,\n",
    "        20, 62, 22, 51, 62, 22, 30, 43, 28,  8, 28, 47, 64, 51,  6, 47, 16,  8,\n",
    "        12, 51, 47, 51,  7, 25, 62,  2,  8, 43, 21, 63, 46, 49, 47, 48, 32, 16,\n",
    "        48, 46,  4,  6, 47, 49,  8, 49, 32, 44, 63, 48, 32, 43, 16, 49,  2, 21,\n",
    "        51,  2, 11, 16,  2, 16, 31, 33, 10, 30, 17, 32, 52, 41, 47, 36,  1, 51,\n",
    "        47, 33, 63,  6, 46, 39,  0,  0,  0,  0,  0,  0,  0,  0,  0,  0,  0,  0,\n",
    "         0,  0,  0,  0,  0,  0,  0,  0,  0,  0,  0,  0,  0,  0,  0,  0,  0,  0,\n",
    "         0,  0,  0,  0,  0,  0,  0,  0,  0,  0,  0,  0,  0,  0,  0,  0,  0,  0,\n",
    "         0,  0,  0,  0,  0,  0,  0,  0,  0,  0,  0,  0,  0,  0,  0,  0,  0,  0,\n",
    "         0,  0,  0,  0,  0,  0,  0,  0,  0,  0,  0,  0,  0,  0,  0,  0,  0,  0,\n",
    "         0,  0,  0,  0,  0,  0,  0,  0,  0,  0,  0,  0,  0,  0,  0,  0,  0,  0,\n",
    "         0,  0,  0,  0,  0,  0,  0,  0,  0,  0,  0,  0,  0,  0,  0,  0,  0,  0,\n",
    "         0,  0,  0,  0,  0,  0,  0,  0,  0,  0,  0,  0,  0,  0,  0,  0,  0,  0,\n",
    "         0,  0,  0,  0,  0,  0,  0,  0,  0,  0,  0,  0,  0,  0,  0,  0,  0,  0,\n",
    "         0,  0,  0,  0,  0,  0,  0,  0,  0,  0,  0,  0,  0,  0,  0,  0,  0,  0,\n",
    "         0,  0,  0,  0,  0,  0,  0,  0,  0,  0,  0,  0,  0,  0,  0,  0,  0,  0,\n",
    "         0,  0,  0,  0,  0,  0,  0,  0,  0,  0,  0,  0,  0,  0,  0,  0,  0,  0,\n",
    "         0,  0,  0,  0,  0,  0,  0,  0,  0,  0,  0,  0,  0,  0,  0,  0,  0,  0,\n",
    "         0,  0,  0,  0,  0,  0,  0,  0,  0,  0,  0,  0,  0,  0,  0,  0,  0,  0,\n",
    "         0,  0,  0,  0,  0,  0,  0,  0,  0,  0,  0,  0,  0,  0,  0,  0,  0,  0,\n",
    "         0,  0,  0,  0,  0,  0,  0,  0,  0,  0,  0,  0,  0,  0,  0,  0,  0,  0,\n",
    "         0,  0,  0,  0,  0,  0,  0,  0,  0,  0,  0,  0,  0,  0,  0,  0,  0,  0,\n",
    "         0,  0,  0,  0,  0,  0,  0,  0,  0,  0,  0,  0,  0,  0,  0,  0,  0,  0,\n",
    "         0,  0,  0,  0,  0,  0,  0,  0,  0,  0,  0,  0,  0,  0,  0,  0,  0,  0,\n",
    "         0,  0,  0,  0,  0,  0,  0,  0,  0,  0,  0,  0,  0,  0,  0,  0,  0,  0,\n",
    "         0,  0,  0,  0,  0,  0,  0,  0,  0,  0,  0,  0,  0,  0,  0,  0,  0,  0,\n",
    "         0,  0,  0,  0,  0,  0,  0,  0,  0,  0,  0,  0,  0,  0,  0,  0,  0,  0,\n",
    "         0,  0,  0,  0,  0,  0,  0,  0,  0,  0,  0,  0,  0,  0,  0,  0,  0,  0,\n",
    "         0,  0,  0,  0,  0,  0,  0,  0,  0,  0,  0,  0,  0,  0,  0,  0,  0,  0,\n",
    "         0,  0,  0,  0,  0,  0,  0,  0,  0,  0,  0,  0,  0,  0,  0,  0,  0,  0,\n",
    "         0,  0,  0,  0,  0,  0,  0,  0,  0,  0,  0,  0,  0,  0,  0,  0,  0,  0,\n",
    "         0,  0,  0,  0,  0,  0,  0,  0,  0,  0,  0,  0,  0,  0,  0,  0,  0,  0,\n",
    "         0,  0,  0,  0,  0,  0,  0,  0,  0,  0,  0,  0,  0,  0,  0,  0,  0,  0,\n",
    "         0,  0,  0,  0,  0,  0,  0,  0,  0,  0,  0,  0,  0,  0,  0,  0,  0,  0,\n",
    "         0,  0,  0,  0,  0,  0,  0,  0,  0,  0,  0,  0,  0,  0,  0,  0,  0,  0,\n",
    "         0,  0,  0,  0,  0,  0,  0,  0,  0,  0,  0,  0,  0,  0,  0,  0,  0,  0,\n",
    "         0,  0,  0,  0,  0,  0,  0,  0,  0,  0,  0,  0,  0,  0,  0,  0,  0,  0,\n",
    "         0,  0,  0,  0,  0,  0,  0,  0,  0,  0,  0,  0,  0,  0,  0,  0,  0,  0,\n",
    "         0,  0,  0,  0,  0,  0,  0,  0,  0,  0,  0,  0,  0,  0,  0,  0,  0,  0,\n",
    "         0,  0,  0,  0,  0,  0,  0,  0,  0,  0,  0,  0,  0,  0,  0,  0,  0,  0,\n",
    "         0,  0,  0,  0,  0,  0,  0,  0,  0,  0,  0,  0,  0,  0,  0,  0,  0,  0,\n",
    "         0,  0,  0,  0,  0,  0,  0,  0,  0,  0,  0,  0,  0,  0,  0,  0,  0,  0,\n",
    "         0,  0,  0,  0,  0,  0,  0,  0,  0,  0,  0,  0,  0,  0,  0,  0,  0,  0,\n",
    "         0,  0,  0,  0,  0,  0,  0,  0,  0,  0,  0,  0,  0,  0,  0,  0,  0,  0,\n",
    "         0,  0,  0,  0,  0,  0,  0,  0,  0,  0,  0,  0,  0,  0,  0,  0,  0,  0,\n",
    "         0,  0,  0,  0,  0,  0,  0,  0,  0,  0,  0,  0,  0,  0,  0,  0,  0,  0,\n",
    "         0,  0,  0,  0,  0,  0,  0,  0,  0,  0,  0,  0,  0,  0,  0,  0,  0,  0,\n",
    "         0,  0,  0,  0,  0,  0,  0,  0,  0,  0,  0], device='cuda:1'),\n",
    "torch.tensor([12, 22,  2,  6, 46, 21,  2, 26, 26, 23, 64, 25, 34, 51, 64,  6,  8, 58,\n",
    "        43, 43, 25, 49, 27, 51, 31, 16,  8, 45, 64, 47, 62,  6, 62, 27, 61, 28,\n",
    "         5, 36, 10, 31, 51, 22, 56,  8, 17, 54,  3, 48, 62, 17, 63,  3, 63,  2,\n",
    "        19,  8, 50, 36, 24, 28,  9, 21,  3, 40, 33,  3, 18, 60, 49, 57, 21, 49,\n",
    "        52,  7, 63, 51, 40,  4, 35, 13, 12, 16, 44, 32, 46,  1, 50, 50, 50, 19,\n",
    "        46, 50, 23, 13, 31, 48, 50, 50, 51, 50, 49, 21, 48, 48, 48, 13, 50, 23,\n",
    "         9, 27, 50,  1, 59,  1, 16, 23, 21, 48, 46, 19, 34,  4, 51, 33, 12,  2,\n",
    "        27, 33, 12, 53, 50, 53, 43, 32,  4, 40, 25, 48, 23, 51, 48, 51, 48, 19,\n",
    "        48, 49, 36, 48, 63, 50, 50, 35, 48, 16, 50, 33, 40, 50, 42, 63, 43, 64,\n",
    "        49, 10, 23, 29,  1, 36, 28, 35, 50, 50, 63,  3, 18, 40,  7, 29, 33, 50,\n",
    "        62, 42, 32, 29,  8, 51, 59,  3, 50, 63, 12,  5, 17, 43, 17, 16, 22, 22,\n",
    "        43, 35, 44, 12, 31, 64, 14, 60, 29, 50, 48, 19, 11, 59, 48, 35, 50, 48,\n",
    "        64, 12, 51, 16, 48, 28, 29, 25, 29, 13, 31, 63, 43,  1, 51, 48, 33, 48,\n",
    "        13, 48, 41, 39,  0,  0,  0,  0,  0,  0,  0,  0,  0,  0,  0,  0,  0,  0,\n",
    "         0,  0,  0,  0,  0,  0,  0,  0,  0,  0,  0,  0,  0,  0,  0,  0,  0,  0,\n",
    "         0,  0,  0,  0,  0,  0,  0,  0,  0,  0,  0,  0,  0,  0,  0,  0,  0,  0,\n",
    "         0,  0,  0,  0,  0,  0,  0,  0,  0,  0,  0,  0,  0,  0,  0,  0,  0,  0,\n",
    "         0,  0,  0,  0,  0,  0,  0,  0,  0,  0,  0,  0,  0,  0,  0,  0,  0,  0,\n",
    "         0,  0,  0,  0,  0,  0,  0,  0,  0,  0,  0,  0,  0,  0,  0,  0,  0,  0,\n",
    "         0,  0,  0,  0,  0,  0,  0,  0,  0,  0,  0,  0,  0,  0,  0,  0,  0,  0,\n",
    "         0,  0,  0,  0,  0,  0,  0,  0,  0,  0,  0,  0,  0,  0,  0,  0,  0,  0,\n",
    "         0,  0,  0,  0,  0,  0,  0,  0,  0,  0,  0,  0,  0,  0,  0,  0,  0,  0,\n",
    "         0,  0,  0,  0,  0,  0,  0,  0,  0,  0,  0,  0,  0,  0,  0,  0,  0,  0,\n",
    "         0,  0,  0,  0,  0,  0,  0,  0,  0,  0,  0,  0,  0,  0,  0,  0,  0,  0,\n",
    "         0,  0,  0,  0,  0,  0,  0,  0,  0,  0,  0,  0,  0,  0,  0,  0,  0,  0,\n",
    "         0,  0,  0,  0,  0,  0,  0,  0,  0,  0,  0,  0,  0,  0,  0,  0,  0,  0,\n",
    "         0,  0,  0,  0,  0,  0,  0,  0,  0,  0,  0,  0,  0,  0,  0,  0,  0,  0,\n",
    "         0,  0,  0,  0,  0,  0,  0,  0,  0,  0,  0,  0,  0,  0,  0,  0,  0,  0,\n",
    "         0,  0,  0,  0,  0,  0,  0,  0,  0,  0,  0,  0,  0,  0,  0,  0,  0,  0,\n",
    "         0,  0,  0,  0,  0,  0,  0,  0,  0,  0,  0,  0,  0,  0,  0,  0,  0,  0,\n",
    "         0,  0,  0,  0,  0,  0,  0,  0,  0,  0,  0,  0,  0,  0,  0,  0,  0,  0,\n",
    "         0,  0,  0,  0,  0,  0,  0,  0,  0,  0,  0,  0,  0,  0,  0,  0,  0,  0,\n",
    "         0,  0,  0,  0,  0,  0,  0,  0,  0,  0,  0,  0,  0,  0,  0,  0,  0,  0,\n",
    "         0,  0,  0,  0,  0,  0,  0,  0,  0,  0,  0,  0,  0,  0,  0,  0,  0,  0,\n",
    "         0,  0,  0,  0,  0,  0,  0,  0,  0,  0,  0,  0,  0,  0,  0,  0,  0,  0,\n",
    "         0,  0,  0,  0,  0,  0,  0,  0,  0,  0,  0,  0,  0,  0,  0,  0,  0,  0,\n",
    "         0,  0,  0,  0,  0,  0,  0,  0,  0,  0,  0,  0,  0,  0,  0,  0,  0,  0,\n",
    "         0,  0,  0,  0,  0,  0,  0,  0,  0,  0,  0,  0,  0,  0,  0,  0,  0,  0,\n",
    "         0,  0,  0,  0,  0,  0,  0,  0,  0,  0,  0,  0,  0,  0,  0,  0,  0,  0,\n",
    "         0,  0,  0,  0,  0,  0,  0,  0,  0,  0,  0,  0,  0,  0,  0,  0,  0,  0,\n",
    "         0,  0,  0,  0,  0,  0,  0,  0,  0,  0,  0,  0,  0,  0,  0,  0,  0,  0,\n",
    "         0,  0,  0,  0,  0,  0,  0,  0,  0,  0,  0,  0,  0,  0,  0,  0,  0,  0,\n",
    "         0,  0,  0,  0,  0,  0,  0,  0,  0,  0,  0,  0,  0,  0,  0,  0,  0,  0,\n",
    "         0,  0,  0,  0,  0,  0,  0,  0,  0,  0,  0,  0,  0,  0,  0,  0,  0,  0,\n",
    "         0,  0,  0,  0,  0,  0,  0,  0,  0,  0,  0,  0,  0,  0,  0,  0,  0,  0,\n",
    "         0,  0,  0,  0,  0,  0,  0,  0,  0,  0,  0,  0,  0,  0,  0,  0,  0,  0,\n",
    "         0,  0,  0,  0,  0,  0,  0,  0,  0,  0,  0,  0,  0,  0,  0,  0,  0,  0,\n",
    "         0,  0,  0,  0,  0,  0,  0,  0,  0,  0,  0], device='cuda:1'),\n",
    "    \n",
    "torch.tensor([12, 34, 34, 26, 47, 64, 22,  6, 54, 16, 60, 28, 42,  8, 64,  6, 26, 26,\n",
    "         8,  8,  8,  8, 28, 12, 32,  4, 32, 63, 61, 20, 64, 28, 31, 20, 31, 50,\n",
    "        33,  1, 49, 20, 14,  4, 61, 48, 30, 34, 17, 53, 41, 58, 32, 52, 43,  4,\n",
    "        28, 36, 24,  4, 41, 28, 36, 23, 47, 50, 51, 51,  4, 36, 33, 52, 43, 59,\n",
    "        61, 53, 60,  8,  1, 19,  9, 52, 43,  1, 16, 48, 48, 63,  9, 49,  3, 44,\n",
    "        57, 27, 46,  4, 50, 52, 50, 17, 33, 52, 29, 50, 33, 35, 18, 42, 17, 48,\n",
    "        51, 42, 35, 31, 53, 40,  5, 61, 53, 43, 44, 43,  8, 25,  2, 31, 50,  8,\n",
    "        59, 42, 50, 42,  5, 12, 18,  8, 12, 25, 46, 12, 41,  7,  6,  1, 23,  7,\n",
    "        27,  8, 16, 60, 19,  2, 54, 21, 49, 12, 12, 49, 18, 33, 43, 22,  2, 11,\n",
    "        28, 17, 19, 54, 27,  1, 35,  5, 42, 32, 48, 49, 63, 46, 11, 13, 11,  2,\n",
    "        43, 17, 47, 25, 50, 10, 43, 36, 33, 25, 40,  4, 51, 43, 51, 23, 29, 44,\n",
    "         4, 59, 50, 19, 17,  7, 22, 46, 12, 18, 35,  8, 42, 12, 59, 44, 19, 42,\n",
    "        34, 41, 60, 44,  1,  5, 50, 48, 63, 50, 21, 48, 62,  1,  3, 59, 53,  6,\n",
    "        17,  5, 45, 17, 64, 54,  9,  3, 27, 29, 27,  5, 14,  6, 20, 16, 12, 15,\n",
    "         4,  5, 54,  9, 52, 52, 33, 27, 13, 31, 29, 31, 16, 51, 43, 35, 13, 24,\n",
    "        17, 51, 47,  8, 21, 10, 35, 61, 49,  4, 51,  1, 12, 44, 50, 42, 47,  7,\n",
    "        45, 59, 35, 25, 31, 17, 17,  5, 16, 13, 13, 59, 17, 46, 27, 50, 48, 40,\n",
    "        50, 50, 33, 64, 23,  7, 23, 29, 46, 16, 44,  5, 31, 40, 17, 50,  9, 37,\n",
    "         0,  0,  0,  0,  0,  0,  0,  0,  0,  0,  0,  0,  0,  0,  0,  0,  0,  0,\n",
    "         0,  0,  0,  0,  0,  0,  0,  0,  0,  0,  0,  0,  0,  0,  0,  0,  0,  0,\n",
    "         0,  0,  0,  0,  0,  0,  0,  0,  0,  0,  0,  0,  0,  0,  0,  0,  0,  0,\n",
    "         0,  0,  0,  0,  0,  0,  0,  0,  0,  0,  0,  0,  0,  0,  0,  0,  0,  0,\n",
    "         0,  0,  0,  0,  0,  0,  0,  0,  0,  0,  0,  0,  0,  0,  0,  0,  0,  0,\n",
    "         0,  0,  0,  0,  0,  0,  0,  0,  0,  0,  0,  0,  0,  0,  0,  0,  0,  0,\n",
    "         0,  0,  0,  0,  0,  0,  0,  0,  0,  0,  0,  0,  0,  0,  0,  0,  0,  0,\n",
    "         0,  0,  0,  0,  0,  0,  0,  0,  0,  0,  0,  0,  0,  0,  0,  0,  0,  0,\n",
    "         0,  0,  0,  0,  0,  0,  0,  0,  0,  0,  0,  0,  0,  0,  0,  0,  0,  0,\n",
    "         0,  0,  0,  0,  0,  0,  0,  0,  0,  0,  0,  0,  0,  0,  0,  0,  0,  0,\n",
    "         0,  0,  0,  0,  0,  0,  0,  0,  0,  0,  0,  0,  0,  0,  0,  0,  0,  0,\n",
    "         0,  0,  0,  0,  0,  0,  0,  0,  0,  0,  0,  0,  0,  0,  0,  0,  0,  0,\n",
    "         0,  0,  0,  0,  0,  0,  0,  0,  0,  0,  0,  0,  0,  0,  0,  0,  0,  0,\n",
    "         0,  0,  0,  0,  0,  0,  0,  0,  0,  0,  0,  0,  0,  0,  0,  0,  0,  0,\n",
    "         0,  0,  0,  0,  0,  0,  0,  0,  0,  0,  0,  0,  0,  0,  0,  0,  0,  0,\n",
    "         0,  0,  0,  0,  0,  0,  0,  0,  0,  0,  0,  0,  0,  0,  0,  0,  0,  0,\n",
    "         0,  0,  0,  0,  0,  0,  0,  0,  0,  0,  0,  0,  0,  0,  0,  0,  0,  0,\n",
    "         0,  0,  0,  0,  0,  0,  0,  0,  0,  0,  0,  0,  0,  0,  0,  0,  0,  0,\n",
    "         0,  0,  0,  0,  0,  0,  0,  0,  0,  0,  0,  0,  0,  0,  0,  0,  0,  0,\n",
    "         0,  0,  0,  0,  0,  0,  0,  0,  0,  0,  0,  0,  0,  0,  0,  0,  0,  0,\n",
    "         0,  0,  0,  0,  0,  0,  0,  0,  0,  0,  0,  0,  0,  0,  0,  0,  0,  0,\n",
    "         0,  0,  0,  0,  0,  0,  0,  0,  0,  0,  0,  0,  0,  0,  0,  0,  0,  0,\n",
    "         0,  0,  0,  0,  0,  0,  0,  0,  0,  0,  0,  0,  0,  0,  0,  0,  0,  0,\n",
    "         0,  0,  0,  0,  0,  0,  0,  0,  0,  0,  0,  0,  0,  0,  0,  0,  0,  0,\n",
    "         0,  0,  0,  0,  0,  0,  0,  0,  0,  0,  0,  0,  0,  0,  0,  0,  0,  0,\n",
    "         0,  0,  0,  0,  0,  0,  0,  0,  0,  0,  0,  0,  0,  0,  0,  0,  0,  0,\n",
    "         0,  0,  0,  0,  0,  0,  0,  0,  0,  0,  0,  0,  0,  0,  0,  0,  0,  0,\n",
    "         0,  0,  0,  0,  0,  0,  0,  0,  0,  0,  0,  0,  0,  0,  0,  0,  0,  0,\n",
    "         0,  0,  0,  0,  0,  0,  0,  0,  0,  0,  0,  0,  0,  0,  0,  0,  0,  0,\n",
    "         0,  0,  0,  0,  0,  0,  0,  0,  0,  0,  0], device='cuda:1'),\n",
    "    torch.tensor([12, 20,  2, 59,  1, 62, 42, 40,  6, 10, 47, 24, 17, 15, 16,  1,  6, 46,\n",
    "        29, 50,  8, 18,  2, 31,  5, 16, 44, 60, 46, 23, 16, 15, 25, 63, 40, 14,\n",
    "         5, 16, 53, 26,  8, 58, 25, 16, 51, 56,  2, 40, 49,  8, 55, 23, 48, 50,\n",
    "        16, 32, 48,  4,  1, 43, 30, 28, 43, 59, 14, 64, 29, 16, 16, 50, 46, 40,\n",
    "         2, 40, 64, 28, 17,  6, 28,  1, 18, 12, 43, 48, 62, 24, 50, 32, 63, 43,\n",
    "        27, 16, 47, 41, 13, 41, 14, 40, 13,  5, 24, 60, 47, 31, 63, 49,  1, 41,\n",
    "        60, 44, 49, 22, 10, 35, 51, 51,  6, 43, 46, 40, 49, 47, 51, 49,  1, 23,\n",
    "        32, 17, 54, 59, 19, 51, 51, 50, 12, 33, 33, 50, 32, 33, 31,  8, 58, 14,\n",
    "        36,  1, 43, 39,  0,  0,  0,  0,  0,  0,  0,  0,  0,  0,  0,  0,  0,  0,\n",
    "         0,  0,  0,  0,  0,  0,  0,  0,  0,  0,  0,  0,  0,  0,  0,  0,  0,  0,\n",
    "         0,  0,  0,  0,  0,  0,  0,  0,  0,  0,  0,  0,  0,  0,  0,  0,  0,  0,\n",
    "         0,  0,  0,  0,  0,  0,  0,  0,  0,  0,  0,  0,  0,  0,  0,  0,  0,  0,\n",
    "         0,  0,  0,  0,  0,  0,  0,  0,  0,  0,  0,  0,  0,  0,  0,  0,  0,  0,\n",
    "         0,  0,  0,  0,  0,  0,  0,  0,  0,  0,  0,  0,  0,  0,  0,  0,  0,  0,\n",
    "         0,  0,  0,  0,  0,  0,  0,  0,  0,  0,  0,  0,  0,  0,  0,  0,  0,  0,\n",
    "         0,  0,  0,  0,  0,  0,  0,  0,  0,  0,  0,  0,  0,  0,  0,  0,  0,  0,\n",
    "         0,  0,  0,  0,  0,  0,  0,  0,  0,  0,  0,  0,  0,  0,  0,  0,  0,  0,\n",
    "         0,  0,  0,  0,  0,  0,  0,  0,  0,  0,  0,  0,  0,  0,  0,  0,  0,  0,\n",
    "         0,  0,  0,  0,  0,  0,  0,  0,  0,  0,  0,  0,  0,  0,  0,  0,  0,  0,\n",
    "         0,  0,  0,  0,  0,  0,  0,  0,  0,  0,  0,  0,  0,  0,  0,  0,  0,  0,\n",
    "         0,  0,  0,  0,  0,  0,  0,  0,  0,  0,  0,  0,  0,  0,  0,  0,  0,  0,\n",
    "         0,  0,  0,  0,  0,  0,  0,  0,  0,  0,  0,  0,  0,  0,  0,  0,  0,  0,\n",
    "         0,  0,  0,  0,  0,  0,  0,  0,  0,  0,  0,  0,  0,  0,  0,  0,  0,  0,\n",
    "         0,  0,  0,  0,  0,  0,  0,  0,  0,  0,  0,  0,  0,  0,  0,  0,  0,  0,\n",
    "         0,  0,  0,  0,  0,  0,  0,  0,  0,  0,  0,  0,  0,  0,  0,  0,  0,  0,\n",
    "         0,  0,  0,  0,  0,  0,  0,  0,  0,  0,  0,  0,  0,  0,  0,  0,  0,  0,\n",
    "         0,  0,  0,  0,  0,  0,  0,  0,  0,  0,  0,  0,  0,  0,  0,  0,  0,  0,\n",
    "         0,  0,  0,  0,  0,  0,  0,  0,  0,  0,  0,  0,  0,  0,  0,  0,  0,  0,\n",
    "         0,  0,  0,  0,  0,  0,  0,  0,  0,  0,  0,  0,  0,  0,  0,  0,  0,  0,\n",
    "         0,  0,  0,  0,  0,  0,  0,  0,  0,  0,  0,  0,  0,  0,  0,  0,  0,  0,\n",
    "         0,  0,  0,  0,  0,  0,  0,  0,  0,  0,  0,  0,  0,  0,  0,  0,  0,  0,\n",
    "         0,  0,  0,  0,  0,  0,  0,  0,  0,  0,  0,  0,  0,  0,  0,  0,  0,  0,\n",
    "         0,  0,  0,  0,  0,  0,  0,  0,  0,  0,  0,  0,  0,  0,  0,  0,  0,  0,\n",
    "         0,  0,  0,  0,  0,  0,  0,  0,  0,  0,  0,  0,  0,  0,  0,  0,  0,  0,\n",
    "         0,  0,  0,  0,  0,  0,  0,  0,  0,  0,  0,  0,  0,  0,  0,  0,  0,  0,\n",
    "         0,  0,  0,  0,  0,  0,  0,  0,  0,  0,  0,  0,  0,  0,  0,  0,  0,  0,\n",
    "         0,  0,  0,  0,  0,  0,  0,  0,  0,  0,  0,  0,  0,  0,  0,  0,  0,  0,\n",
    "         0,  0,  0,  0,  0,  0,  0,  0,  0,  0,  0,  0,  0,  0,  0,  0,  0,  0,\n",
    "         0,  0,  0,  0,  0,  0,  0,  0,  0,  0,  0,  0,  0,  0,  0,  0,  0,  0,\n",
    "         0,  0,  0,  0,  0,  0,  0,  0,  0,  0,  0,  0,  0,  0,  0,  0,  0,  0,\n",
    "         0,  0,  0,  0,  0,  0,  0,  0,  0,  0,  0,  0,  0,  0,  0,  0,  0,  0,\n",
    "         0,  0,  0,  0,  0,  0,  0,  0,  0,  0,  0,  0,  0,  0,  0,  0,  0,  0,\n",
    "         0,  0,  0,  0,  0,  0,  0,  0,  0,  0,  0,  0,  0,  0,  0,  0,  0,  0,\n",
    "         0,  0,  0,  0,  0,  0,  0,  0,  0,  0,  0,  0,  0,  0,  0,  0,  0,  0,\n",
    "         0,  0,  0,  0,  0,  0,  0,  0,  0,  0,  0,  0,  0,  0,  0,  0,  0,  0,\n",
    "         0,  0,  0,  0,  0,  0,  0,  0,  0,  0,  0,  0,  0,  0,  0,  0,  0,  0,\n",
    "         0,  0,  0,  0,  0,  0,  0,  0,  0,  0,  0,  0,  0,  0,  0,  0,  0,  0,\n",
    "         0,  0,  0,  0,  0,  0,  0,  0,  0,  0,  0], device='cuda:1'),\n",
    "    torch.tensor([12, 17, 31,  8, 30, 23, 26, 28, 48, 12, 25, 28, 24, 28, 27, 49, 47, 10,\n",
    "        29, 43, 31, 32, 12, 51, 28, 10, 36,  5, 53, 46,  2, 57, 16, 18, 12, 48,\n",
    "        63, 50, 54,  6, 53,  8, 57, 51,  8, 48, 49, 10, 19,  5, 29, 23, 49, 25,\n",
    "        51, 23, 28, 40, 50, 48, 23, 44, 35,  6, 12, 31, 44, 50, 56, 12, 45,  6,\n",
    "        12, 45, 12, 32, 47,  8, 21, 10, 47, 62,  4,  9, 50, 19, 31,  8, 45,  8,\n",
    "        64, 60, 27,  5, 49, 17, 49, 35, 33, 23,  6, 43, 42,  2,  1, 16, 16, 12,\n",
    "        51, 41, 52,  8, 46, 40, 62,  4, 46, 31, 46, 46, 27,  1,  6, 63, 42, 44,\n",
    "        46, 18,  2, 54, 64, 23,  7, 50,  8, 15, 50, 47,  5, 13, 25, 50, 32, 33,\n",
    "        51, 11, 29, 33, 21, 13, 46, 48,  5, 25, 63,  5, 47, 29, 25, 15, 61, 59,\n",
    "        63, 59, 32, 54,  5, 55,  4, 33,  3, 12, 42, 47, 46,  5, 19, 50, 35, 12,\n",
    "        46, 31,  4, 10, 44, 47, 46, 50,  5,  6, 21, 50,  2, 36, 50, 24, 44, 32,\n",
    "         6, 12, 12, 50, 50, 50, 63, 32, 11,  9, 31, 61,  8,  4, 16, 61,  8, 44,\n",
    "        14,  9, 48, 32, 44,  2, 52, 12, 46, 63, 50, 49,  4, 49, 17, 43, 13, 63,\n",
    "        13, 11, 48,  1, 19, 12, 35,  6, 47, 49, 64, 45, 22, 21, 46, 61, 27, 50,\n",
    "        63, 49, 61, 43,  9, 27, 33,  9,  8, 49, 43, 47, 45, 35, 15, 50, 50,  8,\n",
    "        45, 59, 40,  4, 44, 31, 27, 15, 45, 45,  5, 43, 33, 46, 15, 48, 33,  3,\n",
    "        50, 46, 18, 45, 27, 46,  8, 29, 51, 51,  5, 33, 13, 33, 45, 45, 60, 10,\n",
    "         9, 28,  3, 42, 50, 50, 12, 50, 57, 13, 46, 51, 50, 21, 18, 36, 11,  8,\n",
    "        50, 18, 44, 58, 47, 61, 24, 47, 42, 49, 59, 27, 33, 50, 64, 42, 33,  7,\n",
    "        21, 50, 33, 59, 47, 40,  3, 46, 50, 51, 29, 42,  3, 57,  4, 48, 13, 51,\n",
    "        46, 50,  8, 51, 12, 43, 10, 22, 12, 60, 43, 51, 12, 50,  4, 31, 12, 47,\n",
    "        12,  8, 51, 47, 48, 14, 52, 51, 47, 43, 48, 32,  8, 15, 17,  5, 58, 43,\n",
    "        43,  8, 48, 49,  6, 59, 31,  6, 47, 40, 50,  5, 32,  1, 47,  8, 43, 21,\n",
    "        19, 49,  3, 63, 15, 46, 43, 46, 21, 50,  7, 45, 21, 56,  4, 50, 51, 47,\n",
    "        27, 44, 43, 12, 31, 31, 28,  9, 46, 42,  5, 50, 42, 59,  4, 56, 43, 31,\n",
    "        51, 57, 22, 56, 42, 17, 31, 51,  4, 49, 45, 58,  6,  2, 46, 43, 49,  1,\n",
    "        63, 49, 47, 10, 45, 21,  8, 43,  8, 50, 14, 51, 51,  6, 28, 60, 43, 58,\n",
    "        45, 43,  5, 51,  3, 50,  7, 46, 43, 50, 46, 50, 59, 59,  3, 42, 45, 49,\n",
    "        60, 22, 10, 25, 63, 60, 61, 18, 43, 47, 19, 50, 18, 47, 12, 48, 64, 47,\n",
    "        41, 46, 12, 42, 51, 50, 44, 13, 46,  7, 46, 47, 24,  8, 50, 50, 22, 41,\n",
    "        60,  8, 42, 24, 41, 23, 12, 48, 50, 43, 48, 43,  8,  8,  6, 17, 50, 47,\n",
    "        25, 43,  4, 52, 43,  7, 53, 43, 50, 49, 62, 22,  7, 29, 47, 44, 16, 52,\n",
    "        47, 45, 53, 22, 63, 28,  2, 52, 48, 32, 52, 19, 29, 44, 50,  8, 23,  5,\n",
    "        23, 19, 21, 10, 47,  5, 51, 57, 13, 53, 44, 24, 52, 41, 47, 40,  8, 12,\n",
    "        47, 42, 35, 17, 28, 22, 25, 19, 37,  0,  0,  0,  0,  0,  0,  0,  0,  0,\n",
    "         0,  0,  0,  0,  0,  0,  0,  0,  0,  0,  0,  0,  0,  0,  0,  0,  0,  0,\n",
    "         0,  0,  0,  0,  0,  0,  0,  0,  0,  0,  0,  0,  0,  0,  0,  0,  0,  0,\n",
    "         0,  0,  0,  0,  0,  0,  0,  0,  0,  0,  0,  0,  0,  0,  0,  0,  0,  0,\n",
    "         0,  0,  0,  0,  0,  0,  0,  0,  0,  0,  0,  0,  0,  0,  0,  0,  0,  0,\n",
    "         0,  0,  0,  0,  0,  0,  0,  0,  0,  0,  0,  0,  0,  0,  0,  0,  0,  0,\n",
    "         0,  0,  0,  0,  0,  0,  0,  0,  0,  0,  0,  0,  0,  0,  0,  0,  0,  0,\n",
    "         0,  0,  0,  0,  0,  0,  0,  0,  0,  0,  0,  0,  0,  0,  0,  0,  0,  0,\n",
    "         0,  0,  0,  0,  0,  0,  0,  0,  0,  0,  0,  0,  0,  0,  0,  0,  0,  0,\n",
    "         0,  0,  0,  0,  0,  0,  0,  0,  0,  0,  0,  0,  0,  0,  0,  0,  0,  0,\n",
    "         0,  0,  0,  0,  0,  0,  0,  0,  0,  0,  0,  0,  0,  0,  0,  0,  0,  0,\n",
    "         0,  0,  0,  0,  0,  0,  0,  0,  0,  0,  0,  0,  0,  0,  0,  0,  0,  0,\n",
    "         0,  0,  0,  0,  0,  0,  0,  0,  0,  0,  0,  0,  0,  0,  0,  0,  0,  0,\n",
    "         0,  0,  0,  0,  0,  0,  0,  0,  0,  0,  0], device='cuda:1')\n",
    "    \n",
    "]"
   ]
  },
  {
   "cell_type": "code",
   "execution_count": 108,
   "id": "4d395a1b-9bba-46ff-9056-2244a79a9a0f",
   "metadata": {},
   "outputs": [
    {
     "data": {
      "text/plain": [
       "tensor([ 8,  4,  3, 10,  9,  5,  5, 12,  5,  2,  3, 11,  5,  2,  1,  7, 13,  4,\n",
       "         5,  4,  3,  3,  5,  2,  5,  3,  7,  6,  5,  1,  8,  4,  8,  4,  7,  4,\n",
       "         1,  0,  0,  4,  4,  9, 10,  7,  2,  6,  5,  8,  6, 16,  8,  7,  5,  5,\n",
       "         0,  0,  1,  1,  7,  4,  5,  1,  4,  5], device='cuda:1')"
      ]
     },
     "execution_count": 108,
     "metadata": {},
     "output_type": "execute_result"
    }
   ],
   "source": [
    "torch.bincount(rna_data[2], minlength=65)[1:65]"
   ]
  },
  {
   "cell_type": "code",
   "execution_count": 90,
   "id": "5c5d2a01-fb8c-4c7e-86f2-f718a8a3adc1",
   "metadata": {},
   "outputs": [
    {
     "data": {
      "text/plain": [
       "tensor([12, 30, 50,  7, 51, 29, 32, 12, 62, 12, 10, 11, 49, 14,  1, 18, 57, 35,\n",
       "        20, 62, 22, 51, 62, 22, 30, 43, 28,  8, 28, 47, 64, 51,  6, 47, 16,  8,\n",
       "        12, 51, 47, 51,  7, 25, 62,  2,  8, 43, 21, 63, 46, 49, 47, 48, 32, 16,\n",
       "        48, 46,  4,  6, 47, 49,  8, 49, 32, 44, 63, 48, 32, 43, 16, 49,  2, 21,\n",
       "        51,  2, 11, 16,  2, 16, 31, 33, 10, 30, 17, 32, 52, 41, 47, 36,  1, 51,\n",
       "        47, 33, 63,  6, 46, 39,  0,  0,  0,  0,  0,  0,  0,  0,  0,  0,  0,  0,\n",
       "         0,  0,  0,  0,  0,  0,  0,  0,  0,  0,  0,  0,  0,  0,  0,  0,  0,  0,\n",
       "         0,  0,  0,  0,  0,  0,  0,  0,  0,  0,  0,  0,  0,  0,  0,  0,  0,  0,\n",
       "         0,  0,  0,  0,  0,  0,  0,  0,  0,  0,  0,  0,  0,  0,  0,  0,  0,  0,\n",
       "         0,  0,  0,  0,  0,  0,  0,  0,  0,  0,  0,  0,  0,  0,  0,  0,  0,  0,\n",
       "         0,  0,  0,  0,  0,  0,  0,  0,  0,  0,  0,  0,  0,  0,  0,  0,  0,  0,\n",
       "         0,  0,  0,  0,  0,  0,  0,  0,  0,  0,  0,  0,  0,  0,  0,  0,  0,  0,\n",
       "         0,  0,  0,  0,  0,  0,  0,  0,  0,  0,  0,  0,  0,  0,  0,  0,  0,  0,\n",
       "         0,  0,  0,  0,  0,  0,  0,  0,  0,  0,  0,  0,  0,  0,  0,  0,  0,  0,\n",
       "         0,  0,  0,  0,  0,  0,  0,  0,  0,  0,  0,  0,  0,  0,  0,  0,  0,  0,\n",
       "         0,  0,  0,  0,  0,  0,  0,  0,  0,  0,  0,  0,  0,  0,  0,  0,  0,  0,\n",
       "         0,  0,  0,  0,  0,  0,  0,  0,  0,  0,  0,  0,  0,  0,  0,  0,  0,  0,\n",
       "         0,  0,  0,  0,  0,  0,  0,  0,  0,  0,  0,  0,  0,  0,  0,  0,  0,  0,\n",
       "         0,  0,  0,  0,  0,  0,  0,  0,  0,  0,  0,  0,  0,  0,  0,  0,  0,  0,\n",
       "         0,  0,  0,  0,  0,  0,  0,  0,  0,  0,  0,  0,  0,  0,  0,  0,  0,  0,\n",
       "         0,  0,  0,  0,  0,  0,  0,  0,  0,  0,  0,  0,  0,  0,  0,  0,  0,  0,\n",
       "         0,  0,  0,  0,  0,  0,  0,  0,  0,  0,  0,  0,  0,  0,  0,  0,  0,  0,\n",
       "         0,  0,  0,  0,  0,  0,  0,  0,  0,  0,  0,  0,  0,  0,  0,  0,  0,  0,\n",
       "         0,  0,  0,  0,  0,  0,  0,  0,  0,  0,  0,  0,  0,  0,  0,  0,  0,  0,\n",
       "         0,  0,  0,  0,  0,  0,  0,  0,  0,  0,  0,  0,  0,  0,  0,  0,  0,  0,\n",
       "         0,  0,  0,  0,  0,  0,  0,  0,  0,  0,  0,  0,  0,  0,  0,  0,  0,  0,\n",
       "         0,  0,  0,  0,  0,  0,  0,  0,  0,  0,  0,  0,  0,  0,  0,  0,  0,  0,\n",
       "         0,  0,  0,  0,  0,  0,  0,  0,  0,  0,  0,  0,  0,  0,  0,  0,  0,  0,\n",
       "         0,  0,  0,  0,  0,  0,  0,  0,  0,  0,  0,  0,  0,  0,  0,  0,  0,  0,\n",
       "         0,  0,  0,  0,  0,  0,  0,  0,  0,  0,  0,  0,  0,  0,  0,  0,  0,  0,\n",
       "         0,  0,  0,  0,  0,  0,  0,  0,  0,  0,  0,  0,  0,  0,  0,  0,  0,  0,\n",
       "         0,  0,  0,  0,  0,  0,  0,  0,  0,  0,  0,  0,  0,  0,  0,  0,  0,  0,\n",
       "         0,  0,  0,  0,  0,  0,  0,  0,  0,  0,  0,  0,  0,  0,  0,  0,  0,  0,\n",
       "         0,  0,  0,  0,  0,  0,  0,  0,  0,  0,  0,  0,  0,  0,  0,  0,  0,  0,\n",
       "         0,  0,  0,  0,  0,  0,  0,  0,  0,  0,  0,  0,  0,  0,  0,  0,  0,  0,\n",
       "         0,  0,  0,  0,  0,  0,  0,  0,  0,  0,  0,  0,  0,  0,  0,  0,  0,  0,\n",
       "         0,  0,  0,  0,  0,  0,  0,  0,  0,  0,  0,  0,  0,  0,  0,  0,  0,  0,\n",
       "         0,  0,  0,  0,  0,  0,  0,  0,  0,  0,  0,  0,  0,  0,  0,  0,  0,  0,\n",
       "         0,  0,  0,  0,  0,  0,  0,  0,  0,  0,  0,  0,  0,  0,  0,  0,  0,  0,\n",
       "         0,  0,  0,  0,  0,  0,  0,  0,  0,  0,  0,  0,  0,  0,  0,  0,  0,  0,\n",
       "         0,  0,  0,  0,  0,  0,  0,  0,  0,  0,  0,  0,  0,  0,  0,  0,  0,  0,\n",
       "         0,  0,  0,  0,  0,  0,  0,  0,  0,  0,  0,  0,  0,  0,  0,  0,  0,  0,\n",
       "         0,  0,  0,  0,  0,  0,  0,  0,  0,  0,  0,  0,  0,  0,  0,  0,  0,  0,\n",
       "         0,  0,  0,  0,  0,  0,  0,  0,  0,  0,  0,  0,  0,  0,  0,  0,  0,  0,\n",
       "         0,  0,  0,  0,  0,  0,  0,  0,  0,  0,  0,  0,  0,  0,  0,  0,  0,  0,\n",
       "         0,  0,  0,  0,  0,  0,  0,  0,  0,  0,  0,  0,  0,  0,  0,  0,  0,  0,\n",
       "         0,  0,  0,  0,  0,  0,  0,  0,  0,  0,  0,  0,  0,  0,  0,  0,  0,  0,\n",
       "         0,  0,  0,  0,  0,  0,  0,  0,  0,  0,  0], device='cuda:1')"
      ]
     },
     "execution_count": 90,
     "metadata": {},
     "output_type": "execute_result"
    }
   ],
   "source": [
    "rna_data[0]"
   ]
  },
  {
   "cell_type": "code",
   "execution_count": 50,
   "id": "e0d72c4b-387c-4709-b5b5-24fd93dcdaf2",
   "metadata": {},
   "outputs": [],
   "source": [
    "rna_data_lists = [ls.tolist() for ls in rna_data]\n",
    "rna_data_base = [''.join(REVERSE_CODON_MAP_DNA[codon] for codon in encoded_dna) for encoded_dna in rna_data_lists]"
   ]
  },
  {
   "cell_type": "code",
   "execution_count": 59,
   "id": "7876e22a-3d53-49ea-a379-750b9aae4786",
   "metadata": {},
   "outputs": [],
   "source": [
    "tissue_ids = torch.tensor([ 3, 26,  4, 23,  0, 25, 13, 16, 16,  4, 10, 28, 11,  5, 28, 24],\n",
    "       device='cuda:1')\n",
    "tissue_ids = tissue_ids.tolist()[:len(rna_data_base)]"
   ]
  },
  {
   "cell_type": "code",
   "execution_count": 60,
   "id": "3e03274c-b686-4ab9-a778-fd3d5b08555b",
   "metadata": {},
   "outputs": [],
   "source": [
    "seq_len = torch.tensor([ 96, 238, 324, 148, 621, 757, 857, 214, 343, 268, 481, 410, 307, 375,\n",
    "        346, 350], device='cuda:1')\n",
    "seq_len = seq_len.tolist()[:len(rna_data_base)]"
   ]
  },
  {
   "cell_type": "code",
   "execution_count": 61,
   "id": "93550dfc-556c-47b7-8012-78db629327dd",
   "metadata": {},
   "outputs": [],
   "source": [
    "targets = torch.tensor([6.5370, 5.0270, 2.7470, 5.9470, 5.4820, 5.4460, 4.2460, 4.9940, 4.8880,\n",
    "        4.3590, 6.1870, 6.4934, 6.1070, 4.8720, 2.7996, 3.8572],\n",
    "       device='cuda:1', dtype=torch.float64)\n",
    "targets = targets.tolist()[:len(rna_data_base)]"
   ]
  },
  {
   "cell_type": "markdown",
   "id": "1bb1c7c5-73c0-40f6-a5af-f6b57c40eba8",
   "metadata": {},
   "source": [
    "#### Sanity check: Seq lengths"
   ]
  },
  {
   "cell_type": "code",
   "execution_count": 63,
   "id": "2cb2e3a5-d7ac-4645-9c6a-0366bf1d715e",
   "metadata": {},
   "outputs": [
    {
     "name": "stdout",
     "output_type": "stream",
     "text": [
      "288 288\n",
      "714 714\n",
      "972 972\n",
      "444 444\n",
      "1863 1863\n"
     ]
    }
   ],
   "source": [
    "for seq, length in zip(rna_data_base, seq_len):\n",
    "    print(len(seq), length*3)"
   ]
  },
  {
   "cell_type": "markdown",
   "id": "fe0873c1-f30b-477b-a343-e611d38b00dc",
   "metadata": {},
   "source": [
    "#### Sanity check for targets"
   ]
  },
  {
   "cell_type": "code",
   "execution_count": 6,
   "id": "d7c5aa1e-bba3-4cbe-804e-7aa03e6d7e97",
   "metadata": {},
   "outputs": [],
   "source": [
    "# Load ground truth data\n",
    "ptr_data_path = \"/export/share/krausef99dm/data/ptr_data/ptr_data.pkl\"\n",
    "\n",
    "# load pickle file\n",
    "with open(os.path.join(ptr_data_path), 'rb') as f:\n",
    "    raw_data = pickle.load(f)"
   ]
  },
  {
   "cell_type": "code",
   "execution_count": 88,
   "id": "bf527a26-b94a-490c-97fb-301db9ebb45e",
   "metadata": {},
   "outputs": [
    {
     "name": "stdout",
     "output_type": "stream",
     "text": [
      "ENST00000528364\n",
      "5.027 5.027\n",
      "True\n",
      "ENST00000492590\n",
      "5.947 5.947\n",
      "True\n",
      "ENST00000381006\n",
      "5.482 5.482\n",
      "True\n",
      "ENST00000296370\n",
      "6.537 6.537\n",
      "True\n",
      "ENST00000234831\n",
      "2.747 2.747\n",
      "True\n"
     ]
    }
   ],
   "source": [
    "for identifier, content in raw_data.items():\n",
    "    #print(identifier)\n",
    "    #print(content)\n",
    "\n",
    "    sequence = content['fasta']\n",
    "    bed_annotation = content['bed_annotation']\n",
    "\n",
    "    coding_sequence = [nucleotide for nucleotide, annotation in zip(list(sequence), bed_annotation) if\n",
    "                           annotation not in [5, 3]]\n",
    "    coding_sequence_str = \"\".join(coding_sequence)\n",
    "\n",
    "    for idx, test_sequence in enumerate(rna_data_base):\n",
    "        if coding_sequence_str == test_sequence:\n",
    "            target_test = targets[idx]\n",
    "            tissue_id = tissue_ids[idx]\n",
    "            target_true = content[\"targets\"][tissue_id]\n",
    "            print(identifier, target_test == target_true)\n",
    "            print(target_test, target_true)\n",
    "            \n",
    "    #break"
   ]
  },
  {
   "cell_type": "code",
   "execution_count": 65,
   "id": "122e3916-5f1a-4f8d-9c37-30b907ddd790",
   "metadata": {},
   "outputs": [
    {
     "name": "stdout",
     "output_type": "stream",
     "text": [
      "ATGACGGAACTAGAGACAGCCATGGGCATGATCATAGACGTCTTTTCCCGATATTCGGGCAGCGAGGGCAGCACGCAGACCCTGACCAAGGGGGAGCTCAAGGTGCTGATGGAGAAGGAGCTACCAGGCTTCCTGCAGAGTGGAAAAGACAAGGATGCCGTGGATAAATTGCTCAAGGACCTGGACGCCAATGGAGATGCCCAGGTGGACTTCAGTGAGTTCATAGTGTTCGTGGCTGCAATCACGTCTGCCTGTCACAAGTACTTTGAGAAGGCAGGACTCAAATGA\n",
      "3 -> 6.537\n",
      "#####\n",
      "ATGAGCTTCCTCAAAAGTTTCCCGCCGCCTGGGCCAGCGGAGGGGCTCCTGCGGCAGCAGCCAGACACTGAGGCTGTGCTGAACGGGAAGGGCCTCGGCACTGGTACCCTTTACATCGCTGAGAGCCGCCTGTCTTGGTTAGATGGCTCTGGATTAGGATTCTCACTGGAATACCCCACCATTAGTTTACATGCATTATCCAGGGACCGAAGTGACTGTCTAGGAGAGCATTTGTATGTTATGGTGAATGCCAAATTTGAAGAAGAATCAAAAGAACCTGTTGCTGATGAAGAAGAGGAAGACAGTGATGATGATGTTGAACCTATTACTGAATTTAGATTTGTGCCTAGTGATAAATCAGCGTTGGAGGCAATGTTCACTGCAATGTGCGAATGCCAGGCCTTGCATCCAGATCCTGAGGATGAGGATTCAGATGACTACGATGGAGAAGAATATGATGTGGAAGCACATGAACAAGGACAGGGGGACATCCCTACATTTTACACCTATGAAGAAGGATTATCCCATCTAACAGCAGAAGGCCAAGCCACACTGGAGAGATTAGAAGGAATGCTTTCTCAGTCTGTGAGCAGCCAGTATAATATGGCTGGGGTCAGGACAGAAGATTCAATAAGAGATTATGAAGATGGGATGGAGGTGGATACCACACCAACAGTTGCTGGACAGTTTGAGGATGCAGATGTTGATCACTGA\n",
      "26 -> 5.027\n",
      "#####\n",
      "ATGGCGGCGCCGAAGGGGAGCCTCTGGGTGAGGACCCAACTGGGGCTCCCGCCGCTGCTGCTGCTGACCATGGCCTTGGCCGGAGGTTCGGGGACCGCTTCGGCTGAAGCATTTGACTCGGTCTTGGGTGATACGGCGTCTTGCCACCGGGCCTGTCAGTTGACCTACCCCTTGCACACCTACCCTAAGGAAGAGGAGTTGTACGCATGTCAGAGAGGTTGCAGGCTGTTTTCAATTTGTCAGTTTGTGGATGATGGAATTGACTTAAATCGAACTAAATTGGAATGTGAATCTGCATGTACAGAAGCATATTCCCAATCTGATGAGCAATATGCTTGCCATCTTGGTTGCCAGAATCAGCTGCCATTCGCTGAACTGAGACAAGAACAACTTATGTCCCTGATGCCAAAAATGCACCTACTCTTTCCTCTAACTCTGGTGAGGTCATTCTGGAGTGACATGATGGACTCCGCACAGAGCTTCATAACCTCTTCATGGACTTTTTATCTTCAAGCCGATGACGGAAAAATAGTTATATTCCAGTCTAAGCCAGAAATCCAGTACGCACCACATTTGGAGCAGGAGCCTACAAATTTGAGAGAATCATCTCTAAGCAAAATGTCCTATCTGCAAATGAGAAATTCACAAGCGCACAGGAATTTTCTTGAAGATGGAGAAAGTGATGGCTTTTTAAGATGCCTCTCTCTTAACTCTGGGTGGATTTTAACTACAACTCTTGTCCTCTCGGTGATGGTATTGCTTTGGATTTGTTGTGCAACTGTTGCTACAGCTGTGGAGCAGTATGTTCCCTCTGAGAAGCTGAGTATCTATGGTGACTTGGAGTTTATGAATGAACAAAAGCTAAACAGATATCCAGCTTCTTCTCTTGTGGTTGTTAGATCTAAAACTGAAGATCATGAAGAAGCAGGGCCTCTACCTACAAAAGTGAATCTTGCTCATTCTGAAATTTAA\n",
      "4 -> 2.747\n",
      "#####\n",
      "ATGTCGTTCAGATTTGGCCAACATCTCATCAAGCCCTCTGTAGTGTTTCTCAAAACAGAACTGTCCTTCGCTCTTGTGAATAGGAAACCTGTGGTACCAGGACATGTCCTTGTGTGCCCGCTGCGGCCAGTGGAGCGCTTCCATGACCTGCGTCCTGATGAAGTGGCCGATTTGTTTCAGACGACCCAGAGAGTCGGGACAGTGGTGGAAAAACATTTCCATGGGACCTCTCTCACCTTTTCCATGCAGGATGGCCCCGAAGCCGGACAGACTGTGAAGCACGTTCACGTCCATGTTCTTCCCAGGAAGGCTGGAGACTTTCACAGGAATGACAGCATCTATGAGGAGCTCCAGAAACATGACAAGGAGGACTTTCCTGCCTCTTGGAGATCAGAGGAGGAAATGGCAGCAGAAGCCGCAGCTCTGCGGGTCTACTTTCAGTGA\n",
      "23 -> 5.947\n",
      "#####\n",
      "ATGTCTGCTCTGACGCCTCCGACCGATATGCCAACCCCCACCACTGACAAGATCACACAGGCTGCCATGGAGACCATCTACCTTTGCAAATTCCGAGTGTCCATGGATGGAGAATGGCTCTGCCTGCGAGAGCTGGATGACATCTCACTTACACCTGACCCAGAGCCTACCCATGAAGATCCTAATTATCTCATGGCTAATGAACGCATGAACCTCATGAACATGGCCAAGCTGAGTATCAAGGGCTTGATTGAATCAGCTCTGAACCTGGGGAGGACTCTTGACTCTGACTATGCACCTCTCCAGCAATTCTTTGTGGTGATGGAGCACTGTCTGAAACATGGCTTGAAAGCTAAAAAAACTTTTCTCGGACAAAATAAATCCTTCTGGGGGCCTCTAGAACTGGTAGAAAAGCTTGTTCCAGAAGCCGCAGAGATAACAGCAAGTGTTAAAGATCTTCCAGGACTTAAGACACCAGTAGGTAGAGGAAGAGCCTGGCTTCGTTTGGCATTAATGCAAAAGAAACTTTCAGAATATATGAAAGCTTTGATCAATAAGAAAGAACTTCTCAGTGAATTCTACGAACCCAATGCCCTCATGATGGAAGAAGAAGGAGCCATAATTGCTGGTCTGTTGGTGGGTCTGAATGTCATTGATGCCAATTTCTGTATGAAAGGAGAAGACTTGGACTCTCAGGTTGGAGTTATAGATTTTTCAATGTATCTCAAGGACGGGAACAGCAGTAAAGGTACTGAAGGAGACGGTCAGATTACTGCAATTCTGGACCAGAAGAACTATGTAGAAGAACTGAACAGACATTTGAATGCTACTGTAAACAACCTTCAGGCAAAAGTAGATGCATTAGAAAAATCCAACACTAAACTGACAGAGGAGCTTGCAGTTGCAAACAACAGGATCATTACCTTACAAGAAGAAATGGAACGAGTTAAAGAGGAAAGTTCCTACATACTGGAATCCAATCGGAAGGGTCCCAAGCAAGACAGAACTGCAGAAGGGCAAGCACTAAGTGAAGCAAGAAAGCATTTAAAAGAAGAGACACAATTACGATTGGATGTTGAGAAAGAACTGGAGATGCAGATCAGCATGAGGCAGGAGATGGAATTGGCTATGAAGATGCTGGAGAAGGATGTCTGTGAGAAGCAGGATGCCCTGGTATCTCTTCGGCAGCAGCTGGATGACCTCAGAGCTCTCAAGCATGAACTTGCCTTTAAGCTGCAGAGTTCAGACTTAGGAGTAAAACAGAAAAGTGAACTAAACAGTCGCTTGGAAGAGAAGACTAATCAGATGGCTGCTACCATTAAACAACTTGAACAAAGATTGCGCCAGGCTGAGCGAAGCCGCCAATCTGCTGAGTTGGACAACCGGCTCTTCAAACAGGACTTTGGAGACAAGATCAACAGTCTGCAGCTGGAAGTCGAGGAGCTCACCAGGCAGCGGAACCAGCTTGAGTTAGAACTAAAACAGGAAAAAGAAAGAAGATTACAAAACGACAGGAGCATCCCAGGAAGGGGTTCCCAGAAGTCAGAATCCAAGATGGATGGGAAGCACAAAATGCAAGAGGAAAATGTTAAACTAAAAAAGCCCCTGGAAGAAAGCCACAGGCTGCAACCCCACCCTATGGATGAACAGGATCAGCTGCTGCTCTCTGAAAAGCCACAGTTGTGTCAGCTATGCCAGGAAGACGGCAGCCTAACAAAGAATGTGTGTAAGAACTGCAGCGGAACCTTCTGTGATGCCTGTTCAACAAATGAACTGCCTCTTCCTTCAAGTATCAAGCTTGAGCGAGTTTGCAATCCCTGTCACAAGCATCTGATGAAGCAATATTCTACCAGCCCATCATAA\n",
      "0 -> 5.482\n",
      "#####\n"
     ]
    }
   ],
   "source": [
    "for seq, tissue_id, target in zip(rna_data_base, tissue_ids, targets):\n",
    "    print(seq)\n",
    "    print(tissue_id, \"->\", target)\n",
    "    print(\"#####\")"
   ]
  },
  {
   "cell_type": "markdown",
   "id": "5e2cf58e-15b2-40b6-b57d-2496efdf004b",
   "metadata": {},
   "source": [
    "## Sanity checks train data"
   ]
  },
  {
   "cell_type": "code",
   "execution_count": 1,
   "id": "3eb2fef3-8078-4dec-a4a8-8fb9f14cffec",
   "metadata": {},
   "outputs": [],
   "source": [
    "import pickle\n",
    "import numpy as np\n",
    "import pandas as pd\n",
    "import matplotlib.pylab as plt"
   ]
  },
  {
   "cell_type": "markdown",
   "id": "f3c8605a-7181-419d-9f34-b008b9d9adfa",
   "metadata": {},
   "source": [
    "### Sequences (ids) in train data check"
   ]
  },
  {
   "cell_type": "code",
   "execution_count": 2,
   "id": "7503c208-117a-4064-be5b-ea8128d8bacf",
   "metadata": {},
   "outputs": [],
   "source": [
    "indices_seq = pd.read_csv(\"/export/share/krausef99dm/data/data_train/train_8.1k_indices.csv\")\n",
    "indices_cod = pd.read_csv(\"/export/share/krausef99dm/data/data_train/codon_train_2.7k_indices.csv\")"
   ]
  },
  {
   "cell_type": "code",
   "execution_count": 3,
   "id": "53a07733-f815-414d-8e67-dba94bce1e69",
   "metadata": {},
   "outputs": [],
   "source": [
    "indices_seq_set = set(indices_seq.identifier.tolist())\n",
    "indices_cod_set = set(indices_cod.identifier.tolist())"
   ]
  },
  {
   "cell_type": "code",
   "execution_count": 4,
   "id": "318775cf-232a-4215-8820-0dbff53e05a7",
   "metadata": {},
   "outputs": [
    {
     "name": "stdout",
     "output_type": "stream",
     "text": [
      "7368\n",
      "6457\n"
     ]
    }
   ],
   "source": [
    "print(len(indices_seq_set))\n",
    "print(len(indices_cod_set))"
   ]
  },
  {
   "cell_type": "code",
   "execution_count": 21,
   "id": "8977929b-9a21-40ca-a5bb-4462113155b4",
   "metadata": {},
   "outputs": [
    {
     "name": "stdout",
     "output_type": "stream",
     "text": [
      "Total codon:  6457\n",
      "Total seq:    7368\n",
      "\n",
      "codon u seq:  9457\n",
      "codon n seq:  4368\n",
      "codon \\ seq:  2089\n",
      "seq \\ codon:  3000\n"
     ]
    }
   ],
   "source": [
    "print(\"Total codon: \", len(indices_cod_set))  # max seq len 2700\n",
    "print(\"Total seq:   \", len(indices_seq_set))  # max seq len 8100\n",
    "print(\"\")      \n",
    "print(\"codon u seq: \", len(indices_cod_set | indices_seq_set)) # nr of seq contained in codon set OR seq set (union)\n",
    "print(\"codon n seq: \", len(indices_cod_set & indices_seq_set)) # nr of seq contained in codon set AND seq set (union)\n",
    "print(\"codon \\ seq: \", len(indices_cod_set - indices_seq_set)) # nr of seq contained in codon set but NOT in seq set\n",
    "print(\"seq \\ codon: \", len(indices_seq_set - indices_cod_set)) # nr of seq contained in seq set but NOT in codon set"
   ]
  },
  {
   "cell_type": "code",
   "execution_count": 16,
   "id": "a690785b-d2b0-4e73-8034-a8bde2e5b3da",
   "metadata": {},
   "outputs": [
    {
     "data": {
      "text/plain": [
       "11279"
      ]
     },
     "execution_count": 16,
     "metadata": {},
     "output_type": "execute_result"
    }
   ],
   "source": [
    "len(ordered_dict)"
   ]
  },
  {
   "cell_type": "code",
   "execution_count": 28,
   "id": "e1f8a270-b5ba-42e0-b3e3-ad150655d404",
   "metadata": {},
   "outputs": [
    {
     "data": {
      "text/html": [
       "<div>\n",
       "<style scoped>\n",
       "    .dataframe tbody tr th:only-of-type {\n",
       "        vertical-align: middle;\n",
       "    }\n",
       "\n",
       "    .dataframe tbody tr th {\n",
       "        vertical-align: top;\n",
       "    }\n",
       "\n",
       "    .dataframe thead th {\n",
       "        text-align: right;\n",
       "    }\n",
       "</style>\n",
       "<table border=\"1\" class=\"dataframe\">\n",
       "  <thead>\n",
       "    <tr style=\"text-align: right;\">\n",
       "      <th></th>\n",
       "      <th>identifier</th>\n",
       "      <th>target_id</th>\n",
       "      <th>index</th>\n",
       "    </tr>\n",
       "  </thead>\n",
       "  <tbody>\n",
       "    <tr>\n",
       "      <th>0</th>\n",
       "      <td>ENST00000263100</td>\n",
       "      <td>1</td>\n",
       "      <td>0</td>\n",
       "    </tr>\n",
       "    <tr>\n",
       "      <th>1</th>\n",
       "      <td>ENST00000263100</td>\n",
       "      <td>7</td>\n",
       "      <td>1</td>\n",
       "    </tr>\n",
       "    <tr>\n",
       "      <th>2</th>\n",
       "      <td>ENST00000263100</td>\n",
       "      <td>12</td>\n",
       "      <td>2</td>\n",
       "    </tr>\n",
       "    <tr>\n",
       "      <th>3</th>\n",
       "      <td>ENST00000263100</td>\n",
       "      <td>13</td>\n",
       "      <td>3</td>\n",
       "    </tr>\n",
       "    <tr>\n",
       "      <th>4</th>\n",
       "      <td>ENST00000263100</td>\n",
       "      <td>14</td>\n",
       "      <td>4</td>\n",
       "    </tr>\n",
       "    <tr>\n",
       "      <th>...</th>\n",
       "      <td>...</td>\n",
       "      <td>...</td>\n",
       "      <td>...</td>\n",
       "    </tr>\n",
       "    <tr>\n",
       "      <th>127668</th>\n",
       "      <td>ENST00000322764</td>\n",
       "      <td>24</td>\n",
       "      <td>182620</td>\n",
       "    </tr>\n",
       "    <tr>\n",
       "      <th>127669</th>\n",
       "      <td>ENST00000322764</td>\n",
       "      <td>25</td>\n",
       "      <td>182621</td>\n",
       "    </tr>\n",
       "    <tr>\n",
       "      <th>127670</th>\n",
       "      <td>ENST00000322764</td>\n",
       "      <td>26</td>\n",
       "      <td>182622</td>\n",
       "    </tr>\n",
       "    <tr>\n",
       "      <th>127671</th>\n",
       "      <td>ENST00000322764</td>\n",
       "      <td>27</td>\n",
       "      <td>182623</td>\n",
       "    </tr>\n",
       "    <tr>\n",
       "      <th>127672</th>\n",
       "      <td>ENST00000322764</td>\n",
       "      <td>28</td>\n",
       "      <td>182624</td>\n",
       "    </tr>\n",
       "  </tbody>\n",
       "</table>\n",
       "<p>127673 rows × 3 columns</p>\n",
       "</div>"
      ],
      "text/plain": [
       "             identifier  target_id   index\n",
       "0       ENST00000263100          1       0\n",
       "1       ENST00000263100          7       1\n",
       "2       ENST00000263100         12       2\n",
       "3       ENST00000263100         13       3\n",
       "4       ENST00000263100         14       4\n",
       "...                 ...        ...     ...\n",
       "127668  ENST00000322764         24  182620\n",
       "127669  ENST00000322764         25  182621\n",
       "127670  ENST00000322764         26  182622\n",
       "127671  ENST00000322764         27  182623\n",
       "127672  ENST00000322764         28  182624\n",
       "\n",
       "[127673 rows x 3 columns]"
      ]
     },
     "execution_count": 28,
     "metadata": {},
     "output_type": "execute_result"
    }
   ],
   "source": [
    "# TODO extract all sequences selected for Phase 1, and check seq len distribution\n",
    "train_indices_codon = pd.read_csv(\"/export/share/krausef99dm/data/data_train/codon_train_2.7k_indices.csv\")\n",
    "train_indices_codon"
   ]
  },
  {
   "cell_type": "code",
   "execution_count": 34,
   "id": "567ede3e-522e-40ad-a3cd-236b492fa2e8",
   "metadata": {},
   "outputs": [],
   "source": [
    "seq_len_train_codon_set = [len(ordered_dict[idx][\"fasta\"]) for idx in list(set(train_indices_codon.identifier))]"
   ]
  },
  {
   "cell_type": "code",
   "execution_count": 41,
   "id": "bb32351e-405c-4b6d-99f4-76f59315142d",
   "metadata": {},
   "outputs": [
    {
     "name": "stdout",
     "output_type": "stream",
     "text": [
      "len 6457\n",
      "max 26829\n"
     ]
    }
   ],
   "source": [
    "print(\"len\", len(seq_len_train_codon_set))\n",
    "print(\"max\", max(seq_len_train_codon_set))"
   ]
  },
  {
   "cell_type": "code",
   "execution_count": 42,
   "id": "c4165f4b-826f-4828-a43d-e1ae85002008",
   "metadata": {},
   "outputs": [
    {
     "data": {
      "text/plain": [
       "201"
      ]
     },
     "execution_count": 42,
     "metadata": {},
     "output_type": "execute_result"
    }
   ],
   "source": [
    "# more than 8100 len\n",
    "sum([1 if x > 8100 else 0 for x in seq_len_train_codon_set])"
   ]
  },
  {
   "cell_type": "code",
   "execution_count": 36,
   "id": "39be9e1f-189e-4c40-b041-d8ada7775037",
   "metadata": {},
   "outputs": [
    {
     "data": {
      "image/png": "[encoded data removed]",
      "text/plain": [
       "<Figure size 640x480 with 1 Axes>"
      ]
     },
     "metadata": {},
     "output_type": "display_data"
    }
   ],
   "source": [
    "plt.hist(seq_len_train_codon_set, bins=30)\n",
    "plt.show()"
   ]
  },
  {
   "cell_type": "markdown",
   "id": "fcd12259-24e3-40e4-94af-3a691121b3b1",
   "metadata": {},
   "source": [
    "### Train data sanity checks"
   ]
  },
  {
   "cell_type": "code",
   "execution_count": 46,
   "id": "bcf09dda-adac-4f0e-86f5-202be02794bd",
   "metadata": {},
   "outputs": [],
   "source": [
    "#with open(\"/export/share/krausef99dm/data/data_train/train_8.1k_data.pkl\", 'rb') as f:\n",
    "    #rna_data, target_ids, targets, targets_bin = pickle.load(f)\n",
    "\n",
    "# Test data\n",
    "with open(\"/export/share/krausef99dm/data/data_test/test_8.1k_data.pkl\", 'rb') as f:\n",
    "    rna_data, target_ids, targets, targets_bin = pickle.load(f)"
   ]
  },
  {
   "cell_type": "code",
   "execution_count": 67,
   "id": "628869ce-25d0-4605-96f1-51cc359e1238",
   "metadata": {},
   "outputs": [
    {
     "data": {
      "text/plain": [
       "31727"
      ]
     },
     "execution_count": 67,
     "metadata": {},
     "output_type": "execute_result"
    }
   ],
   "source": [
    "len(rna_data)"
   ]
  },
  {
   "cell_type": "code",
   "execution_count": 68,
   "id": "84f3fb49-e6ba-456e-bafd-d3c043669108",
   "metadata": {},
   "outputs": [
    {
     "name": "stdout",
     "output_type": "stream",
     "text": [
      "tensor([6, 7, 8, 9])\n",
      "tensor([1, 2, 3, 4, 5])\n",
      "tensor([10, 11, 12])\n",
      "tensor([13, 14, 15, 16, 17, 18, 19])\n"
     ]
    }
   ],
   "source": [
    "print(rna_data[0][0].unique())  # seq (#4)\n",
    "print(rna_data[0][1].unique())  # coding area (#5)\n",
    "print(rna_data[0][2].unique())  # sec struc (#3)\n",
    "print(rna_data[0][3].unique())  # loop type (#7)"
   ]
  },
  {
   "cell_type": "code",
   "execution_count": 69,
   "id": "6c4cb8f0-6ba9-4bf5-b581-2ab23bbec0e5",
   "metadata": {},
   "outputs": [
    {
     "data": {
      "text/plain": [
       "(array([    3,   113,  1299,  5018,  9957, 10597,  4285,   423,    30,\n",
       "            2]),\n",
       " array([0.9085 , 1.74525, 2.582  , 3.41875, 4.2555 , 5.09225, 5.929  ,\n",
       "        6.76575, 7.6025 , 8.43925, 9.276  ]))"
      ]
     },
     "execution_count": 69,
     "metadata": {},
     "output_type": "execute_result"
    }
   ],
   "source": [
    "np.histogram(targets)"
   ]
  },
  {
   "cell_type": "code",
   "execution_count": 70,
   "id": "e7f6bdc5-4ea1-4f57-b936-509c4f79a11d",
   "metadata": {},
   "outputs": [
    {
     "data": {
      "image/png": "[encoded data removed]",
      "text/plain": [
       "<Figure size 640x480 with 1 Axes>"
      ]
     },
     "metadata": {},
     "output_type": "display_data"
    }
   ],
   "source": [
    "# Target distributions\n",
    "plt.hist(targets, bins=30)\n",
    "plt.show()"
   ]
  },
  {
   "cell_type": "code",
   "execution_count": null,
   "id": "2a259bf9-5a93-4c17-a574-a374cc8ddc89",
   "metadata": {},
   "outputs": [],
   "source": [
    "34 x 741 x 24"
   ]
  },
  {
   "cell_type": "code",
   "execution_count": 42,
   "id": "7fa0f3c0-ce95-4745-8d54-ae24b37fb36c",
   "metadata": {},
   "outputs": [
    {
     "data": {
      "text/plain": [
       "1491"
      ]
     },
     "execution_count": 42,
     "metadata": {},
     "output_type": "execute_result"
    }
   ],
   "source": [
    "len(rna_data[1000][0])"
   ]
  },
  {
   "cell_type": "code",
   "execution_count": 71,
   "id": "765553cb-4b79-4194-9e3c-659d43a9aced",
   "metadata": {},
   "outputs": [],
   "source": [
    "# Extract lengths of sequences\n",
    "lengths = [len(rna_data[i][0]) for i in range(len(rna_data))]"
   ]
  },
  {
   "cell_type": "code",
   "execution_count": 73,
   "id": "e8d2520d-3883-4cee-8d5e-0b5959ab5b79",
   "metadata": {},
   "outputs": [
    {
     "data": {
      "image/png": "[encoded data removed]",
      "text/plain": [
       "<Figure size 640x480 with 1 Axes>"
      ]
     },
     "metadata": {},
     "output_type": "display_data"
    }
   ],
   "source": [
    "# Test\n",
    "plt.hist(lengths, bins=30)\n",
    "plt.show()"
   ]
  },
  {
   "cell_type": "code",
   "execution_count": null,
   "id": "7144fb51-f066-4ac5-83db-4ae3105a5806",
   "metadata": {},
   "outputs": [],
   "source": [
    "# Train\n",
    "plt.hist(lengths, bins=30)\n",
    "plt.show()"
   ]
  }
 ],
 "metadata": {
  "kernelspec": {
   "display_name": "Python 3 (ipykernel)",
   "language": "python",
   "name": "python3"
  },
  "language_info": {
   "codemirror_mode": {
    "name": "ipython",
    "version": 3
   },
   "file_extension": ".py",
   "mimetype": "text/x-python",
   "name": "python",
   "nbconvert_exporter": "python",
   "pygments_lexer": "ipython3",
   "version": "3.10.14"
  }
 },
 "nbformat": 4,
 "nbformat_minor": 5
}
