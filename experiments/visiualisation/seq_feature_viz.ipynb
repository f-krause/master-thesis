{
 "cells": [
  {
   "cell_type": "markdown",
   "id": "f44089428d3c4efc",
   "metadata": {},
   "source": "# Sequence Feature Viz for Master Thesis"
  },
  {
   "cell_type": "code",
   "id": "765cb64aca88966",
   "metadata": {
    "ExecuteTime": {
     "end_time": "2024-12-17T14:31:41.676946Z",
     "start_time": "2024-12-17T14:31:40.813081Z"
    }
   },
   "source": [
    "import pandas as pd\n",
    "import numpy as np\n",
    "import matplotlib.pyplot as plt\n",
    "import matplotlib.patches as patches"
   ],
   "outputs": [],
   "execution_count": 1
  },
  {
   "metadata": {},
   "cell_type": "markdown",
   "source": "## Example: Sequence and Structure Visualization",
   "id": "df0c82e4dbca3e01"
  },
  {
   "cell_type": "code",
   "id": "1669108b92bdb18c",
   "metadata": {
    "ExecuteTime": {
     "end_time": "2024-12-17T14:39:16.249197Z",
     "start_time": "2024-12-17T14:39:16.244166Z"
    }
   },
   "source": [
    "OUTPUT_DIR = r\"C:\\Users\\felix.krause\\code\\uni\\master-thesis-text\\assets\\data_viz\"\n",
    "STORE = True"
   ],
   "outputs": [],
   "execution_count": 31
  },
  {
   "cell_type": "code",
   "id": "9da7605d13093200",
   "metadata": {
    "ExecuteTime": {
     "end_time": "2024-12-17T15:24:19.010768Z",
     "start_time": "2024-12-17T15:24:18.390204Z"
    }
   },
   "source": [
    "import matplotlib.pyplot as plt\n",
    "import matplotlib.patches as patches\n",
    "\n",
    "# Define a sample sequence (~36 nt) with a fully nucleotide-based 5' tail and a small 3' tail.\n",
    "# We'll have:\n",
    "# - 5' tail: 3 nucleotides\n",
    "# - Coding region: 30 nucleotides (for a nice multiple of codons)\n",
    "# - 3' tail: 3 nucleotides\n",
    "#\n",
    "# Total = 36 nucleotides\n",
    "\n",
    "five_prime_tail = \"GCGGCCGCU\"                     # 5' tail (3 nt)\n",
    "coding_region = \"ACGUGAUACGUGCUAGGUACUGGAAAUCCA\"  # coding region (30 nt)\n",
    "three_prime_tail = \"UAAAUUUUA\"                    # 3' tail (3 nt)\n",
    "\n",
    "sequence = five_prime_tail + coding_region + three_prime_tail\n",
    "seq_list = list(sequence)\n",
    "\n",
    "# Annotate coding:\n",
    "# Indices: 0-based\n",
    "# 0-2 (5' tail) => '5'\n",
    "# 33-35 (3' tail) => '3'\n",
    "# 3-32 (coding region) => codon frames 0,1,2 repeating\n",
    "coding_annotation = []\n",
    "for i in range(len(seq_list)):\n",
    "    if i < len(five_prime_tail):\n",
    "        coding_annotation.append('5')\n",
    "    elif i >= len(five_prime_tail) + len(coding_region):\n",
    "        coding_annotation.append('3')\n",
    "    else:\n",
    "        frame = (i - 3) % 3\n",
    "        coding_annotation.append(str(frame))\n",
    "\n",
    "# Create a hypothetical structure (dot-bracket) of length 36\n",
    "# Just a pattern for visualization:\n",
    "structure_str   = \"...((((..........)).))........((....))..........\"\n",
    "loop_annotation = \"EEESSSSHHHHHHHHHHSSBSSXXXXXXXXSSHHHHSSEEEEEEEEEE\" \n",
    "structure_list = list(structure_str)\n",
    "\n",
    "# Assign loop types:\n",
    "# For simplicity: '(' or ')' => 'S' (stem), '.' => 'H' (hairpin)\n",
    "\n",
    "# Original rows were: Sequence, Coding, Structure, Loop Type\n",
    "# Flip the order: Loop Type, Structure, Coding, Sequence\n",
    "data = [loop_annotation, structure_list, coding_annotation, seq_list]\n",
    "row_labels = [\"Loop Type\", \"Structure\", \"Coding Area\", \"Sequence\"]\n",
    "\n",
    "fig, ax = plt.subplots(figsize=(15, 2))\n",
    "ax.axis('off')\n",
    "\n",
    "TOKENS = \"ACGU01235.()ESHBX\"\n",
    "# colors = ['#7fc97f', '#beaed4', '#fdc086', '#ffff99', '#386cb0', '#f0027f', '#bf5b17', '#666666', '#1b9e77', '#d95f02', '#7570b3', '#e7298a', '#66a61e', '#e6ab02', '#a6761d', '#666666']\n",
    "cmap = plt.get_cmap('viridis')\n",
    "length = len(TOKENS) + 7\n",
    "colors = [cmap(i / (length - 1)) for i in range(length)]\n",
    "colors = colors[::-1]\n",
    "\n",
    "# We'll define colors similarly as before\n",
    "for row_idx, row_data in enumerate(data):\n",
    "    for col_idx, char in enumerate(row_data):\n",
    "        # Determine color based on row\n",
    "        if row_labels[row_idx] == \"Sequence\":\n",
    "            # Color by nucleotide\n",
    "            color = colors[TOKENS.index(char.upper())]\n",
    "        elif row_labels[row_idx] == \"Coding\":\n",
    "            # Coding annotation: 5 and 3 for tails = yellow, frames = 0,1,2 different colors\n",
    "            color = colors[TOKENS.index(char)]\n",
    "        elif row_labels[row_idx] == \"Structure\":\n",
    "            # '(' or ')' = stems (blue), '.' = loop (white)\n",
    "            if char in '()':\n",
    "                color = \"grey\"\n",
    "            else:\n",
    "                color = 'lightgrey'\n",
    "        else: # Loop Type\n",
    "            # 'S' = stem (green), 'H' = hairpin (orange)\n",
    "            color = colors[TOKENS.index(char)-1]\n",
    "\n",
    "        rect = patches.Rectangle((col_idx, -row_idx), 1, 1, facecolor=color, edgecolor='white')\n",
    "        ax.add_patch(rect)\n",
    "        ax.text(col_idx+0.5, -row_idx+0.5, char, ha='center', va='center', fontsize=10)\n",
    "\n",
    "# Add row labels on the left\n",
    "for i, label in enumerate(row_labels):\n",
    "    ax.text(-0.5, -i+0.5, label, ha='right', va='center', fontsize=10, fontweight='bold')\n",
    "\n",
    "# Adjust plot limits\n",
    "ax.set_xlim(-1, len(seq_list)+1)\n",
    "ax.set_ylim(-len(data), 1)\n",
    "ax.invert_yaxis()\n",
    "\n",
    "plt.tight_layout()\n",
    "# store as svg\n",
    "if STORE:\n",
    "    plt.savefig(OUTPUT_DIR + \"/example_sequence_struc.pdf\", format=\"pdf\", bbox_inches=\"tight\")\n",
    "    \n",
    "plt.show()"
   ],
   "outputs": [
    {
     "data": {
      "text/plain": [
       "<Figure size 1500x200 with 1 Axes>"
      ],
      "image/png": "[encoded data removed]"
     },
     "metadata": {},
     "output_type": "display_data"
    }
   ],
   "execution_count": 34
  }
 ],
 "metadata": {
  "kernelspec": {
   "display_name": "Python 3 (ipykernel)",
   "language": "python",
   "name": "python3"
  },
  "language_info": {
   "codemirror_mode": {
    "name": "ipython",
    "version": 3
   },
   "file_extension": ".py",
   "mimetype": "text/x-python",
   "name": "python",
   "nbconvert_exporter": "python",
   "pygments_lexer": "ipython3",
   "version": "3.9.19"
  }
 },
 "nbformat": 4,
 "nbformat_minor": 5
}
