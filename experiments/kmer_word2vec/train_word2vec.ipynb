{
 "cells": [
  {
   "cell_type": "markdown",
   "id": "1694b9cec3c00fe4",
   "metadata": {},
   "source": [
    "# Train word2vec"
   ]
  },
  {
   "cell_type": "code",
   "execution_count": 30,
   "id": "d89d48c6d8c0f8d0",
   "metadata": {
    "ExecuteTime": {
     "end_time": "2025-02-03T12:53:59.875586Z",
     "start_time": "2025-02-03T12:53:59.712762Z"
    }
   },
   "outputs": [],
   "source": [
    "import pickle\n",
    "import numpy as np\n",
    "import pandas as pd\n",
    "\n",
    "from utils.knowledge_db import TOKENS"
   ]
  },
  {
   "cell_type": "code",
   "execution_count": 39,
   "id": "d77b967308eaee44",
   "metadata": {
    "ExecuteTime": {
     "end_time": "2025-02-03T12:54:02.920375Z",
     "start_time": "2025-02-03T12:53:59.882591Z"
    }
   },
   "outputs": [],
   "source": [
    "#with open(r\"C:\\Users\\Felix\\code\\uni\\UniVie\\master-thesis\\data\\train_data\\dev_train_9.0k_data.pkl\", 'rb') as f:\n",
    "with open(\"/export/share/krausef99dm/data/data_test/test_9.0k_data.pkl\", 'rb') as f:\n",
    "#with open(\"/export/share/krausef99dm/data/data_train/train_9.0k_data.pkl\", 'rb') as f:\n",
    "    rna_data, target_ids, targets, targets_bin = pickle.load(f)"
   ]
  },
  {
   "cell_type": "code",
   "execution_count": 24,
   "id": "62b951c3-fe26-4a51-a859-c99452306f69",
   "metadata": {},
   "outputs": [],
   "source": [
    "# Load ptr data\n",
    "with open(\"/export/share/krausef99dm/data/ptr_data/ptr_data.pkl\", 'rb') as f:\n",
    "    raw_data = pickle.load(f)"
   ]
  },
  {
   "cell_type": "code",
   "execution_count": 31,
   "id": "4b73d8e9-5e7c-46a8-b663-7098a732769c",
   "metadata": {},
   "outputs": [],
   "source": [
    "indices_seq_train = pd.read_csv(\"/export/share/krausef99dm/data/data_train/train_9.0k_indices.csv\")"
   ]
  },
  {
   "cell_type": "code",
   "execution_count": 40,
   "id": "7b6c3183-e79f-4481-8c03-c0314132a0b4",
   "metadata": {},
   "outputs": [
    {
     "data": {
      "text/plain": [
       "26829"
      ]
     },
     "execution_count": 40,
     "metadata": {},
     "output_type": "execute_result"
    }
   ],
   "source": [
    "len(rna_data)"
   ]
  },
  {
   "cell_type": "code",
   "execution_count": 21,
   "id": "c3ef013c1606a560",
   "metadata": {
    "ExecuteTime": {
     "end_time": "2025-02-03T12:54:02.936035Z",
     "start_time": "2025-02-03T12:54:02.922675Z"
    }
   },
   "outputs": [
    {
     "data": {
      "text/plain": [
       "torch.Size([3382, 4])"
      ]
     },
     "execution_count": 21,
     "metadata": {},
     "output_type": "execute_result"
    }
   ],
   "source": [
    "rna_data[0].shape"
   ]
  },
  {
   "cell_type": "markdown",
   "id": "d4ab132a15808a17",
   "metadata": {},
   "source": [
    "## Sequence only"
   ]
  },
  {
   "cell_type": "markdown",
   "id": "31959c66-a3e6-4a20-ac8c-0c3784752d87",
   "metadata": {},
   "source": [
    "### Raw ptr_data"
   ]
  },
  {
   "cell_type": "code",
   "execution_count": 60,
   "id": "b436b66f-5a61-410c-bf0f-a3ca828395f0",
   "metadata": {},
   "outputs": [],
   "source": [
    "seq_kmers = []\n",
    "for idx in indices_seq_train.identifier.unique():\n",
    "    seq = raw_data[idx][\"fasta\"]\n",
    "    seq_kmers = [\"\".join(seq[i:i+k]) for i in range(len(list(seq)) - k + 1)]\n",
    "    seq_kmers.append(seq_kmers)"
   ]
  },
  {
   "cell_type": "code",
   "execution_count": 67,
   "id": "94928815-eefa-4b65-b454-94cde4c0a279",
   "metadata": {},
   "outputs": [
    {
     "data": {
      "text/plain": [
       "6324"
      ]
     },
     "execution_count": 67,
     "metadata": {},
     "output_type": "execute_result"
    }
   ],
   "source": [
    "len(seq_kmers)"
   ]
  },
  {
   "cell_type": "markdown",
   "id": "fbab1023-4118-4eab-8884-6634db1dd20b",
   "metadata": {},
   "source": [
    "### If using encoded rna_data"
   ]
  },
  {
   "cell_type": "code",
   "execution_count": 41,
   "id": "ee229231ef908f6f",
   "metadata": {
    "ExecuteTime": {
     "end_time": "2025-02-03T12:54:02.966513Z",
     "start_time": "2025-02-03T12:54:02.952302Z"
    }
   },
   "outputs": [],
   "source": [
    "# remove all columns except the sequence\n",
    "rna_data = [rna_data[i][:, 0] for i in range(len(rna_data))]"
   ]
  },
  {
   "cell_type": "code",
   "execution_count": 42,
   "id": "72ba8a5b2315b231",
   "metadata": {
    "ExecuteTime": {
     "end_time": "2025-02-03T12:54:02.982538Z",
     "start_time": "2025-02-03T12:54:02.969905Z"
    }
   },
   "outputs": [],
   "source": [
    "# build dictionary to map integers to tokens\n",
    "int2token = {i+1: token for i, token in enumerate(TOKENS)}"
   ]
  },
  {
   "cell_type": "code",
   "execution_count": 43,
   "id": "3a87676372ad012c",
   "metadata": {
    "ExecuteTime": {
     "end_time": "2025-02-03T12:54:02.998241Z",
     "start_time": "2025-02-03T12:54:02.984676Z"
    }
   },
   "outputs": [],
   "source": [
    "def generate_kmers(rna_data, k=3):\n",
    "    rna_data_kmers = []\n",
    "    for seq in rna_data:\n",
    "        seq = seq.tolist()\n",
    "        seq = [int2token.get(i) for i in seq]\n",
    "        seq_kmers = [\"\".join(seq[i:i+k]) for i in range(len(seq) - k + 1)]\n",
    "        rna_data_kmers.append(seq_kmers)\n",
    "        \n",
    "    return rna_data_kmers"
   ]
  },
  {
   "cell_type": "code",
   "execution_count": 44,
   "id": "eda265f88f1305da",
   "metadata": {
    "ExecuteTime": {
     "end_time": "2025-02-03T12:54:04.163143Z",
     "start_time": "2025-02-03T12:54:03.000238Z"
    }
   },
   "outputs": [],
   "source": [
    "seq_kmers = generate_kmers(rna_data)"
   ]
  },
  {
   "cell_type": "markdown",
   "id": "852aad96-6509-40a6-bd51-8ae7e170bd53",
   "metadata": {},
   "source": [
    "### Train word2vec"
   ]
  },
  {
   "cell_type": "code",
   "execution_count": 68,
   "id": "20d7cbc8e74190c5",
   "metadata": {
    "ExecuteTime": {
     "end_time": "2025-02-03T13:07:40.128403Z",
     "start_time": "2025-02-03T13:07:36.378537Z"
    }
   },
   "outputs": [],
   "source": [
    "import gensim\n",
    "\n",
    "embedding_size = 64\n",
    "\n",
    "model = gensim.models.Word2Vec(seq_kmers, vector_size=embedding_size, window=12, min_count=0, workers=4)"
   ]
  },
  {
   "cell_type": "code",
   "execution_count": 69,
   "id": "cf5735af6a73a96a",
   "metadata": {
    "ExecuteTime": {
     "end_time": "2025-02-03T13:34:04.309305Z",
     "start_time": "2025-02-03T13:34:04.297739Z"
    }
   },
   "outputs": [],
   "source": [
    "import torch\n",
    "import torch.nn as nn\n",
    "\n",
    "# Get vocabulary and embeddings\n",
    "vocab = list(model.wv.index_to_key)\n",
    "embedding_matrix = torch.tensor(np.array([model.wv[word] for word in vocab], dtype=np.float32))\n",
    "\n",
    "# Create k-mer to index mapping\n",
    "kmer_to_index = {kmer: idx for idx, kmer in enumerate(vocab)}"
   ]
  },
  {
   "cell_type": "code",
   "execution_count": 72,
   "id": "a146408f-ae3a-4c97-b65f-cb0e3dfdce52",
   "metadata": {},
   "outputs": [
    {
     "data": {
      "text/plain": [
       "{'TTT': 0,\n",
       " 'AAA': 1,\n",
       " 'CTG': 2,\n",
       " 'CAG': 3,\n",
       " 'TGG': 4,\n",
       " 'AGA': 5,\n",
       " 'CCT': 6,\n",
       " 'CCA': 7,\n",
       " 'GAA': 8,\n",
       " 'AAG': 9,\n",
       " 'GGA': 10,\n",
       " 'GAG': 11,\n",
       " 'CCC': 12,\n",
       " 'AGG': 13,\n",
       " 'GCC': 14,\n",
       " 'TGA': 15,\n",
       " 'TGT': 16,\n",
       " 'TCT': 17,\n",
       " 'AGC': 18,\n",
       " 'GGC': 19,\n",
       " 'CTT': 20,\n",
       " 'GCT': 21,\n",
       " 'GGG': 22,\n",
       " 'TGC': 23,\n",
       " 'CTC': 24,\n",
       " 'GTG': 25,\n",
       " 'ATG': 26,\n",
       " 'TTC': 27,\n",
       " 'ATT': 28,\n",
       " 'TCC': 29,\n",
       " 'TCA': 30,\n",
       " 'TTG': 31,\n",
       " 'ACA': 32,\n",
       " 'AAT': 33,\n",
       " 'GCA': 34,\n",
       " 'CAA': 35,\n",
       " 'CAT': 36,\n",
       " 'CAC': 37,\n",
       " 'AGT': 38,\n",
       " 'ACT': 39,\n",
       " 'ACC': 40,\n",
       " 'TTA': 41,\n",
       " 'TAA': 42,\n",
       " 'TAT': 43,\n",
       " 'GAT': 44,\n",
       " 'AAC': 45,\n",
       " 'GTT': 46,\n",
       " 'GAC': 47,\n",
       " 'ATA': 48,\n",
       " 'ATC': 49,\n",
       " 'GGT': 50,\n",
       " 'GTC': 51,\n",
       " 'CTA': 52,\n",
       " 'TAC': 53,\n",
       " 'GTA': 54,\n",
       " 'CGG': 55,\n",
       " 'CCG': 56,\n",
       " 'TAG': 57,\n",
       " 'GCG': 58,\n",
       " 'CGC': 59,\n",
       " 'CGA': 60,\n",
       " 'ACG': 61,\n",
       " 'CGT': 62,\n",
       " 'TCG': 63}"
      ]
     },
     "execution_count": 72,
     "metadata": {},
     "output_type": "execute_result"
    }
   ],
   "source": [
    "kmer_to_index"
   ]
  },
  {
   "cell_type": "code",
   "execution_count": 70,
   "id": "dc3b77fc05bbb849",
   "metadata": {
    "ExecuteTime": {
     "end_time": "2025-02-03T13:34:22.409477Z",
     "start_time": "2025-02-03T13:34:22.398588Z"
    }
   },
   "outputs": [],
   "source": [
    "# Store model\n",
    "model_data = {\"kmer_to_index\": kmer_to_index, \"embedding_matrix\": embedding_matrix}\n",
    "with open(\"/export/share/krausef99dm/data/w2v_model_data.pkl\", 'wb') as f:\n",
    "    pickle.dump(model_data, f)"
   ]
  },
  {
   "cell_type": "code",
   "execution_count": null,
   "id": "dc2ede1a8ba4b9b6",
   "metadata": {},
   "outputs": [],
   "source": [
    "# Load model\n",
    "#with open(\"/export/share/krausef99dm/data/w2v_model_data_dev.pkl\", 'rb') as f:\n",
    "    #model_data = pickle.load(f)"
   ]
  },
  {
   "cell_type": "markdown",
   "id": "975b80bb-ecbf-429d-bd8f-be0ef1911189",
   "metadata": {},
   "source": [
    "### Apply embeddings"
   ]
  },
  {
   "cell_type": "code",
   "execution_count": 16,
   "id": "83e998c437d0004e",
   "metadata": {
    "ExecuteTime": {
     "end_time": "2025-02-03T13:32:49.612156Z",
     "start_time": "2025-02-03T13:32:49.604991Z"
    }
   },
   "outputs": [],
   "source": [
    "class KMerEmbedding(nn.Module):\n",
    "    def __init__(self, embedding_matrix):\n",
    "        super().__init__()\n",
    "        num_kmers, embedding_dim = embedding_matrix.shape\n",
    "        self.embedding = nn.Embedding(num_kmers, embedding_dim)\n",
    "        self.embedding.weight.data.copy_(embedding_matrix)\n",
    "        self.embedding.weight.requires_grad = False  # Freeze embeddings\n",
    "\n",
    "    def forward(self, kmer_indices):\n",
    "        return self.embedding(kmer_indices)"
   ]
  },
  {
   "cell_type": "code",
   "execution_count": 17,
   "id": "ebc0e162e4c41e2a",
   "metadata": {
    "ExecuteTime": {
     "end_time": "2025-02-03T13:14:30.340501Z",
     "start_time": "2025-02-03T13:14:30.323460Z"
    }
   },
   "outputs": [],
   "source": [
    "kmer_embedding = KMerEmbedding(embedding_matrix)"
   ]
  },
  {
   "cell_type": "code",
   "execution_count": 18,
   "id": "b05982e5700868e9",
   "metadata": {
    "ExecuteTime": {
     "end_time": "2025-02-03T13:14:59.323257Z",
     "start_time": "2025-02-03T13:14:59.303249Z"
    }
   },
   "outputs": [
    {
     "data": {
      "text/plain": [
       "tensor([[-1.3562, -1.1731, -3.3002,  ...,  3.7479, -1.8328, -0.3770],\n",
       "        [-4.9456, -1.6875, -0.2400,  ..., -6.3022, -0.0254,  1.1563],\n",
       "        [-0.3298, -1.6727, -3.6700,  ..., -4.2719, -0.5685, -2.8513],\n",
       "        ...,\n",
       "        [ 2.3797, -3.1560,  1.5470,  ...,  2.8186,  1.8949,  4.6125],\n",
       "        [ 1.2922,  2.6484, -4.6266,  ...,  2.2645,  1.0404,  0.3241],\n",
       "        [-1.3976, -5.5828, -0.2735,  ..., -0.4360,  0.9395,  0.5901]])"
      ]
     },
     "execution_count": 18,
     "metadata": {},
     "output_type": "execute_result"
    }
   ],
   "source": [
    "# Test embedding\n",
    "kmer_indices = torch.tensor([kmer_to_index[kmer] for kmer in seq_kmers[0]], dtype=torch.long)\n",
    "kmer_embedding(kmer_indices)"
   ]
  },
  {
   "cell_type": "code",
   "execution_count": null,
   "id": "26d136108a7001e3",
   "metadata": {},
   "outputs": [],
   "source": []
  },
  {
   "cell_type": "markdown",
   "id": "e0f17363b68092cc",
   "metadata": {},
   "source": [
    "## Embeddings for all features"
   ]
  },
  {
   "cell_type": "code",
   "execution_count": null,
   "id": "43e5173a6efc04a5",
   "metadata": {},
   "outputs": [],
   "source": []
  }
 ],
 "metadata": {
  "kernelspec": {
   "display_name": "Python 3 (ipykernel)",
   "language": "python",
   "name": "python3"
  },
  "language_info": {
   "codemirror_mode": {
    "name": "ipython",
    "version": 3
   },
   "file_extension": ".py",
   "mimetype": "text/x-python",
   "name": "python",
   "nbconvert_exporter": "python",
   "pygments_lexer": "ipython3",
   "version": "3.10.14"
  }
 },
 "nbformat": 4,
 "nbformat_minor": 5
}
