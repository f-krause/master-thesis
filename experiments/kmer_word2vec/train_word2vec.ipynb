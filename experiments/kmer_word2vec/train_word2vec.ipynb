{
 "cells": [
  {
   "metadata": {},
   "cell_type": "markdown",
   "source": "# Train word2vec",
   "id": "1694b9cec3c00fe4"
  },
  {
   "metadata": {
    "ExecuteTime": {
     "end_time": "2025-02-03T12:53:59.875586Z",
     "start_time": "2025-02-03T12:53:59.712762Z"
    }
   },
   "cell_type": "code",
   "source": [
    "import pickle\n",
    "import numpy as np\n",
    "\n",
    "from src.knowledge_db import TOKENS"
   ],
   "id": "d89d48c6d8c0f8d0",
   "outputs": [],
   "execution_count": 2
  },
  {
   "metadata": {
    "ExecuteTime": {
     "end_time": "2025-02-03T12:54:02.920375Z",
     "start_time": "2025-02-03T12:53:59.882591Z"
    }
   },
   "cell_type": "code",
   "source": [
    "# with open(\"/export/share/krausef99dm/data/data_test/test_9.0k_data.pkl\", 'rb') as f:\n",
    "with open(r\"C:\\Users\\Felix\\code\\uni\\UniVie\\master-thesis\\data\\train_data\\dev_train_9.0k_data.pkl\", 'rb') as f:\n",
    "    rna_data, target_ids, targets, targets_bin = pickle.load(f)"
   ],
   "id": "d77b967308eaee44",
   "outputs": [],
   "execution_count": 3
  },
  {
   "metadata": {
    "ExecuteTime": {
     "end_time": "2025-02-03T12:54:02.936035Z",
     "start_time": "2025-02-03T12:54:02.922675Z"
    }
   },
   "cell_type": "code",
   "source": "rna_data[0].shape",
   "id": "c3ef013c1606a560",
   "outputs": [
    {
     "data": {
      "text/plain": [
       "torch.Size([3382, 4])"
      ]
     },
     "execution_count": 4,
     "metadata": {},
     "output_type": "execute_result"
    }
   ],
   "execution_count": 4
  },
  {
   "metadata": {
    "ExecuteTime": {
     "end_time": "2025-02-03T13:08:17.209630Z",
     "start_time": "2025-02-03T13:08:17.190697Z"
    }
   },
   "cell_type": "code",
   "source": "rna_data[0].shape",
   "id": "1bcddc552b2d0c93",
   "outputs": [
    {
     "data": {
      "text/plain": [
       "torch.Size([3382])"
      ]
     },
     "execution_count": 36,
     "metadata": {},
     "output_type": "execute_result"
    }
   ],
   "execution_count": 36
  },
  {
   "metadata": {},
   "cell_type": "markdown",
   "source": "## Sequence only",
   "id": "d4ab132a15808a17"
  },
  {
   "metadata": {
    "ExecuteTime": {
     "end_time": "2025-02-03T12:54:02.951302Z",
     "start_time": "2025-02-03T12:54:02.936988Z"
    }
   },
   "cell_type": "code",
   "source": "rna_data[0][:, 0].unique()",
   "id": "e3f857631c21430",
   "outputs": [
    {
     "data": {
      "text/plain": [
       "tensor([6, 7, 8, 9], dtype=torch.int8)"
      ]
     },
     "execution_count": 5,
     "metadata": {},
     "output_type": "execute_result"
    }
   ],
   "execution_count": 5
  },
  {
   "metadata": {
    "ExecuteTime": {
     "end_time": "2025-02-03T12:54:02.966513Z",
     "start_time": "2025-02-03T12:54:02.952302Z"
    }
   },
   "cell_type": "code",
   "source": [
    "# remove all columns except the sequence\n",
    "rna_data = [rna_data[i][:, 0] for i in range(len(rna_data))]"
   ],
   "id": "ee229231ef908f6f",
   "outputs": [],
   "execution_count": 6
  },
  {
   "metadata": {
    "ExecuteTime": {
     "end_time": "2025-02-03T12:54:02.982538Z",
     "start_time": "2025-02-03T12:54:02.969905Z"
    }
   },
   "cell_type": "code",
   "source": [
    "# build dictionary to map integers to tokens\n",
    "int2token = {i+1: token for i, token in enumerate(TOKENS)}"
   ],
   "id": "72ba8a5b2315b231",
   "outputs": [],
   "execution_count": 7
  },
  {
   "metadata": {
    "ExecuteTime": {
     "end_time": "2025-02-03T12:54:02.998241Z",
     "start_time": "2025-02-03T12:54:02.984676Z"
    }
   },
   "cell_type": "code",
   "source": [
    "def generate_kmers(rna_data, k=3):\n",
    "    rna_data_kmers = []\n",
    "    for seq in rna_data:\n",
    "        seq = seq.tolist()\n",
    "        seq = [int2token.get(i) for i in seq]\n",
    "        seq_kmers = [\"\".join(seq[i:i+k]) for i in range(len(seq) - k + 1)]\n",
    "        rna_data_kmers.append(seq_kmers)\n",
    "        \n",
    "    return rna_data_kmers"
   ],
   "id": "3a87676372ad012c",
   "outputs": [],
   "execution_count": 8
  },
  {
   "metadata": {
    "ExecuteTime": {
     "end_time": "2025-02-03T12:54:04.163143Z",
     "start_time": "2025-02-03T12:54:03.000238Z"
    }
   },
   "cell_type": "code",
   "source": "seq_kmers = generate_kmers(rna_data)",
   "id": "eda265f88f1305da",
   "outputs": [],
   "execution_count": 9
  },
  {
   "metadata": {
    "ExecuteTime": {
     "end_time": "2025-02-03T13:07:40.128403Z",
     "start_time": "2025-02-03T13:07:36.378537Z"
    }
   },
   "cell_type": "code",
   "source": [
    "import gensim\n",
    "\n",
    "embedding_size = 64\n",
    "\n",
    "model = gensim.models.Word2Vec(seq_kmers, vector_size=embedding_size, window=12, min_count=0, workers=4)"
   ],
   "id": "20d7cbc8e74190c5",
   "outputs": [],
   "execution_count": 33
  },
  {
   "metadata": {
    "ExecuteTime": {
     "end_time": "2025-02-03T13:34:04.309305Z",
     "start_time": "2025-02-03T13:34:04.297739Z"
    }
   },
   "cell_type": "code",
   "source": [
    "import torch\n",
    "import torch.nn as nn\n",
    "\n",
    "# Get vocabulary and embeddings\n",
    "vocab = list(model.wv.index_to_key)\n",
    "embedding_matrix = torch.tensor(np.array([model.wv[word] for word in vocab], dtype=np.float32))\n",
    "\n",
    "# Create k-mer to index mapping\n",
    "kmer_to_index = {kmer: idx for idx, kmer in enumerate(vocab)}"
   ],
   "id": "cf5735af6a73a96a",
   "outputs": [],
   "execution_count": 59
  },
  {
   "metadata": {
    "ExecuteTime": {
     "end_time": "2025-02-03T13:34:22.409477Z",
     "start_time": "2025-02-03T13:34:22.398588Z"
    }
   },
   "cell_type": "code",
   "source": [
    "# Store model\n",
    "model_data = {\"kmer_to_index\": kmer_to_index, \"embedding_matrix\": embedding_matrix}\n",
    "with open(\"../data/w2v_model_data.pkl\", 'wb') as f:\n",
    "    pickle.dump(model_data, f)"
   ],
   "id": "dc3b77fc05bbb849",
   "outputs": [],
   "execution_count": 62
  },
  {
   "metadata": {},
   "cell_type": "code",
   "outputs": [],
   "execution_count": null,
   "source": [
    "# Load model\n",
    "with open(\"../data/w2v_model_data.pkl\", 'rb') as f:\n",
    "    model_data = pickle.load(f)"
   ],
   "id": "dc2ede1a8ba4b9b6"
  },
  {
   "metadata": {
    "ExecuteTime": {
     "end_time": "2025-02-03T13:32:49.612156Z",
     "start_time": "2025-02-03T13:32:49.604991Z"
    }
   },
   "cell_type": "code",
   "source": [
    "class KMerEmbedding(nn.Module):\n",
    "    def __init__(self, embedding_matrix):\n",
    "        super().__init__()\n",
    "        num_kmers, embedding_dim = embedding_matrix.shape\n",
    "        self.embedding = nn.Embedding(num_kmers, embedding_dim)\n",
    "        self.embedding.weight.data.copy_(embedding_matrix)\n",
    "        self.embedding.weight.requires_grad = False  # Freeze embeddings\n",
    "\n",
    "    def forward(self, kmer_indices):\n",
    "        return self.embedding(kmer_indices)"
   ],
   "id": "83e998c437d0004e",
   "outputs": [],
   "execution_count": 58
  },
  {
   "metadata": {
    "ExecuteTime": {
     "end_time": "2025-02-03T13:14:30.340501Z",
     "start_time": "2025-02-03T13:14:30.323460Z"
    }
   },
   "cell_type": "code",
   "source": "kmer_embedding = KMerEmbedding(embedding_matrix)",
   "id": "ebc0e162e4c41e2a",
   "outputs": [],
   "execution_count": 47
  },
  {
   "metadata": {
    "ExecuteTime": {
     "end_time": "2025-02-03T13:14:59.323257Z",
     "start_time": "2025-02-03T13:14:59.303249Z"
    }
   },
   "cell_type": "code",
   "source": [
    "# Test embedding\n",
    "kmer_indices = torch.tensor([kmer_to_index[kmer] for kmer in seq_kmers[0]], dtype=torch.long)\n",
    "kmer_embedding(kmer_indices)"
   ],
   "id": "b05982e5700868e9",
   "outputs": [
    {
     "data": {
      "text/plain": [
       "tensor([[ 0.7513,  0.2407, -1.6712,  ...,  0.4651, -0.4699, -0.2740],\n",
       "        [-0.0577, -0.8098,  1.9476,  ...,  1.3473,  0.2246,  0.7454],\n",
       "        [ 0.5385, -2.2471, -0.7330,  ..., -3.2796, -1.5477,  0.4677],\n",
       "        ...,\n",
       "        [-0.9429, -0.8822,  0.0987,  ..., -1.2557, -1.4814,  2.9707],\n",
       "        [-1.1262, -1.8452, -1.2386,  ...,  2.5371, -2.4415, -1.7634],\n",
       "        [-0.7141, -0.5241,  0.8825,  ...,  2.6616, -0.5948,  0.2421]])"
      ]
     },
     "execution_count": 50,
     "metadata": {},
     "output_type": "execute_result"
    }
   ],
   "execution_count": 50
  },
  {
   "metadata": {},
   "cell_type": "code",
   "outputs": [],
   "execution_count": null,
   "source": "",
   "id": "26d136108a7001e3"
  },
  {
   "metadata": {},
   "cell_type": "markdown",
   "source": "## Embeddings for all features",
   "id": "e0f17363b68092cc"
  },
  {
   "metadata": {},
   "cell_type": "code",
   "outputs": [],
   "execution_count": null,
   "source": "",
   "id": "43e5173a6efc04a5"
  }
 ],
 "metadata": {
  "kernelspec": {
   "display_name": "Python 3",
   "language": "python",
   "name": "python3"
  },
  "language_info": {
   "codemirror_mode": {
    "name": "ipython",
    "version": 2
   },
   "file_extension": ".py",
   "mimetype": "text/x-python",
   "name": "python",
   "nbconvert_exporter": "python",
   "pygments_lexer": "ipython2",
   "version": "2.7.6"
  }
 },
 "nbformat": 4,
 "nbformat_minor": 5
}
