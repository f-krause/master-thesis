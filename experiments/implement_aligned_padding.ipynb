{
 "cells": [
  {
   "cell_type": "code",
   "execution_count": 1,
   "id": "7567542e-15e6-4140-85d3-056ffd1f7a11",
   "metadata": {},
   "outputs": [],
   "source": [
    "import pickle\n",
    "import torch\n",
    "import numpy as np\n",
    "import random"
   ]
  },
  {
   "cell_type": "code",
   "execution_count": 2,
   "id": "2e73a4a2-5d2d-438b-9cd0-34af0db7d433",
   "metadata": {},
   "outputs": [],
   "source": [
    "#path_seq = \"/export/share/krausef99dm/data/data_train/train_9.0k_data.pkl\"\n",
    "#path_seq = \"/export/share/krausef99dm/data/data_test/val_9.0k_data.pkl\"\n",
    "path_seq = \"/export/share/krausef99dm/data/data_test/test_9.0k_data.pkl\""
   ]
  },
  {
   "cell_type": "code",
   "execution_count": 3,
   "id": "75403cb7-74f4-4938-ba36-e800c07ceac2",
   "metadata": {},
   "outputs": [],
   "source": [
    "# load data\n",
    "with open(path_seq, 'rb') as f:\n",
    "    rna_data, tissue_ids, targets, targets_bin =  pickle.load(f)"
   ]
  },
  {
   "cell_type": "code",
   "execution_count": 4,
   "id": "37e38c99-2c9f-41e2-84eb-67cd998ac089",
   "metadata": {},
   "outputs": [],
   "source": [
    "def compute_utr_5_lengths(rna_data):\n",
    "    seq_meta = [t[:, 1] for t in rna_data]\n",
    "    \n",
    "    utr_5_lengths = []\n",
    "    for t in seq_meta:\n",
    "        unique_vals, counts = torch.unique(t, return_counts=True)\n",
    "        result = dict(zip(unique_vals.tolist(), counts.tolist()))\n",
    "        try:\n",
    "            utr_5_lengths.append(result[5])\n",
    "        except KeyError:\n",
    "            utr_5_lengths.append(0)\n",
    "    return utr_5_lengths"
   ]
  },
  {
   "cell_type": "code",
   "execution_count": 5,
   "id": "bc7eb364-4b9f-4745-8130-b8aeac81f806",
   "metadata": {},
   "outputs": [],
   "source": [
    "max_seq_len = 9000\n",
    "utr_5_lengths = compute_utr_5_lengths(rna_data)\n",
    "max_utr_5_len = max(utr_5_lengths)\n",
    "\n",
    "# TODO identify global max utr_5_len\n",
    "# from train: 4255\n",
    "# from val: 3447\n",
    "# from test: 4695\n",
    "max_utr_5_len = 4695"
   ]
  },
  {
   "cell_type": "code",
   "execution_count": 6,
   "id": "80b117be-b3d4-4b5e-b285-e164d30c99e4",
   "metadata": {},
   "outputs": [],
   "source": [
    "# Check longest sample\n",
    "#idx = utr_5_lengths.index(max_utr_5_len)\n",
    "#print(\"len of sequence with longest 5' utr\", len(rna_data[idx]))\n",
    "#torch.unique(rna_data[idx][:, 1], return_counts=True)"
   ]
  },
  {
   "cell_type": "code",
   "execution_count": 7,
   "id": "ca1d9fda-fe84-46f6-a060-2b0ffdaff9a3",
   "metadata": {},
   "outputs": [],
   "source": [
    "random.seed(2)\n",
    "rna_data_sample = random.sample(rna_data, k=4)\n",
    "utr_5_lengths = compute_utr_5_lengths(rna_data_sample)"
   ]
  },
  {
   "cell_type": "code",
   "execution_count": 8,
   "id": "09a57c8f-7041-46e4-b700-2c3e793b07b5",
   "metadata": {},
   "outputs": [],
   "source": [
    "front_pads = [max_utr_5_len - l for l in utr_5_lengths]"
   ]
  },
  {
   "cell_type": "code",
   "execution_count": 9,
   "id": "8a41b3b8-211d-41be-aff7-86b0e7d8c6c2",
   "metadata": {},
   "outputs": [
    {
     "data": {
      "text/plain": [
       "[4595, 4528, 4199, 4531]"
      ]
     },
     "execution_count": 9,
     "metadata": {},
     "output_type": "execute_result"
    }
   ],
   "source": [
    "front_pads"
   ]
  },
  {
   "cell_type": "code",
   "execution_count": 10,
   "id": "ad2d3c77-22b8-42dc-a606-518845188a38",
   "metadata": {},
   "outputs": [],
   "source": [
    "def aug_align_sequences(rna_data, max_utr_5_len):\n",
    "    seq_meta = [t[:, 1] for t in rna_data]\n",
    "    \n",
    "    utr_5_lengths = []\n",
    "    count_seq_without_utr = 0\n",
    "    for t in seq_meta:\n",
    "        unique_vals, counts = torch.unique(t, return_counts=True)\n",
    "        result = dict(zip(unique_vals.tolist(), counts.tolist()))\n",
    "        try:\n",
    "            utr_5_lengths.append(result[5])\n",
    "        except KeyError:\n",
    "            utr_5_lengths.append(0)\n",
    "            count_seq_without_utr += 1\n",
    "\n",
    "    print(\"# seq without utr:\", count_seq_without_utr)\n",
    "    \n",
    "    front_pads = [max_utr_5_len - l for l in utr_5_lengths]\n",
    "    \n",
    "    padded_rna_data = [\n",
    "        torch.cat([torch.zeros(pad, t.size(1), dtype=t.dtype), t], dim=0)\n",
    "        for t, pad in zip(rna_data, front_pads)\n",
    "    ]\n",
    "    return padded_rna_data"
   ]
  },
  {
   "cell_type": "code",
   "execution_count": 11,
   "id": "d5d124fb-f73b-47a3-8d42-1288384e0f52",
   "metadata": {},
   "outputs": [
    {
     "name": "stdout",
     "output_type": "stream",
     "text": [
      "# seq without utr: 32\n"
     ]
    }
   ],
   "source": [
    "padded_rna_data = aug_align_sequences(rna_data, max_utr_5_len)"
   ]
  },
  {
   "cell_type": "code",
   "execution_count": 12,
   "id": "35332f1d-b88d-4bd3-869e-f08f85ac4a4e",
   "metadata": {},
   "outputs": [
    {
     "data": {
      "text/plain": [
       "13358"
      ]
     },
     "execution_count": 12,
     "metadata": {},
     "output_type": "execute_result"
    }
   ],
   "source": [
    "# TODO Investigate further NEW max seq len\n",
    "# from train: 11535\n",
    "# from val: 12164\n",
    "# from test: 13358\n",
    "\n",
    "# when using max utr5 length of all datasets\n",
    "# from train: 13637\n",
    "# from val: 13412\n",
    "# from test: 13358\n",
    "\n",
    "max([len(t) for t in padded_rna_data])"
   ]
  },
  {
   "cell_type": "code",
   "execution_count": 16,
   "id": "86d05043-f2d8-4706-b987-798517331d0f",
   "metadata": {},
   "outputs": [
    {
     "data": {
      "text/plain": [
       "13637"
      ]
     },
     "execution_count": 16,
     "metadata": {},
     "output_type": "execute_result"
    }
   ],
   "source": [
    "max([13637, 13412, 13358])"
   ]
  },
  {
   "cell_type": "code",
   "execution_count": 13,
   "id": "f7b9b23e-1646-44b6-a17a-201695225219",
   "metadata": {},
   "outputs": [
    {
     "name": "stdout",
     "output_type": "stream",
     "text": [
      "torch.Size([2193, 4])\n",
      "4595\n",
      "torch.Size([6679, 4])\n"
     ]
    }
   ],
   "source": [
    "idx = 0\n",
    "print(rna_data[idx].shape)\n",
    "print(front_pads[idx])\n",
    "print(padded_rna_data[idx].shape)"
   ]
  },
  {
   "cell_type": "code",
   "execution_count": 14,
   "id": "7d1dad3a-56ce-40ab-880c-29ba9556c722",
   "metadata": {},
   "outputs": [
    {
     "name": "stdout",
     "output_type": "stream",
     "text": [
      "4695\n",
      "All equal? True\n"
     ]
    }
   ],
   "source": [
    "# Verify it worked as intended\n",
    "aug_positions = np.array([\n",
    "    (t[:, 1] == 1).nonzero(as_tuple=True)[0][0].item() if (t[:, 1] == 1).any() else -1\n",
    "    for t in padded_rna_data\n",
    "])\n",
    "print(aug_positions[0])\n",
    "# from train: 4255\n",
    "# from val: 3447\n",
    "# from test: 4695\n",
    "print(\"All equal?\", np.all(aug_positions == aug_positions[0]))"
   ]
  },
  {
   "cell_type": "code",
   "execution_count": 15,
   "id": "05cf6c5e-2858-4da7-bfbd-941a2a409afd",
   "metadata": {},
   "outputs": [],
   "source": [
    "# PROBLEM: When padding to the front, total max seq length will also increase! BY HOW MUCH?"
   ]
  }
 ],
 "metadata": {
  "kernelspec": {
   "display_name": "Python 3 (ipykernel)",
   "language": "python",
   "name": "python3"
  },
  "language_info": {
   "codemirror_mode": {
    "name": "ipython",
    "version": 3
   },
   "file_extension": ".py",
   "mimetype": "text/x-python",
   "name": "python",
   "nbconvert_exporter": "python",
   "pygments_lexer": "ipython3",
   "version": "3.10.14"
  }
 },
 "nbformat": 4,
 "nbformat_minor": 5
}
