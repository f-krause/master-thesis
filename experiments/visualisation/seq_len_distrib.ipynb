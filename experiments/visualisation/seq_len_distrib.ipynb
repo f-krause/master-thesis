{
 "cells": [
  {
   "metadata": {},
   "cell_type": "code",
   "outputs": [],
   "execution_count": null,
   "source": [
    "import os\n",
    "import pickle\n",
    "import torch\n",
    "import matplotlib.pylab as plt\n",
    "from itertools import compress\n",
    "\n",
    "import vis_utils"
   ],
   "id": "9f9b201093915756"
  },
  {
   "metadata": {},
   "cell_type": "code",
   "outputs": [],
   "execution_count": null,
   "source": [
    "from matplotlib import font_manager as fm\n",
    "font_path = r'C:\\Users\\Felix\\AppData\\Local\\Microsoft\\Windows\\Fonts\\SourceSansPro-Regular.ttf'\n",
    "fm.fontManager.addfont(font_path)\n",
    "source_sans_pro = fm.FontProperties(fname=font_path)\n",
    "\n",
    "plt.rcParams['font.family'] = source_sans_pro.get_name()"
   ],
   "id": "ea6965963ffc2c17"
  },
  {
   "metadata": {},
   "cell_type": "code",
   "outputs": [],
   "execution_count": null,
   "source": [
    "# STORE = False\n",
    "STORE = True"
   ],
   "id": "2fc32c3061fd321b"
  },
  {
   "metadata": {},
   "cell_type": "markdown",
   "source": "## Load from raw data (on server only)",
   "id": "563e33bede54baf5"
  },
  {
   "metadata": {},
   "cell_type": "code",
   "outputs": [],
   "execution_count": null,
   "source": [
    "with open(\"/export/share/krausef99dm/data/ptr_data/ptr_data.pkl\", 'rb') as f:\n",
    "    ordered_dict = pickle.load(f)"
   ],
   "id": "712a8e0d92b74438"
  },
  {
   "metadata": {},
   "cell_type": "code",
   "outputs": [],
   "execution_count": null,
   "source": [
    "# in nucleotides!\n",
    "seq_lens_all = []\n",
    "seq_lens_all_cds = []\n",
    "\n",
    "for identifier, content in ordered_dict.items():\n",
    "    sequence = content['fasta']\n",
    "    bed_annotation = content['bed_annotation']\n",
    "    \n",
    "    coding_sequence = [nucleotide for nucleotide, annotation in zip(list(sequence), bed_annotation) if\n",
    "                       annotation not in [5, 3]]  # CDS, drop 5' and 3' UTR\n",
    "\n",
    "    seq_lens_all.append(len(sequence))\n",
    "    seq_lens_all_cds.append(len(coding_sequence))"
   ],
   "id": "8c4b0af6518ed2c4"
  },
  {
   "metadata": {},
   "cell_type": "code",
   "outputs": [],
   "execution_count": null,
   "source": [
    "path_seq_train = \"/export/share/krausef99dm/data/data_train/train_9.0k_data.pkl\"\n",
    "path_seq_val = \"/export/share/krausef99dm/data/data_test/val_9.0k_data.pkl\"\n",
    "path_seq_test = \"/export/share/krausef99dm/data/data_test/test_9.0k_data.pkl\"\n",
    "\n",
    "# FAULTY - should be 8.1k!\n",
    "#path_cod_train = \"/export/share/krausef99dm/data/data_train/codon_train_2.7k_data.pkl\"\n",
    "#path_cod_val = \"/export/share/krausef99dm/data/data_test/codon_val_2.7k_data.pkl\"\n",
    "#path_cod_test = \"/export/share/krausef99dm/data/data_test/codon_test_2.7k_data.pkl\"\n",
    "\n",
    "# CORRECTED\n",
    "path_cod_train = \"/export/share/krausef99dm/data/data_train/codon_train_8.1k_data.pkl\"\n",
    "path_cod_val = \"/export/share/krausef99dm/data/data_test/codon_val_8.1k_data.pkl\"\n",
    "path_cod_test = \"/export/share/krausef99dm/data/data_test/codon_test_8.1k_data.pkl\""
   ],
   "id": "27f1fd70b5182143"
  },
  {
   "metadata": {},
   "cell_type": "code",
   "outputs": [],
   "execution_count": null,
   "source": [
    "with open(path_seq_train, 'rb') as f:\n",
    "    rna_data, tissue_ids, targets, targets_bin =  pickle.load(f)"
   ],
   "id": "164f367db13ac427"
  },
  {
   "metadata": {},
   "cell_type": "code",
   "outputs": [],
   "execution_count": null,
   "source": "rna_data[0].shape",
   "id": "9459d748aa5b0fc8"
  },
  {
   "metadata": {},
   "cell_type": "code",
   "outputs": [],
   "execution_count": null,
   "source": [
    "def get_seq_lens(path):\n",
    "    rna_data, tissue_ids, targets, targets_bin = None, None, None, None\n",
    "    with open(path, 'rb') as f:\n",
    "        rna_data, tissue_ids, targets, targets_bin =  pickle.load(f)\n",
    "    \n",
    "    mask = targets_bin > 0  # only keep low-/high-PTR samples\n",
    "\n",
    "    if \"codon\" in path:\n",
    "        max_seq_len = 2700\n",
    "    else:\n",
    "        max_seq_len = 9000\n",
    "    \n",
    "    mask_len = torch.tensor([len(d) <= max_seq_len for d in rna_data])\n",
    "    mask = mask_len & mask\n",
    "    \n",
    "    rna_data = list(compress(rna_data, mask))\n",
    "    return [len(array) for array in rna_data]"
   ],
   "id": "6f8211f26e9a3940"
  },
  {
   "metadata": {},
   "cell_type": "code",
   "outputs": [],
   "execution_count": null,
   "source": [
    "# nucleotides\n",
    "seq_train = get_seq_lens(path_seq_train)\n",
    "seq_val = get_seq_lens(path_seq_val)\n",
    "seq_test = get_seq_lens(path_seq_test)\n",
    "\n",
    "# codons\n",
    "cod_train = get_seq_lens(path_cod_train)\n",
    "cod_val = get_seq_lens(path_cod_val)\n",
    "cod_test = get_seq_lens(path_cod_test)\n",
    "\n",
    "cod_train, cod_val, cod_test = [[i * 3 for i in ls] for ls in [cod_train, cod_val, cod_test]]"
   ],
   "id": "6be7895f67692890"
  },
  {
   "metadata": {},
   "cell_type": "code",
   "outputs": [],
   "execution_count": null,
   "source": [
    "datasets = {\n",
    "    \"nucleotide_train\": seq_train,\n",
    "    \"nucleotide_val\": seq_val,\n",
    "    \"nucleotide_test\": seq_test,\n",
    "    \"codon_train\": cod_train,\n",
    "    \"codon_val\": cod_val,\n",
    "    \"codon_test\": cod_test,\n",
    "}\n",
    "\n",
    "for name, dataset in datasets.items():\n",
    "    print(name, len(dataset))"
   ],
   "id": "54daf8226c354a95"
  },
  {
   "metadata": {},
   "cell_type": "code",
   "outputs": [],
   "execution_count": null,
   "source": "13055 + 2843 + 2773",
   "id": "e3603943e120fa1e"
  },
  {
   "metadata": {},
   "cell_type": "code",
   "outputs": [],
   "execution_count": null,
   "source": [
    "# pickle to data in vis\n",
    "data_list = [seq_lens_all, seq_lens_all_cds, seq_train, seq_val, seq_test, cod_train, cod_val, cod_test]\n",
    "\n",
    "# Save to a pickle file on server\n",
    "with open(\"data/seq_len_binary_class_data.pkl\", \"wb\") as f:\n",
    "    pickle.dump(data_list, f)"
   ],
   "id": "9c1ce5268c59a586"
  },
  {
   "metadata": {},
   "cell_type": "markdown",
   "source": "## Load from checkpoint",
   "id": "dc5032e8b89a9b4"
  },
  {
   "metadata": {},
   "cell_type": "code",
   "outputs": [],
   "execution_count": null,
   "source": [
    "# Load from the pickle file\n",
    "with open(\"data/seq_len_binary_class_data.pkl\", \"rb\") as f:\n",
    "    loaded_data = pickle.load(f)\n",
    "\n",
    "# Unpack the data\n",
    "seq_lens_all, seq_lens_all_cds, seq_train, seq_val, seq_test, cod_train, cod_val, cod_test = loaded_data"
   ],
   "id": "1582dbc5e12247eb"
  },
  {
   "metadata": {},
   "cell_type": "markdown",
   "source": "## Analysis",
   "id": "39341fd16c9419df"
  },
  {
   "metadata": {},
   "cell_type": "code",
   "outputs": [],
   "execution_count": null,
   "source": [
    "initial_len = len(seq_lens_all)\n",
    "print(initial_len)\n",
    "# seq longer than 20k"
   ],
   "id": "e62a897dd54546ab"
  },
  {
   "metadata": {},
   "cell_type": "code",
   "outputs": [],
   "execution_count": null,
   "source": [
    "# Max seq length\n",
    "max(seq_lens_all)"
   ],
   "id": "21b27597985db280"
  },
  {
   "metadata": {},
   "cell_type": "code",
   "outputs": [],
   "execution_count": null,
   "source": [
    "# Max seq length (only CDS)\n",
    "max(seq_lens_all_cds)"
   ],
   "id": "92f57c3598c081d2"
  },
  {
   "metadata": {},
   "cell_type": "code",
   "outputs": [],
   "execution_count": null,
   "source": [
    "# remove above specific threshold (nucleotides)\n",
    "seq_lens_all = [l for l in seq_lens_all if l < 10_000]\n",
    "\n",
    "print(\"new len\", len(seq_lens_all))\n",
    "print(\"Lost sequence-tissue tuples:\", initial_len - len(seq_lens_all))"
   ],
   "id": "f7b5ebc8861289e6"
  },
  {
   "metadata": {},
   "cell_type": "code",
   "outputs": [],
   "execution_count": null,
   "source": [
    "# FOR THESIS: How many samples of codon dataset where lost in hyperparameter tuning due to factor 3 issue?\n",
    "sum([1 for l in seq_lens_all_cds if (l <= 8100) and (l > 2700)])"
   ],
   "id": "98b01b0774209c77"
  },
  {
   "metadata": {},
   "cell_type": "code",
   "outputs": [],
   "execution_count": null,
   "source": [
    "# remove above specific threshold (codons)\n",
    "seq_lens_all_cds = [l for l in seq_lens_all_cds if l < 10_000]\n",
    "\n",
    "print(\"new len\", len(seq_lens_all_cds))\n",
    "print(\"Lost sequence-tissue tuples:\", initial_len - len(seq_lens_all_cds))"
   ],
   "id": "6923099685b04e7"
  },
  {
   "metadata": {},
   "cell_type": "code",
   "outputs": [],
   "execution_count": null,
   "source": "plt.hist(seq_lens_all_cds)",
   "id": "4d49d96b51286ea4"
  },
  {
   "metadata": {},
   "cell_type": "code",
   "outputs": [],
   "execution_count": null,
   "source": "sum([1 for l in seq_lens_all_cds if l <= 8100])",
   "id": "87a2d5ec21589e5"
  },
  {
   "metadata": {},
   "cell_type": "code",
   "outputs": [],
   "execution_count": null,
   "source": "plt.hist(seq_lens_all, bins=30)",
   "id": "8cf8f6b09715efc"
  },
  {
   "metadata": {},
   "cell_type": "code",
   "outputs": [],
   "execution_count": null,
   "source": [
    "import seaborn as sns\n",
    "from custom_colors import blue_shades\n",
    "blue_shades = blue_shades[:4]\n",
    "\n",
    "# NUCLEOTIDE DATA\n",
    "data = [seq_lens_all, seq_train, seq_val, seq_test]\n",
    "labels = ['raw', 'train\\n(0.7)', 'val\\n(0.15)', \"test\\n(0.15)\"]\n",
    "plt.figure(figsize=(6, 3.5))\n",
    "sns.violinplot(data=data, palette=blue_shades)\n",
    "# sns.stripplot(data=data, color='grey', alpha=0.01, jitter=True, size=3)\n",
    "plt.xticks(ticks=range(len(labels)), labels=labels)\n",
    "plt.title(\"Distributions of Sequence Lengths \\nNulceotide Dataset\")\n",
    "plt.ylabel(\"Sequence length (in nucleotides)\")\n",
    "\n",
    "if STORE:\n",
    "    print(\"Storing\")\n",
    "    plt.savefig(os.getenv(\"OUTPUT_DIR\") + \"/sequence_len_distribution_nucl.pdf\", format=\"pdf\", bbox_inches=\"tight\")\n",
    "\n",
    "plt.show()"
   ],
   "id": "4304772211f7c3dd"
  },
  {
   "metadata": {},
   "cell_type": "code",
   "outputs": [],
   "execution_count": null,
   "source": [
    "# CODON DATA\n",
    "\n",
    "data = [seq_lens_all_cds, cod_train, cod_val, cod_test]\n",
    "labels = ['raw', 'train\\n(0.7)', 'val\\n(0.15)', \"test\\n(0.15)\"]\n",
    "plt.figure(figsize=(6, 3.5))\n",
    "sns.violinplot(data=data, palette=blue_shades)\n",
    "plt.xticks(ticks=range(len(labels)), labels=labels)\n",
    "plt.title(\"Distributions of Sequence Lengths (CDS only) \\nCodon Dataset\")\n",
    "plt.ylabel(\"Sequence length (in nucleotides)\")\n",
    "\n",
    "if STORE:\n",
    "    print(\"Storing\")\n",
    "    plt.savefig(os.getenv(\"OUTPUT_DIR\") + \"/sequence_len_distribution_codon.pdf\", format=\"pdf\", bbox_inches=\"tight\")\n",
    "\n",
    "plt.show()"
   ],
   "id": "2439b396e047712e"
  },
  {
   "metadata": {},
   "cell_type": "code",
   "outputs": [],
   "execution_count": null,
   "source": "",
   "id": "97e8ea872faa6dbc"
  }
 ],
 "metadata": {
  "kernelspec": {
   "display_name": "Python 3 (ipykernel)",
   "language": "python",
   "name": "python3"
  },
  "language_info": {
   "codemirror_mode": {
    "name": "ipython",
    "version": 3
   },
   "file_extension": ".py",
   "mimetype": "text/x-python",
   "name": "python",
   "nbconvert_exporter": "python",
   "pygments_lexer": "ipython3",
   "version": "3.10.14"
  }
 },
 "nbformat": 4,
 "nbformat_minor": 5
}
