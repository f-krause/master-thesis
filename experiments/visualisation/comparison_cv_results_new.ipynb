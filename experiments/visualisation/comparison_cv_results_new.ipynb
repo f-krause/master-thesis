{
 "cells": [
  {
   "metadata": {},
   "cell_type": "markdown",
   "source": "# CV Model Comparison Results",
   "id": "5b9db0a67e0c5b84"
  },
  {
   "metadata": {},
   "cell_type": "code",
   "outputs": [],
   "execution_count": null,
   "source": [
    "import os\n",
    "import platform\n",
    "import pandas as pd\n",
    "import numpy as np\n",
    "import matplotlib.pylab as plt\n",
    "from matplotlib import font_manager as fm\n",
    "\n",
    "import vis_utils\n",
    "\n",
    "font_path = r'C:\\Users\\Felix\\AppData\\Local\\Microsoft\\Windows\\Fonts\\SourceSansPro-Regular.ttf'\n",
    "fm.fontManager.addfont(font_path)\n",
    "source_sans_pro = fm.FontProperties(fname=font_path)\n",
    "\n",
    "plt.rcParams['font.family'] = source_sans_pro.get_name()"
   ],
   "id": "7119b4a8e7c24ff5"
  },
  {
   "metadata": {},
   "cell_type": "code",
   "outputs": [],
   "execution_count": null,
   "source": [
    "# STORE = False\n",
    "STORE = True"
   ],
   "id": "91d20fdf0dd81e26"
  },
  {
   "metadata": {},
   "cell_type": "code",
   "outputs": [],
   "execution_count": null,
   "source": "df = pd.read_csv(\"data/runs-23_06_46-17-Apr-25.csv\")",
   "id": "eb0a7f0ffe4b0bb9"
  },
  {
   "metadata": {},
   "cell_type": "code",
   "outputs": [],
   "execution_count": null,
   "source": [
    "cv_runs = [name for name in df.experiment if name.split(\"_\")[-1].split(\"-\")[0] == \"fold\"]\n",
    "print(\"# models:\", len(cv_runs) / 3)"
   ],
   "id": "5441c9960d412b35"
  },
  {
   "metadata": {},
   "cell_type": "code",
   "outputs": [],
   "execution_count": null,
   "source": [
    "df_cv = df[df['experiment'].isin(cv_runs)]\n",
    "df_cv = df_cv[[\"experiment\", 'AUC_val', 'AUC_train', 'training_time_min', 'avg_epoch_time', 'nr_params', 'nr_flops', \"best_epoch\", \"model_config.model\"]]\n",
    "df_cv[\"model_config.model\"] = [\"baseline_freq\" if \"freq\" in name else model.strip(\"\\\"\") for name, model in zip(df_cv[\"experiment\"], df_cv[\"model_config.model\"])]\n",
    "df_cv = df_cv.rename(columns={'model_config.model': 'model', \"avg_epoch_time\": \"min_per_epoch\"})\n",
    "df_cv = df_cv.drop(\"experiment\", axis=1)\n",
    "cols_to_convert = [col for col in df_cv.columns if col != 'model']\n",
    "df_cv[cols_to_convert] = df_cv[cols_to_convert].astype(float)\n",
    "\n",
    "# custom colnames\n",
    "df_cv.columns = [\"val AUC\", \"train AUC\", \"train time (min.)\", \"min. per epoch\", \"# parameters\", \"# flops\", \"best epoch\", \"model\"]\n",
    "\n",
    "# add rfr baseline results as separate runs\n",
    "# RandomForestClassifier\n",
    "# Mean Test ROC: 0.6511249520403964 0.006805343628861114\n",
    "# {'fit_time': array([7.19223166, 7.37786293, 7.24737144]), 'score_time': array([0.31503367, 0.10961747, 0.10889411]), 'test_roc_auc': array([0.6419549 , 0.65317981, 0.65824014]), 'train_roc_auc': array([1., 1., 1.])}\n",
    "\n",
    "rfr_baseline = pd.DataFrame({\n",
    "    \"val AUC\": [0.6419549 , 0.65317981, 0.65824014],\n",
    "    \"train AUC\": [1] * 3,\n",
    "    \"train time (min.)\": [7.19223166 / 60, 7.37786293 / 60, 7.24737144 / 60],\n",
    "    \"min. per epoch\": [np.nan] * 3,\n",
    "    \"# parameters\": [np.nan] * 3,\n",
    "    \"# flops\": [np.nan] * 3,\n",
    "    \"best epoch\": [np.nan] * 3,\n",
    "    \"model\": [\"RFR (freq)\"] * 3\n",
    "})\n",
    "\n",
    "df_cv = pd.concat([df_cv, rfr_baseline], axis=0)\n",
    "df_cv.reset_index(drop=True, inplace=True)"
   ],
   "id": "740b1e7a6192ae5f"
  },
  {
   "metadata": {},
   "cell_type": "code",
   "outputs": [],
   "execution_count": null,
   "source": "df_cv",
   "id": "4d20704b33240791"
  },
  {
   "metadata": {},
   "cell_type": "code",
   "outputs": [],
   "execution_count": null,
   "source": [
    "df_grouped = df_cv.groupby(\"model\").mean()\n",
    "df_grouped"
   ],
   "id": "5c112873e1fdd200"
  },
  {
   "metadata": {},
   "cell_type": "code",
   "outputs": [],
   "execution_count": null,
   "source": [
    "df_grouped_std = df_cv.groupby(\"model\").std()\n",
    "df_grouped_std.columns = [f\"{col} std\" for col in df_grouped_std.columns]\n",
    "df_grouped_std"
   ],
   "id": "60a11d498af66019"
  },
  {
   "metadata": {},
   "cell_type": "code",
   "outputs": [],
   "execution_count": null,
   "source": [
    "# add all information\n",
    "df_grouped = pd.concat([df_grouped, df_grouped_std], axis=1)\n",
    "\n",
    "# change model names\n",
    "df_grouped = df_grouped.rename(index={\n",
    "    \"baseline\": \"Baseline MLP\",\n",
    "    \"baseline_freq\": \"Baseline MLP (freq)\",\n",
    "    \"cnn\": \"CNN\",\n",
    "    \"gru\": \"GRU\",\n",
    "    \"lstm\": \"LSTM\",\n",
    "    \"mamba\": \"Mamba\",\n",
    "    \"transformer\": \"Transformer\",\n",
    "    \"xlstm\": \"xLSTM\",\n",
    "    \"LEGnet\": \"LEGnet\",\n",
    "    \"RFC (freq)\": \"RFC (freq)\"\n",
    "})"
   ],
   "id": "8b3166126fc0178c"
  },
  {
   "metadata": {},
   "cell_type": "markdown",
   "source": "## Results barplots",
   "id": "32e7ecaa035c72f7"
  },
  {
   "metadata": {},
   "cell_type": "code",
   "outputs": [],
   "execution_count": null,
   "source": [
    "import matplotlib.pyplot as plt\n",
    "import numpy as np\n",
    "from scipy.stats import t\n",
    "\n",
    "def plot_variable(df_plot, var, x_min=0, log_scale=False, use_sem=False, use_ci=False, store=False):\n",
    "    # Sort dataframe by the variable to plot\n",
    "    df_plot = df_plot.sort_values(var)\n",
    "    df_plot.sort_values(by=var, inplace=True)\n",
    "    \n",
    "    # Compute uncertainty (SEM or SD)\n",
    "    if use_ci:\n",
    "        N = 3  # Number of CV runs\n",
    "        df = N - 1  # Degrees of freedom\n",
    "        t_critical = t.ppf(0.975, df)  # t-value for 95% confidence interval\n",
    "        uncertainty = df_plot[f\"{var} std\"] / np.sqrt(N) * t_critical\n",
    "    elif use_sem:\n",
    "        uncertainty = df_plot[f\"{var} std\"] / np.sqrt(3)\n",
    "    else:\n",
    "        uncertainty = df_plot[f\"{var} std\"]\n",
    "    \n",
    "    # Plot the data with error bars\n",
    "    plt.figure(figsize=(7, 3.5))\n",
    "    if use_ci or use_sem:\n",
    "        #plt.errorbar(df_plot[var], df_plot.index, xerr=uncertainty, fmt='o', color='skyblue', ecolor='lightgray', elinewidth=2, capsize=0)\n",
    "        plt.barh(df_plot.index, df_plot[var], xerr=uncertainty, color='skyblue', capsize=2, ecolor=\"gray\")\n",
    "        plt.title(f\"Mean {var} \\n (with uncertainty over 3 folds)\")\n",
    "    else:\n",
    "        plt.barh(df_plot.index, df_plot[var], xerr=uncertainty, color='skyblue')\n",
    "        plt.title(f\"Mean {var} \\n (over 3 folds)\")\n",
    "    plt.xlabel(var)\n",
    "    \n",
    "    # Set x-axis limits and scaling\n",
    "    if x_min:\n",
    "        plt.xlim(x_min, df_plot[var].max() * 1.03)\n",
    "    if log_scale:\n",
    "        plt.xscale('log')\n",
    "\n",
    "    if store:\n",
    "        var_name = var.replace(\" \", \"_\")\n",
    "        plt.savefig(os.getenv(\"OUTPUT_DIR\") + f\"/cv_results_{var_name}.pdf\", format=\"pdf\", bbox_inches=\"tight\")\n",
    "\n",
    "    # Display the plot\n",
    "    plt.show()"
   ],
   "id": "8ce50a61b4b45ed4"
  },
  {
   "metadata": {},
   "cell_type": "code",
   "outputs": [],
   "execution_count": null,
   "source": "plot_variable(df_grouped.copy(), \"val AUC\", x_min=0.5, use_sem=True, store=STORE)",
   "id": "c2ad4134912e3a6"
  },
  {
   "metadata": {},
   "cell_type": "code",
   "outputs": [],
   "execution_count": null,
   "source": "plot_variable(df_grouped.copy(), \"train time (min.)\", log_scale=True, use_sem=True)",
   "id": "98e84374768471f8"
  },
  {
   "metadata": {},
   "cell_type": "code",
   "outputs": [],
   "execution_count": null,
   "source": "plot_variable(df_grouped.copy(), \"# parameters\", log_scale=True)",
   "id": "fd3a06b38074b93c"
  },
  {
   "metadata": {},
   "cell_type": "code",
   "outputs": [],
   "execution_count": null,
   "source": "plot_variable(df_grouped.copy(), \"# flops\", log_scale=True)",
   "id": "f85b659b3c1d304f"
  },
  {
   "metadata": {},
   "cell_type": "markdown",
   "source": "## Results Table",
   "id": "988003903333c4bd"
  },
  {
   "metadata": {},
   "cell_type": "code",
   "outputs": [],
   "execution_count": null,
   "source": [
    "df_table = df_grouped.copy()\n",
    "df_table.sort_values(by=\"val AUC\", ascending=False, inplace=True)\n",
    "df_table.reset_index(inplace=True)\n",
    "df_table = df_table.round(5)\n",
    "#df_table.drop([\"avg_epoch_time\"], axis=1, inplace=True)\n",
    "df_table[[\"# parameters\", \"# flops\"]] = df_table[[\"# parameters\", \"# flops\"]].astype(pd.Int64Dtype())"
   ],
   "id": "36675c3e6a78be5b"
  },
  {
   "metadata": {},
   "cell_type": "code",
   "outputs": [],
   "execution_count": null,
   "source": "df_table",
   "id": "e7de8945f2c67709"
  },
  {
   "metadata": {},
   "cell_type": "code",
   "outputs": [],
   "execution_count": null,
   "source": "df_table.columns",
   "id": "c6bd5863eec50e79"
  },
  {
   "metadata": {},
   "cell_type": "code",
   "outputs": [],
   "execution_count": null,
   "source": [
    "df_table = df_table[['model', 'val AUC', 'train AUC', 'train time (min.)',\n",
    "                     '# parameters', '# flops', 'min. per epoch', 'best epoch']]\n",
    "df_table.columns = ['model', 'mean val AUC', ' mean train AUC', 'mean train time (min.)', 'mean # parameters',\n",
    "                    '# flops', 'min. per epoch', 'best epoch']"
   ],
   "id": "94966c01ce12e043"
  },
  {
   "metadata": {},
   "cell_type": "code",
   "outputs": [],
   "execution_count": null,
   "source": [
    "def transparent_nan(val):\n",
    "    if pd.isnull(val) or val is pd.NA:\n",
    "        return 'background-color: white; color: white;'\n",
    "    return ''\n",
    "\n",
    "styled_df = (\n",
    "    df_table.style\n",
    "    .background_gradient(subset=['mean val AUC'], cmap='Greens')  # Color scale for 'val AUC'\n",
    "    .background_gradient(subset=['mean train time (min.)'], cmap='Reds')  # Color scale for 'train time'\n",
    "    .background_gradient(subset=['mean # parameters'], cmap='Reds')  # Color scale for '# Parameters'\n",
    "    .background_gradient(subset=['# flops'], cmap='Reds')  # Color scale for '# Parameters'\n",
    "    .background_gradient(subset=['min. per epoch'], cmap='Reds')  # Color scale for '# Parameters'\n",
    "    .background_gradient(subset=['best epoch'], cmap='Reds')  # Color scale for '# Parameters'\n",
    "    .map(transparent_nan)\n",
    "    .format(precision=4)\n",
    ")\n",
    "\n",
    "styled_df"
   ],
   "id": "ed10503f9d092446"
  },
  {
   "metadata": {},
   "cell_type": "code",
   "outputs": [],
   "execution_count": null,
   "source": [
    "# FIXME\n",
    "if STORE:\n",
    "    from html2image import Html2Image\n",
    "\n",
    "    # write to html\n",
    "    html_path = os.path.join(os.getenv(\"OUTPUT_DIR\"), \"cv_results.html\")\n",
    "    with open(html_path, \"w\", encoding=\"utf-8\") as f:\n",
    "        f.write(styled_df.to_html())\n",
    "\n",
    "    html_path = os.path.join(os.getenv(\"OUTPUT_DIR\"), \"cv_results.html\")\n",
    "    hti = Html2Image(output_path=os.getenv(\"OUTPUT_DIR\"))\n",
    "    hti.screenshot(html_file=html_path, save_as=\"cv_results.png\")#, size=(1000, 500))"
   ],
   "id": "65ac62a7808d993c"
  },
  {
   "metadata": {},
   "cell_type": "code",
   "outputs": [],
   "execution_count": null,
   "source": [
    "# TESTING\n",
    "hti = Html2Image(output_path=os.getenv(\"OUTPUT_DIR\"), browser=\"edge\", size=(500, 200))\n",
    "hti.screenshot(url='https://www.python.org', save_as='python_org.png')"
   ],
   "id": "9585ef10878aa29d"
  }
 ],
 "metadata": {
  "kernelspec": {
   "display_name": "Python 3 (ipykernel)",
   "language": "python",
   "name": "python3"
  },
  "language_info": {
   "codemirror_mode": {
    "name": "ipython",
    "version": 3
   },
   "file_extension": ".py",
   "mimetype": "text/x-python",
   "name": "python",
   "nbconvert_exporter": "python",
   "pygments_lexer": "ipython3",
   "version": "3.10.14"
  }
 },
 "nbformat": 4,
 "nbformat_minor": 5
}
