{
 "cells": [
  {
   "metadata": {},
   "cell_type": "markdown",
   "source": "# Binary Target Illustration",
   "id": "cc1439c03b957aba"
  },
  {
   "metadata": {},
   "cell_type": "code",
   "outputs": [],
   "execution_count": null,
   "source": [
    "import os\n",
    "import platform\n",
    "import matplotlib.pyplot as plt\n",
    "from matplotlib import font_manager as fm\n",
    "import numpy as np\n",
    "\n",
    "import vis_utils"
   ],
   "id": "e6796a4400cfa73f"
  },
  {
   "metadata": {},
   "cell_type": "code",
   "outputs": [],
   "execution_count": null,
   "source": [
    "font_path = r'C:\\Users\\Felix\\AppData\\Local\\Microsoft\\Windows\\Fonts\\SourceSansPro-Regular.ttf'\n",
    "fm.fontManager.addfont(font_path)\n",
    "source_sans_pro = fm.FontProperties(fname=font_path)\n",
    "\n",
    "plt.rcParams['font.family'] = source_sans_pro.get_name()"
   ],
   "id": "5a3ede6744e81b9e"
  },
  {
   "metadata": {},
   "cell_type": "code",
   "outputs": [],
   "execution_count": null,
   "source": "plt.style.use('default')",
   "id": "1e8e9852233940f5"
  },
  {
   "metadata": {},
   "cell_type": "code",
   "outputs": [],
   "execution_count": null,
   "source": [
    "STORE = False\n",
    "# STORE = True"
   ],
   "id": "92dbb887766d5179"
  },
  {
   "metadata": {},
   "cell_type": "code",
   "outputs": [],
   "execution_count": null,
   "source": [
    "# Tissue names and PTR values\n",
    "tissue_names = [\n",
    "    'Adrenal', 'Appendices', 'Brain', 'Colon', 'Duodenum',\n",
    "    'Uterus', 'Esophagus', 'Fallopian Tube', 'Fat', 'Gallbladder',\n",
    "    'Heart', 'Kidney', 'Liver', 'Lung', 'Lymphnode'\n",
    "]\n",
    "log10_ptr_values = [4.485, 5.723, 5.608, 5.13, 5.577, 4.604, 3.984,  \n",
    "                    4.845, 5.225, 5.067, 5.087, 5.149, 4.52, \n",
    "                    6.705, 5.039]\n",
    "\n",
    "# Convert log10 values back to linear scale for calculations\n",
    "ptr_values = 10 ** np.array(log10_ptr_values)\n",
    "\n",
    "# Calculate thresholds\n",
    "mean_ptr = np.mean(ptr_values)\n",
    "low_threshold = 0.5 * mean_ptr\n",
    "high_threshold = 2 * mean_ptr\n",
    "\n",
    "# Identify the lowest entry for marking low PTR\n",
    "lowest_index = np.argmin(log10_ptr_values)\n",
    "\n",
    "# Color coding for bars\n",
    "colors = [\n",
    "    \"#5AB4E4\" if i == lowest_index else \"#2679C0\" if v > np.log10(high_threshold) else \"#c6c6c6\"  # light blue, dark blue, grey\n",
    "    for i, v in enumerate(log10_ptr_values)\n",
    "]\n",
    "\n",
    "# Plotting\n",
    "plt.figure(figsize=(12, 7))\n",
    "plt.rcParams.update({'font.size': 16})\n",
    "plt.bar(tissue_names, ptr_values, color=colors, edgecolor='none', log=True)\n",
    "plt.axhline(high_threshold, color='purple', linestyle='--', linewidth=1, label='2x Mean PTR')\n",
    "plt.axhline(mean_ptr, color='green', linestyle='--', linewidth=1, label='Mean PTR')\n",
    "plt.axhline(low_threshold, color='orange', linestyle='--', linewidth=1, label='0.5x Mean PTR')\n",
    "\n",
    "# Adding annotations for low/high PTR\n",
    "for i, v in enumerate(ptr_values):\n",
    "    if i == lowest_index:\n",
    "        plt.text(i, v * 1.2, 'Low\\nPTR', color=\"#5AB4E4\", ha='center', fontsize=14)\n",
    "    elif v > high_threshold:\n",
    "        plt.text(i, v * 1.2, 'High\\nPTR', color=\"#2679C0\", ha='center', fontsize=14)\n",
    "\n",
    "# Customizing the plot\n",
    "plt.yscale('log')  # Set y-axis to logarithmic scale\n",
    "plt.ylabel('PTR Ratio')\n",
    "plt.ylim(10 ** 3.5, 10 ** 7.3)  # Set limits based on range\n",
    "# move x-axis labels just a bit to the left\n",
    "plt.xticks(rotation=90, ha='center')\n",
    "plt.legend(loc='upper left', framealpha=1)\n",
    "plt.tight_layout()\n",
    "\n",
    "if STORE:\n",
    "    plt.savefig(os.getenv(\"OUTPUT_DIR\") + \"/binary_target_illustration_log.pdf\", format=\"pdf\", bbox_inches=\"tight\")\n",
    "\n",
    "plt.show()"
   ],
   "id": "1e2299824de34edf"
  },
  {
   "metadata": {},
   "cell_type": "code",
   "outputs": [],
   "execution_count": null,
   "source": "",
   "id": "9d74775724baaaed"
  }
 ],
 "metadata": {
  "kernelspec": {
   "display_name": "Python 3 (ipykernel)",
   "language": "python",
   "name": "python3"
  },
  "language_info": {
   "codemirror_mode": {
    "name": "ipython",
    "version": 3
   },
   "file_extension": ".py",
   "mimetype": "text/x-python",
   "name": "python",
   "nbconvert_exporter": "python",
   "pygments_lexer": "ipython3",
   "version": "3.10.14"
  }
 },
 "nbformat": 4,
 "nbformat_minor": 5
}
