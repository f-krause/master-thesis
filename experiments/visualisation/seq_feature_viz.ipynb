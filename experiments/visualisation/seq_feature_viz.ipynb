{
 "cells": [
  {
   "cell_type": "markdown",
   "id": "f44089428d3c4efc",
   "metadata": {},
   "source": [
    "# Sequence Feature Viz for Master Thesis"
   ]
  },
  {
   "cell_type": "code",
   "execution_count": 7,
   "id": "765cb64aca88966",
   "metadata": {
    "ExecuteTime": {
     "end_time": "2025-01-09T17:40:51.936446Z",
     "start_time": "2025-01-09T17:40:49.749505Z"
    }
   },
   "outputs": [],
   "source": [
    "import platform\n",
    "import pandas as pd\n",
    "import numpy as np\n",
    "import matplotlib.pyplot as plt\n",
    "import matplotlib.patches as patches"
   ]
  },
  {
   "cell_type": "markdown",
   "id": "df0c82e4dbca3e01",
   "metadata": {},
   "source": [
    "## Example: Sequence and Structure Visualization"
   ]
  },
  {
   "cell_type": "code",
   "execution_count": 8,
   "id": "1669108b92bdb18c",
   "metadata": {
    "ExecuteTime": {
     "end_time": "2025-01-09T17:40:51.951622Z",
     "start_time": "2025-01-09T17:40:51.938799Z"
    }
   },
   "outputs": [],
   "source": [
    "if platform.node() == \"INSERT_WORK_LAPTOP_ID\":\n",
    "    OUTPUT_DIR = r\"C:\\Users\\felix.krause\\code\\uni\\master-thesis-text\\assets\\data_viz\"\n",
    "elif platform.node() == \"Felix-PC\":\n",
    "    OUTPUT_DIR = r\"C:\\Users\\Felix\\code\\uni\\UniVie\\master-thesis-text\\assets\\data_viz\"\n",
    "else:\n",
    "    raise ValueError(\"Unknown platform\")"
   ]
  },
  {
   "cell_type": "code",
   "id": "b369038272743280",
   "metadata": {
    "ExecuteTime": {
     "end_time": "2025-01-09T18:08:47.027670Z",
     "start_time": "2025-01-09T18:08:47.018048Z"
    }
   },
   "source": [
    "# Store the plot as pdf\n",
    "STORE = False\n",
    "# STORE = True"
   ],
   "outputs": [],
   "execution_count": 22
  },
  {
   "cell_type": "code",
   "id": "9da7605d13093200",
   "metadata": {
    "ExecuteTime": {
     "end_time": "2025-01-09T18:08:41.167976Z",
     "start_time": "2025-01-09T18:08:40.048745Z"
    }
   },
   "source": [
    "import matplotlib.pyplot as plt\n",
    "import matplotlib.patches as patches\n",
    "\n",
    "# Define a sample sequence (~36 nt) with a fully nucleotide-based 5' tail and a small 3' tail.\n",
    "# We'll have:\n",
    "# - 5' tail: 3 nucleotides\n",
    "# - Coding region: 30 nucleotides (for a nice multiple of codons)\n",
    "# - 3' tail: 3 nucleotides\n",
    "#\n",
    "# Total = 36 nucleotides\n",
    "\n",
    "five_prime_tail = \"GCGGCCGCU\"                     # 5' tail (3 nt)\n",
    "coding_region = \"ACGUACGUGCUAGGUACUGGAAAUCCA\"  # coding region (30 nt)\n",
    "three_prime_tail = \"UAAAUUUUA\"                    # 3' tail (3 nt)\n",
    "\n",
    "sequence = five_prime_tail + coding_region + three_prime_tail\n",
    "seq_list = list(sequence)\n",
    "\n",
    "# Annotate coding:\n",
    "# Indices: 0-based\n",
    "# 0-2 (5' tail) => '5'\n",
    "# 33-35 (3' tail) => '3'\n",
    "# 3-32 (coding region) => codon frames 0,1,2 repeating\n",
    "coding_annotation = []\n",
    "for i in range(len(seq_list)):\n",
    "    if i < len(five_prime_tail):\n",
    "        coding_annotation.append('5')\n",
    "    elif i >= len(five_prime_tail) + len(coding_region):\n",
    "        coding_annotation.append('3')\n",
    "    else:\n",
    "        frame = (i - 3) % 3\n",
    "        coding_annotation.append(str(frame))\n",
    "\n",
    "# Create a hypothetical structure (dot-bracket) of length 36\n",
    "# Just a pattern for visualization:\n",
    "structure_str   = \"...((((.......)).))........((....))..........\"\n",
    "loop_annotation = \"EEESSSSHHHHHHHSSBSSXXXXXXXXSSHHHHSSEEEEEEEEEE\" \n",
    "structure_list = list(structure_str)\n",
    "\n",
    "# Assign loop types:\n",
    "# For simplicity: '(' or ')' => 'S' (stem), '.' => 'H' (hairpin)\n",
    "\n",
    "# Original rows were: Sequence, Coding, Structure, Loop Type\n",
    "# Flip the order: Loop Type, Structure, Coding, Sequence\n",
    "data = [loop_annotation, structure_list, coding_annotation, seq_list]\n",
    "row_labels = [\"Loop Type\", \"Structure\", \"Coding Area\", \"Sequence\"]\n",
    "\n",
    "fig, ax = plt.subplots(figsize=(15, 2))\n",
    "ax.axis('off')\n",
    "\n",
    "TOKENS = \"ACGU01235.()ESHBX\"\n",
    "colors = [\n",
    "    \"#8dd3c7\",  # A (light teal)\n",
    "    \"#1b9e77\",  # C (dark teal)\n",
    "    \"#80b1d3\",  # G (light blue)\n",
    "    \"#386cb0\",  # U (dark blue)\n",
    "    \"#fdbf6f\",  # 0 (light orange)\n",
    "    \"#ff9966\",  # 1 (medium orange)\n",
    "    \"#ff6633\",  # 2 (dark orange)\n",
    "    \"#e31a1c\",  # 3 (red, high contrast)\n",
    "    \"#ffcc99\",  # 5 (bright yellow)\n",
    "    \"#cccccc\",  # . (light grey for loops)\n",
    "    \"#969696\",  # ( (neutral grey for structure)\n",
    "    \"#969696\",  # ) (neutral grey for structure)\n",
    "    \"#8dd3c7\",  # E (soft purple for external loops)\n",
    "    \"#ffffb3\",  # S (light teal, similar to A for stems)\n",
    "    \"#bebada\",  # H (soft yellow for hairpins)\n",
    "    \"#fb8072\",  # B (soft pink for bulges)\n",
    "    \"#80b1d3\",  # X (light blue for unknowns)\n",
    "]\n",
    "\n",
    "\n",
    "# cmap = plt.get_cmap('viridis')\n",
    "# length = len(TOKENS) + 7\n",
    "# colors = [cmap(i / (length - 1)) for i in range(length)]\n",
    "# colors = colors[::-1]\n",
    "\n",
    "# We'll define colors similarly as before\n",
    "for row_idx, row_data in enumerate(data):\n",
    "    for col_idx, char in enumerate(row_data):\n",
    "        # Determine color based on row\n",
    "        color = colors[TOKENS.index(char.upper())]\n",
    "        # if row_labels[row_idx] == \"Sequence\":\n",
    "        #     # Color by nucleotide\n",
    "        #     color = colors[TOKENS.index(char.upper())]\n",
    "        # elif row_labels[row_idx] == \"Coding\":\n",
    "        #     # Coding annotation: 5 and 3 for tails = yellow, frames = 0,1,2 different colors\n",
    "        #     color = colors[TOKENS.index(char)]\n",
    "        # elif row_labels[row_idx] == \"Structure\":\n",
    "        #     # '(' or ')' = stems (blue), '.' = loop (white)\n",
    "        #     color = colors[TOKENS.index(char)-1]\n",
    "        # else: # Loop Type\n",
    "        #     # 'S' = stem (green), 'H' = hairpin (orange)\n",
    "        #     color = colors[TOKENS.index(char)-1]\n",
    "\n",
    "        rect = patches.Rectangle((col_idx, -row_idx), 1, 1, facecolor=color, edgecolor='white')\n",
    "        ax.add_patch(rect)\n",
    "        ax.text(col_idx+0.5, -row_idx+0.5, char, ha='center', va='center', fontsize=10)\n",
    "\n",
    "# Add row labels on the left\n",
    "for i, label in enumerate(row_labels):\n",
    "    ax.text(-0.5, -i+0.5, label, ha='right', va='center', fontsize=10, fontweight='bold')\n",
    "\n",
    "# Adjust plot limits\n",
    "ax.set_xlim(-1, len(seq_list)+1)\n",
    "ax.set_ylim(-len(data), 1)\n",
    "ax.invert_yaxis()\n",
    "\n",
    "plt.tight_layout()\n",
    "# store as svg\n",
    "if STORE:\n",
    "    plt.savefig(OUTPUT_DIR + \"/example_sequence_struc.pdf\", format=\"pdf\", bbox_inches=\"tight\")\n",
    "    \n",
    "plt.show()"
   ],
   "outputs": [
    {
     "data": {
      "text/plain": [
       "<Figure size 1500x200 with 1 Axes>"
      ],
      "image/png": "[encoded data removed]"
     },
     "metadata": {},
     "output_type": "display_data"
    }
   ],
   "execution_count": 21
  },
  {
   "cell_type": "code",
   "execution_count": null,
   "id": "477f9a61b5dfe81d",
   "metadata": {},
   "outputs": [],
   "source": []
  }
 ],
 "metadata": {
  "kernelspec": {
   "display_name": "Python 3 (ipykernel)",
   "language": "python",
   "name": "python3"
  },
  "language_info": {
   "codemirror_mode": {
    "name": "ipython",
    "version": 3
   },
   "file_extension": ".py",
   "mimetype": "text/x-python",
   "name": "python",
   "nbconvert_exporter": "python",
   "pygments_lexer": "ipython3",
   "version": "3.10.14"
  }
 },
 "nbformat": 4,
 "nbformat_minor": 5
}
