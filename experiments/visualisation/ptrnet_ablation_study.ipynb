{
 "cells": [
  {
   "metadata": {},
   "cell_type": "code",
   "outputs": [],
   "execution_count": null,
   "source": "# PTRnet Ablation Study Results",
   "id": "125e476af7a125ef"
  },
  {
   "metadata": {
    "ExecuteTime": {
     "end_time": "2025-06-19T09:54:27.118180Z",
     "start_time": "2025-06-19T09:54:27.072868Z"
    }
   },
   "cell_type": "code",
   "source": [
    "import os\n",
    "import pandas as pd\n",
    "\n",
    "import numpy as np\n",
    "import matplotlib.pyplot as plt\n",
    "from matplotlib import font_manager as fm\n",
    "from scipy.interpolate import make_interp_spline\n",
    "\n",
    "import vis_utils\n",
    "from custom_colors import blue_shades\n",
    "\n",
    "font_path = r'C:\\Users\\Felix\\AppData\\Local\\Microsoft\\Windows\\Fonts\\SourceSansPro-Regular.ttf'\n",
    "fm.fontManager.addfont(font_path)\n",
    "source_sans_pro = fm.FontProperties(fname=font_path)\n",
    "\n",
    "plt.rcParams['font.family'] = source_sans_pro.get_name()"
   ],
   "id": "14730a0c39c343cd",
   "outputs": [],
   "execution_count": 1
  },
  {
   "metadata": {},
   "cell_type": "code",
   "outputs": [],
   "execution_count": null,
   "source": [
    "STORE = True\n",
    "# STORE = False"
   ],
   "id": "c17c732b625aab81"
  },
  {
   "metadata": {
    "ExecuteTime": {
     "end_time": "2025-06-19T09:54:27.163541Z",
     "start_time": "2025-06-19T09:54:27.123699Z"
    }
   },
   "cell_type": "code",
   "source": [
    "# Load datafile\n",
    "df_raw = pd.read_csv(\"data/runs-12_34_50-10-Jun-25-PTRnet-final.csv\")\n",
    "df_raw.loc[:, \"pretrain\"] = df_raw.experiment.str.contains(\"pretrain\")\n",
    "df_raw = df_raw[df_raw.pretrain == False]\n",
    "df_raw.loc[:, \"run_id_temp\"] = df_raw.experiment.str.split(\"/\").str[2]\n",
    "df_raw.loc[:, \"run_id\"] = df_raw.run_id_temp.str.split(\"_\").str[0]"
   ],
   "id": "4d686e94fe8746c8",
   "outputs": [],
   "execution_count": 2
  },
  {
   "metadata": {},
   "cell_type": "code",
   "outputs": [],
   "execution_count": null,
   "source": "df_raw",
   "id": "c94e1142cedcb420"
  },
  {
   "metadata": {},
   "cell_type": "code",
   "outputs": [],
   "execution_count": null,
   "source": [
    "# Assign runnames to ids\n",
    "run_names = {\n",
    "    26: \"baseline (tuned PTRnet)\",\n",
    "    44: \"- codon frequencies\",\n",
    "    27: \"- AUG alignment\",\n",
    "    28: \"OHE of inputs\",\n",
    "    29: \"concat tissue embeddings\",\n",
    "    30: \"sequence only\",\n",
    "    31: \"+ pretraining\",\n",
    "}\n",
    "\n",
    "df_raw[\"run_id\"] = df_raw[\"run_id\"].astype(int)\n",
    "df_raw.loc[:, \"name\"] = df_raw.run_id.map(run_names)"
   ],
   "id": "f5d8e56adf23d126"
  },
  {
   "metadata": {},
   "cell_type": "code",
   "outputs": [],
   "execution_count": null,
   "source": "df = df_raw[[\"run\", \"run_id\", \"name\", \"AUC_train\", \"AUC_val\", \"F1_val\", \"Precision_val\", \"Recall_val\", \"Accuracy_val\"]].copy()",
   "id": "d034e231cbecf609"
  },
  {
   "metadata": {},
   "cell_type": "code",
   "outputs": [],
   "execution_count": null,
   "source": [
    "# rename columns from _val to _test\n",
    "df.rename(columns={\n",
    "    \"AUC_val\": \"AUC_test\",\n",
    "    \"F1_val\": \"F1_test\",\n",
    "    \"Precision_val\": \"Precision_test\",\n",
    "    \"Recall_val\": \"Recall_test\",\n",
    "    \"Accuracy_val\": \"Accuracy_test\"\n",
    "}, inplace=True)"
   ],
   "id": "9d1879d1db3fe522"
  },
  {
   "metadata": {},
   "cell_type": "code",
   "outputs": [],
   "execution_count": null,
   "source": [
    "# convert to float\n",
    "cols_to_convert = [col for col in df.columns if col not in ['run', \"run_id\", \"name\"]]\n",
    "df.loc[:, cols_to_convert] = df[cols_to_convert].astype(float)"
   ],
   "id": "a9ed91fe7478649"
  },
  {
   "metadata": {},
   "cell_type": "code",
   "outputs": [],
   "execution_count": null,
   "source": [
    "df.sort_values(by=\"AUC_test\", ascending=True, inplace=True)\n",
    "df"
   ],
   "id": "2f467e87274e09b6"
  },
  {
   "metadata": {},
   "cell_type": "code",
   "outputs": [],
   "execution_count": null,
   "source": [
    "fig, ax = plt.subplots(figsize=(7.5, 4))\n",
    "bar_height = 0.35\n",
    "y = range(len(df))\n",
    "\n",
    "# Bars with spacing\n",
    "ax.barh([i + bar_height / 2 for i in y], df[\"AUC_test\"], height=bar_height, label='Test', color=blue_shades[4])\n",
    "ax.barh([i - bar_height / 2 for i in y], df[\"AUC_train\"], height=bar_height, label='Train', color=blue_shades[0])\n",
    "\n",
    "# Labels and legend\n",
    "ax.set_yticks(y)\n",
    "ax.set_yticklabels(df.name)\n",
    "ax.set_xlabel(\"AUC\")\n",
    "ax.set_title(\"PTRnet Ablation Study Results\")\n",
    "ax.legend()\n",
    "# ax.set_xlim(0.5, max(df[\"AUC_test\"].max(), df[\"AUC_train\"].max()) * 1.035)\n",
    "ax.set_xlim(min(df[\"AUC_test\"].min(), df[\"AUC_train\"].min()) * 0.95, max(df[\"AUC_test\"].max(), df[\"AUC_train\"].max()) * 1.02)\n",
    "plt.tight_layout()\n",
    "\n",
    "if STORE:\n",
    "    plt.savefig(os.getenv(\"OUTPUT_DIR\") + f\"/ptrnet_ablation_barplot.pdf\", format=\"pdf\", bbox_inches=\"tight\")\n",
    "\n",
    "plt.show()"
   ],
   "id": "9c26cfee33bce924"
  },
  {
   "metadata": {},
   "cell_type": "markdown",
   "source": "## All metrics table",
   "id": "1e104773cdd9b4c8"
  },
  {
   "metadata": {},
   "cell_type": "code",
   "outputs": [],
   "execution_count": null,
   "source": "# See benchmark_test_results.ipynb",
   "id": "22deef2628a42e37"
  }
 ],
 "metadata": {
  "kernelspec": {
   "name": "python3",
   "language": "python",
   "display_name": "Python 3 (ipykernel)"
  }
 },
 "nbformat": 5,
 "nbformat_minor": 9
}
