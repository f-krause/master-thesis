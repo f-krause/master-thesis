{
 "cells": [
  {
   "metadata": {},
   "cell_type": "code",
   "outputs": [],
   "execution_count": null,
   "source": "# PTRnet Ablation Study Results",
   "id": "1fd9cdb0ec291a20"
  },
  {
   "metadata": {},
   "cell_type": "code",
   "outputs": [],
   "execution_count": null,
   "source": [
    "import os\n",
    "import pandas as pd\n",
    "\n",
    "import numpy as np\n",
    "import matplotlib.pyplot as plt\n",
    "from matplotlib import font_manager as fm\n",
    "from scipy.interpolate import make_interp_spline\n",
    "\n",
    "import utils\n",
    "from custom_colors import blue_shades\n",
    "\n",
    "font_path = r'C:\\Users\\Felix\\AppData\\Local\\Microsoft\\Windows\\Fonts\\SourceSansPro-Regular.ttf'\n",
    "fm.fontManager.addfont(font_path)\n",
    "source_sans_pro = fm.FontProperties(fname=font_path)\n",
    "\n",
    "plt.rcParams['font.family'] = source_sans_pro.get_name()"
   ],
   "id": "7bd289a2ae798760"
  },
  {
   "metadata": {},
   "cell_type": "code",
   "outputs": [],
   "execution_count": null,
   "source": [
    "STORE = True\n",
    "# STORE = False"
   ],
   "id": "8b227a8157c94802"
  },
  {
   "metadata": {},
   "cell_type": "code",
   "outputs": [],
   "execution_count": null,
   "source": [
    "# Load datafile\n",
    "df_raw = pd.read_csv(\"data/runs-12_34_50-10-Jun-25-PTRnet-final.csv\")\n",
    "df_raw.loc[:, \"pretrain\"] = df_raw.experiment.str.contains(\"pretrain\")\n",
    "df_raw = df_raw[df_raw.pretrain == False]\n",
    "df_raw.loc[:, \"run_id_temp\"] = df_raw.experiment.str.split(\"/\").str[2]\n",
    "df_raw.loc[:, \"run_id\"] = df_raw.run_id_temp.str.split(\"_\").str[0]"
   ],
   "id": "daf2d7f0857ffae7"
  },
  {
   "metadata": {},
   "cell_type": "code",
   "outputs": [],
   "execution_count": null,
   "source": "df_raw",
   "id": "cacfda76e1bb2da6"
  },
  {
   "metadata": {},
   "cell_type": "code",
   "outputs": [],
   "execution_count": null,
   "source": [
    "# Assign runnames to ids\n",
    "run_names = {\n",
    "    26: \"baseline (tuned PTRnet)\",\n",
    "    44: \"- codon frequencies\",\n",
    "    27: \"- AUG alignment\",\n",
    "    28: \"OHE of inputs\",\n",
    "    29: \"concat tissue embeddings\",\n",
    "    30: \"sequence only\",\n",
    "    31: \"+ pretraining\",\n",
    "}\n",
    "\n",
    "df_raw[\"run_id\"] = df_raw[\"run_id\"].astype(int)\n",
    "df_raw.loc[:, \"name\"] = df_raw.run_id.map(run_names)"
   ],
   "id": "4504adddbdad57f0"
  },
  {
   "metadata": {},
   "cell_type": "code",
   "outputs": [],
   "execution_count": null,
   "source": "df = df_raw[[\"run\", \"run_id\", \"name\", \"AUC_train\", \"AUC_val\", \"F1_val\", \"Precision_val\", \"Recall_val\", \"Accuracy_val\"]].copy()",
   "id": "cd3f6dfe76eeedd5"
  },
  {
   "metadata": {},
   "cell_type": "code",
   "outputs": [],
   "execution_count": null,
   "source": [
    "# rename columns from _val to _test\n",
    "df.rename(columns={\n",
    "    \"AUC_val\": \"AUC_test\",\n",
    "    \"F1_val\": \"F1_test\",\n",
    "    \"Precision_val\": \"Precision_test\",\n",
    "    \"Recall_val\": \"Recall_test\",\n",
    "    \"Accuracy_val\": \"Accuracy_test\"\n",
    "}, inplace=True)"
   ],
   "id": "fec9938aafedfc2"
  },
  {
   "metadata": {},
   "cell_type": "code",
   "outputs": [],
   "execution_count": null,
   "source": [
    "# convert to float\n",
    "cols_to_convert = [col for col in df.columns if col not in ['run', \"run_id\", \"name\"]]\n",
    "df.loc[:, cols_to_convert] = df[cols_to_convert].astype(float)"
   ],
   "id": "f33df89ede225152"
  },
  {
   "metadata": {},
   "cell_type": "code",
   "outputs": [],
   "execution_count": null,
   "source": [
    "df.sort_values(by=\"AUC_test\", ascending=True, inplace=True)\n",
    "df"
   ],
   "id": "7e8c169a6224692f"
  },
  {
   "metadata": {},
   "cell_type": "code",
   "outputs": [],
   "execution_count": null,
   "source": [
    "fig, ax = plt.subplots(figsize=(7.5, 4))\n",
    "bar_height = 0.35\n",
    "y = range(len(df))\n",
    "\n",
    "# Bars with spacing\n",
    "ax.barh([i + bar_height / 2 for i in y], df[\"AUC_test\"], height=bar_height, label='Test', color=blue_shades[4])\n",
    "ax.barh([i - bar_height / 2 for i in y], df[\"AUC_train\"], height=bar_height, label='Train', color=blue_shades[0])\n",
    "\n",
    "# Labels and legend\n",
    "ax.set_yticks(y)\n",
    "ax.set_yticklabels(df.name)\n",
    "ax.set_xlabel(\"AUC\")\n",
    "ax.set_title(\"PTRnet Ablation Study Results\")\n",
    "ax.legend()\n",
    "# ax.set_xlim(0.5, max(df[\"AUC_test\"].max(), df[\"AUC_train\"].max()) * 1.035)\n",
    "ax.set_xlim(min(df[\"AUC_test\"].min(), df[\"AUC_train\"].min()) * 0.95, max(df[\"AUC_test\"].max(), df[\"AUC_train\"].max()) * 1.02)\n",
    "plt.tight_layout()\n",
    "\n",
    "if STORE:\n",
    "    plt.savefig(os.getenv(\"OUTPUT_DIR\") + f\"/ptrnet_ablation_barplot.pdf\", format=\"pdf\", bbox_inches=\"tight\")\n",
    "\n",
    "plt.show()"
   ],
   "id": "8d37f9fd0a163b"
  },
  {
   "metadata": {},
   "cell_type": "markdown",
   "source": "## All metrics table",
   "id": "b15707fe11059eec"
  },
  {
   "metadata": {},
   "cell_type": "code",
   "outputs": [],
   "execution_count": null,
   "source": "# See benchmark_test_results.ipynb",
   "id": "a9fe4df6cbf35aa1"
  }
 ],
 "metadata": {},
 "nbformat": 5,
 "nbformat_minor": 9
}
